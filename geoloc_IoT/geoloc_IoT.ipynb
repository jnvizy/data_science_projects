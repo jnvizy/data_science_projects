{
 "cells": [
  {
   "cell_type": "markdown",
   "metadata": {},
   "source": [
    "# MS Big Data - Telecom Paristech - Big data pour la géolocalisation d'objets connectés"
   ]
  },
  {
   "cell_type": "markdown",
   "metadata": {},
   "source": [
    "## Importation des modules et des données"
   ]
  },
  {
   "cell_type": "code",
   "execution_count": 42,
   "metadata": {},
   "outputs": [],
   "source": [
    "%matplotlib inline\n",
    "import numpy as np\n",
    "import pandas as pd\n",
    "import matplotlib.pyplot as plt\n",
    "from geopy.distance import vincenty\n",
    "import seaborn as sns\n",
    "from sklearn import linear_model\n",
    "from sklearn.model_selection import train_test_split\n",
    "from scipy.stats import norm\n",
    "from sklearn.ensemble import RandomForestRegressor\n",
    "from sklearn.ensemble import ExtraTreesRegressor\n",
    "from sklearn.model_selection import cross_val_predict\n",
    "from sklearn.linear_model import LinearRegression\n",
    "from sklearn.mixture import GaussianMixture\n",
    "import folium\n",
    "from IPython.display import IFrame"
   ]
  },
  {
   "cell_type": "code",
   "execution_count": 2,
   "metadata": {},
   "outputs": [],
   "source": [
    "# load train and test data\n",
    "path = \"C:/Users/JN/Desktop/Telecom PT/IoT/TP/TPgeoloc/TP_geoloc/\"\n",
    "df_mess_train = pd.read_csv(path+'mess_train_list.csv')\n",
    "df_mess_test = pd.read_csv(path+'mess_test_list.csv')\n",
    "pos_train = pd.read_csv(path+'pos_train_list.csv')"
   ]
  },
  {
   "cell_type": "code",
   "execution_count": 3,
   "metadata": {
    "scrolled": true
   },
   "outputs": [
    {
     "data": {
      "text/plain": [
       "259"
      ]
     },
     "execution_count": 3,
     "metadata": {},
     "output_type": "execute_result"
    }
   ],
   "source": [
    "# determine all Base stations that received at least 1 message\n",
    "listOfBs = np.union1d(np.unique(df_mess_train['bsid']), np.unique(df_mess_test['bsid'])) \n",
    "len(listOfBs)"
   ]
  },
  {
   "cell_type": "markdown",
   "metadata": {},
   "source": [
    "## Exploration des données"
   ]
  },
  {
   "cell_type": "code",
   "execution_count": 29,
   "metadata": {},
   "outputs": [],
   "source": [
    "# DataFrame des coordonnées tous les bs qui ont reçu au moins un message :\n",
    "bsid_train = df_mess_train[['bsid', 'bs_lat', 'bs_lng']]\n",
    "bsid_test = df_mess_test[['bsid', 'bs_lat', 'bs_lng']]\n",
    "bsid_merged = pd.concat([bsid_train, bsid_test])\n",
    "listOfBsDF = bsid_merged.drop_duplicates()\n",
    "listOfBsDF = listOfBsDF.reset_index().drop('index', axis=1)\n",
    "\n",
    "pos_train_U = pos_train.drop_duplicates()\n",
    "pos_train_U = pos_train_U.reset_index().drop('index', axis=1)"
   ]
  },
  {
   "cell_type": "markdown",
   "metadata": {},
   "source": [
    "Sur la base des coordonnées fournies, nous positionnons sur une carte les bornes réceptrices des messages de train et de test ('bsid'), diffusés par l'ensemble des devices ('did') :"
   ]
  },
  {
   "cell_type": "code",
   "execution_count": 44,
   "metadata": {},
   "outputs": [
    {
     "data": {
      "text/html": [
       "\n",
       "        <iframe\n",
       "            width=\"900\"\n",
       "            height=\"500\"\n",
       "            src=\"bsid_usa_general.html\"\n",
       "            frameborder=\"0\"\n",
       "            allowfullscreen\n",
       "        ></iframe>\n",
       "        "
      ],
      "text/plain": [
       "<IPython.lib.display.IFrame at 0x1de14d1c4e0>"
      ]
     },
     "execution_count": 44,
     "metadata": {},
     "output_type": "execute_result"
    }
   ],
   "source": [
    "#### bsid #####\n",
    "\n",
    "map_osm = folium.Map(location=[55, -90], zoom_start=3, tiles='Stamen Terrain') #OpenStreetMap #Stamen Terrain\n",
    "\n",
    "for i in range(len(listOfBsDF)-1):\n",
    "    folium.Marker([listOfBsDF['bs_lat'][i], listOfBsDF['bs_lng'][i]], \n",
    "                  popup=listOfBsDF.iloc[i]['bsid'].astype(int).astype(str)).add_to(map_osm)\n",
    "        \n",
    "map_osm.save('bsid_usa_general.html')\n",
    "\n",
    "IFrame(src='bsid_usa_general.html', width=900, height=500)"
   ]
  },
  {
   "cell_type": "markdown",
   "metadata": {},
   "source": [
    "#### Nous observons une répartition relativement homogène de ces bornes, suivant un axe traversant les Etats-Unis, du sud du Colorado jusqu'au nord de l'état du Wyoming.\n",
    "Nous constatons que le périmètre dans lequel se situe ces bornes est essentiellement constitué d'une zone urbaine et d'une zone dont le relief est plus accidenté, le maillage de bornes dans le milieu urbain se faisant plus dense que celui de la zone accidentée, dans laquelle il est plus éparse."
   ]
  },
  {
   "cell_type": "code",
   "execution_count": 43,
   "metadata": {},
   "outputs": [
    {
     "data": {
      "text/html": [
       "\n",
       "        <iframe\n",
       "            width=\"900\"\n",
       "            height=\"500\"\n",
       "            src=\"bsid_states_zoom1.html\"\n",
       "            frameborder=\"0\"\n",
       "            allowfullscreen\n",
       "        ></iframe>\n",
       "        "
      ],
      "text/plain": [
       "<IPython.lib.display.IFrame at 0x1de13c47550>"
      ]
     },
     "execution_count": 43,
     "metadata": {},
     "output_type": "execute_result"
    }
   ],
   "source": [
    "#### bsid train + test #####\n",
    "\n",
    "map_osm = folium.Map(location=[40, -105], zoom_start=6, tiles='Stamen Terrain') #OpenStreetMap\n",
    "\n",
    "for i in range(len(listOfBsDF)-1):\n",
    "    folium.Marker([listOfBsDF['bs_lat'][i], listOfBsDF['bs_lng'][i]], \n",
    "                  popup=listOfBsDF.iloc[i]['bsid'].astype(int).astype(str)).add_to(map_osm)\n",
    "\n",
    "        \n",
    "map_osm.save('bsid_states_zoom1.html')\n",
    "\n",
    "IFrame(src='bsid_states_zoom1.html', width=900, height=500)"
   ]
  },
  {
   "cell_type": "markdown",
   "metadata": {},
   "source": [
    "#### Détection d'outliers (1/2) :\n",
    "Nous remarquons la présence d'une première borne isolée, très éloignée des autres et de tout autre device (plusieurs milliers de kilomètres), se situant dans le passage du Nord-Ouest dans l'archipel arctique canadien (dans le territoire du Nunavut) :"
   ]
  },
  {
   "cell_type": "code",
   "execution_count": 45,
   "metadata": {},
   "outputs": [
    {
     "data": {
      "text/html": [
       "\n",
       "        <iframe\n",
       "            width=\"900\"\n",
       "            height=\"500\"\n",
       "            src=\"bsid_usa.html\"\n",
       "            frameborder=\"0\"\n",
       "            allowfullscreen\n",
       "        ></iframe>\n",
       "        "
      ],
      "text/plain": [
       "<IPython.lib.display.IFrame at 0x1de14fc1c50>"
      ]
     },
     "execution_count": 45,
     "metadata": {},
     "output_type": "execute_result"
    }
   ],
   "source": [
    "#### bsid train + test / Outlier 1/3 #####\n",
    "\n",
    "map_osm = folium.Map(location=[55, -90], zoom_start=3, tiles='Stamen Terrain') #OpenStreetMap #Stamen Terrain\n",
    "\n",
    "for i in range(len(listOfBsDF)-1):\n",
    "    folium.Marker([listOfBsDF['bs_lat'][i], listOfBsDF['bs_lng'][i]], \n",
    "                  popup=listOfBsDF.iloc[i]['bsid'].astype(int).astype(str)).add_to(map_osm)\n",
    "\n",
    "folium.Circle(\n",
    "    radius=200000,\n",
    "    location=[64.3, -68.5],\n",
    "    color='crimson',\n",
    "    fill=True)\\\n",
    "    .add_to(map_osm)\n",
    "        \n",
    "map_osm.save('bsid_usa.html')\n",
    "\n",
    "IFrame(src='bsid_usa.html', width=900, height=500)"
   ]
  },
  {
   "cell_type": "markdown",
   "metadata": {},
   "source": [
    "#### Détection d'outliers (2/2) :\n",
    "Nous remarquons ensuite, une balise isolée dans le nord du Montana, à près de 1000 km des autres bornes ou device :"
   ]
  },
  {
   "cell_type": "code",
   "execution_count": 61,
   "metadata": {},
   "outputs": [
    {
     "data": {
      "text/html": [
       "\n",
       "        <iframe\n",
       "            width=\"900\"\n",
       "            height=\"500\"\n",
       "            src=\"bsid_states1.html\"\n",
       "            frameborder=\"0\"\n",
       "            allowfullscreen\n",
       "        ></iframe>\n",
       "        "
      ],
      "text/plain": [
       "<IPython.lib.display.IFrame at 0x1de15ae4a20>"
      ]
     },
     "execution_count": 61,
     "metadata": {},
     "output_type": "execute_result"
    }
   ],
   "source": [
    "#### bsid train + test / Outlier 2/3 #####\n",
    "\n",
    "map_osm = folium.Map(location=[43, -105], zoom_start=5, tiles='Stamen Terrain') #OpenStreetMap\n",
    "\n",
    "for i in range(len(listOfBsDF)-1):\n",
    "    folium.Marker([listOfBsDF['bs_lat'][i], listOfBsDF['bs_lng'][i]], \n",
    "                  popup=listOfBsDF.iloc[i]['bsid'].astype(int).astype(str)).add_to(map_osm)\n",
    "\n",
    "folium.Circle(\n",
    "    radius=80000,\n",
    "    location=[48.072889, -110.957181],\n",
    "    color='crimson',\n",
    "    fill=True)\\\n",
    "    .add_to(map_osm)\n",
    "\n",
    "folium.Circle(\n",
    "    radius=80000,   \n",
    "    location=[43.429223, -103.479163],\n",
    "    color='crimson',\n",
    "    fill=True)\\\n",
    "    .add_to(map_osm)\n",
    "        \n",
    "map_osm.save('bsid_states1.html')\n",
    "\n",
    "IFrame(src='bsid_states1.html', width=900, height=500)"
   ]
  },
  {
   "cell_type": "markdown",
   "metadata": {},
   "source": [
    "Enfin, nous observons 10 balises situées dans le Dakota du Sud, à plus de 300km des autres balises et devices."
   ]
  },
  {
   "cell_type": "markdown",
   "metadata": {},
   "source": [
    "La superposition de la position des balises captant les messages des devices dans le jeu de données d'entrainement, avec la position des devices eux-mêmes, nous montre qu'aucun device ne se situe à proximité de ces outliers.\n",
    "Ces derniers ne nous aideraient alors pas dans notre démarche de prédiction de leur position.\n",
    "\n",
    "\n",
    "Nous pouvons donc légitimement nous interroger sur la pertinence de la suppression de ces outliers pour la construction de notre modèle.\n",
    "\n",
    "\n",
    "Il serait néanmoins utile de déterminer si les devices dont les messages sont captés par ces outliers présentent des caractéristiques communes afin de ne pas perdre d'information à l'issue de cette suppression."
   ]
  },
  {
   "cell_type": "code",
   "execution_count": 49,
   "metadata": {},
   "outputs": [
    {
     "name": "stdout",
     "output_type": "stream",
     "text": [
      "\n",
      " Superposition des balises (en noir) et des devices (en rouge) du jeu d'entrainement : \n"
     ]
    },
    {
     "data": {
      "text/html": [
       "\n",
       "        <iframe\n",
       "            width=\"700\"\n",
       "            height=\"600\"\n",
       "            src=\"bsid_superpose.html\"\n",
       "            frameborder=\"0\"\n",
       "            allowfullscreen\n",
       "        ></iframe>\n",
       "        "
      ],
      "text/plain": [
       "<IPython.lib.display.IFrame at 0x1de14f17fd0>"
      ]
     },
     "execution_count": 49,
     "metadata": {},
     "output_type": "execute_result"
    }
   ],
   "source": [
    "#### bsid_train + pos_train + bsid_test #####\n",
    "\n",
    "print(\"\\n Superposition des balises (en noir) et des devices (en rouge) du jeu d'entrainement : \")\n",
    "\n",
    "map_osm = folium.Map(location=[listOfBsDF['bs_lat'][87], listOfBsDF['bs_lng'][87]], zoom_start=6, tiles='OpenStreetMap') #OpenStreetMap #Stamen Terrain\n",
    "\n",
    "for i in range(len(pos_train_U)-1):\n",
    "    folium.Circle(\n",
    "        radius=10,\n",
    "        location=[pos_train_U['lat'][i], pos_train_U['lng'][i]],\n",
    "        color='crimson',\n",
    "        fill=True)\\\n",
    "    .add_to(map_osm)\n",
    "    \n",
    "for j in range(len(listOfBsDF)-1):\n",
    "    folium.Circle(\n",
    "        radius=30,\n",
    "        location=[listOfBsDF['bs_lat'][j], listOfBsDF['bs_lng'][j]],\n",
    "        popup=listOfBsDF.iloc[j]['bsid'].astype(int).astype(str),\n",
    "        color='black',\n",
    "        fill=True)\\\n",
    "    .add_to(map_osm)\n",
    "\n",
    "map_osm.save('bsid_superpose.html')\n",
    "\n",
    "IFrame(src='bsid_superpose.html', width=700, height=600)"
   ]
  },
  {
   "cell_type": "code",
   "execution_count": 50,
   "metadata": {
    "scrolled": true
   },
   "outputs": [
    {
     "name": "stdout",
     "output_type": "stream",
     "text": [
      "\n",
      " Tableaux des outliers (balises):\n"
     ]
    },
    {
     "data": {
      "text/html": [
       "<div>\n",
       "<style scoped>\n",
       "    .dataframe tbody tr th:only-of-type {\n",
       "        vertical-align: middle;\n",
       "    }\n",
       "\n",
       "    .dataframe tbody tr th {\n",
       "        vertical-align: top;\n",
       "    }\n",
       "\n",
       "    .dataframe thead th {\n",
       "        text-align: right;\n",
       "    }\n",
       "</style>\n",
       "<table border=\"1\" class=\"dataframe\">\n",
       "  <thead>\n",
       "    <tr style=\"text-align: right;\">\n",
       "      <th></th>\n",
       "      <th>bsid</th>\n",
       "      <th>bs_lat</th>\n",
       "      <th>bs_lng</th>\n",
       "    </tr>\n",
       "  </thead>\n",
       "  <tbody>\n",
       "    <tr>\n",
       "      <th>256</th>\n",
       "      <td>9941</td>\n",
       "      <td>64.300000</td>\n",
       "      <td>-68.500000</td>\n",
       "    </tr>\n",
       "    <tr>\n",
       "      <th>255</th>\n",
       "      <td>9936</td>\n",
       "      <td>48.072889</td>\n",
       "      <td>-110.957181</td>\n",
       "    </tr>\n",
       "    <tr>\n",
       "      <th>234</th>\n",
       "      <td>2808</td>\n",
       "      <td>43.599230</td>\n",
       "      <td>-103.712388</td>\n",
       "    </tr>\n",
       "    <tr>\n",
       "      <th>232</th>\n",
       "      <td>3848</td>\n",
       "      <td>43.614138</td>\n",
       "      <td>-103.723449</td>\n",
       "    </tr>\n",
       "    <tr>\n",
       "      <th>236</th>\n",
       "      <td>2800</td>\n",
       "      <td>43.631515</td>\n",
       "      <td>-103.765896</td>\n",
       "    </tr>\n",
       "    <tr>\n",
       "      <th>238</th>\n",
       "      <td>3501</td>\n",
       "      <td>43.639226</td>\n",
       "      <td>-103.761023</td>\n",
       "    </tr>\n",
       "    <tr>\n",
       "      <th>239</th>\n",
       "      <td>4013</td>\n",
       "      <td>43.651403</td>\n",
       "      <td>-103.745268</td>\n",
       "    </tr>\n",
       "    <tr>\n",
       "      <th>233</th>\n",
       "      <td>2803</td>\n",
       "      <td>43.657077</td>\n",
       "      <td>-103.756890</td>\n",
       "    </tr>\n",
       "    <tr>\n",
       "      <th>235</th>\n",
       "      <td>3630</td>\n",
       "      <td>43.657480</td>\n",
       "      <td>-103.790401</td>\n",
       "    </tr>\n",
       "    <tr>\n",
       "      <th>237</th>\n",
       "      <td>3933</td>\n",
       "      <td>43.671528</td>\n",
       "      <td>-103.815822</td>\n",
       "    </tr>\n",
       "    <tr>\n",
       "      <th>240</th>\n",
       "      <td>1443</td>\n",
       "      <td>43.725754</td>\n",
       "      <td>-103.671045</td>\n",
       "    </tr>\n",
       "    <tr>\n",
       "      <th>231</th>\n",
       "      <td>7508</td>\n",
       "      <td>43.065924</td>\n",
       "      <td>-103.831941</td>\n",
       "    </tr>\n",
       "  </tbody>\n",
       "</table>\n",
       "</div>"
      ],
      "text/plain": [
       "     bsid     bs_lat      bs_lng\n",
       "256  9941  64.300000  -68.500000\n",
       "255  9936  48.072889 -110.957181\n",
       "234  2808  43.599230 -103.712388\n",
       "232  3848  43.614138 -103.723449\n",
       "236  2800  43.631515 -103.765896\n",
       "238  3501  43.639226 -103.761023\n",
       "239  4013  43.651403 -103.745268\n",
       "233  2803  43.657077 -103.756890\n",
       "235  3630  43.657480 -103.790401\n",
       "237  3933  43.671528 -103.815822\n",
       "240  1443  43.725754 -103.671045\n",
       "231  7508  43.065924 -103.831941"
      ]
     },
     "execution_count": 50,
     "metadata": {},
     "output_type": "execute_result"
    }
   ],
   "source": [
    "#bsid outliers :\n",
    "print('\\n Tableaux des outliers (balises):')\n",
    "pd.concat([listOfBsDF[listOfBsDF['bsid']==9941],\n",
    "           listOfBsDF[listOfBsDF['bsid']==9936],\n",
    "           listOfBsDF[listOfBsDF['bsid']==2808],\n",
    "          listOfBsDF[listOfBsDF['bsid']==3848],\n",
    "           listOfBsDF[listOfBsDF['bsid']==2800],\n",
    "           listOfBsDF[listOfBsDF['bsid']==3501],\n",
    "           listOfBsDF[listOfBsDF['bsid']==4013],\n",
    "          listOfBsDF[listOfBsDF['bsid']==2803],\n",
    "           listOfBsDF[listOfBsDF['bsid']==3630],\n",
    "           listOfBsDF[listOfBsDF['bsid']==3933],\n",
    "           listOfBsDF[listOfBsDF['bsid']==1443],\n",
    "          listOfBsDF[listOfBsDF['bsid']==7508]])\n",
    "\n",
    "# 9941, 9936, 2808, 3848, 2800, 3501, 4013, 2803, 3630, 3933, 1443, 7508"
   ]
  },
  {
   "cell_type": "markdown",
   "metadata": {},
   "source": [
    "#### Recherche de corrélations entre les variables"
   ]
  },
  {
   "cell_type": "code",
   "execution_count": 51,
   "metadata": {},
   "outputs": [
    {
     "name": "stderr",
     "output_type": "stream",
     "text": [
      "C:\\Users\\JN\\Anaconda3\\lib\\site-packages\\scipy\\stats\\stats.py:1713: FutureWarning: Using a non-tuple sequence for multidimensional indexing is deprecated; use `arr[tuple(seq)]` instead of `arr[seq]`. In the future this will be interpreted as an array index, `arr[np.array(seq)]`, which will result either in an error or a different result.\n",
      "  return np.add.reduce(sorted[indexer] * weights, axis=axis) / sumval\n"
     ]
    },
    {
     "data": {
      "image/png": "[encoded data removed]",
      "text/plain": [
       "<Figure size 900x900 with 30 Axes>"
      ]
     },
     "metadata": {
      "needs_background": "light"
     },
     "output_type": "display_data"
    }
   ],
   "source": [
    "v, w, x, y, z = \\\n",
    "df_mess_train['bsid'],\\\n",
    "df_mess_train['did'],\\\n",
    "df_mess_train['nseq'],\\\n",
    "df_mess_train['rssi'],\\\n",
    "df_mess_train['time_ux']\n",
    "\n",
    "df2 = np.transpose(np.vstack((v,w,x,y,z)))\n",
    "df2 = pd.DataFrame(df2)\n",
    "\n",
    "sns.pairplot(df2,  diag_kind=\"kde\", markers = '+', plot_kws=dict(s=30, edgecolor=\"b\", linewidth=1), \\\n",
    "             diag_kws=dict(shade=True))\n",
    "plt.show()"
   ]
  },
  {
   "cell_type": "markdown",
   "metadata": {},
   "source": [
    "Nous n'obervons pas de relation particulière entre les paires de variables explicatives."
   ]
  },
  {
   "cell_type": "code",
   "execution_count": 52,
   "metadata": {},
   "outputs": [
    {
     "data": {
      "text/plain": [
       "<matplotlib.axes._subplots.AxesSubplot at 0x1de1c836a58>"
      ]
     },
     "execution_count": 52,
     "metadata": {},
     "output_type": "execute_result"
    },
    {
     "data": {
      "image/png": "[encoded data removed]",
      "text/plain": [
       "<Figure size 792x648 with 2 Axes>"
      ]
     },
     "metadata": {},
     "output_type": "display_data"
    }
   ],
   "source": [
    "sns.set(style=\"white\")\n",
    "\n",
    "# Generate a mask for the upper triangle\n",
    "mask = np.zeros_like(df_mess_train.corr(), dtype=np.bool)\n",
    "mask[np.triu_indices_from(mask)] = True\n",
    "\n",
    "# Set up the matplotlib figure\n",
    "f, ax = plt.subplots(figsize=(11, 9))\n",
    "\n",
    "# Generate a custom diverging colormap\n",
    "cmap = sns.diverging_palette(220, 10, as_cmap=True)\n",
    "\n",
    "# Draw the heatmap with the mask and correct aspect ratio\n",
    "sns.heatmap(df_mess_train.corr(), mask=mask, cmap=cmap, vmax=0.8, center=0,\n",
    "            square=True, linewidths=.5, cbar_kws={\"shrink\": .5})"
   ]
  },
  {
   "cell_type": "markdown",
   "metadata": {},
   "source": [
    "La heatmap confirme notre remarque précédente : il semble ne pas y avoir de corrélation entre variables explicatives (hormis bs_lng et bs_lat)."
   ]
  },
  {
   "cell_type": "markdown",
   "metadata": {},
   "source": [
    "#### Différences entre le train set et le test set"
   ]
  },
  {
   "cell_type": "markdown",
   "metadata": {},
   "source": [
    "On remarque que 38 bsids qui sont présents dans le test set sont absents du train set"
   ]
  },
  {
   "cell_type": "code",
   "execution_count": 116,
   "metadata": {},
   "outputs": [
    {
     "data": {
      "text/plain": [
       "38"
      ]
     },
     "execution_count": 116,
     "metadata": {},
     "output_type": "execute_result"
    }
   ],
   "source": [
    "new_bsids = [k for k in df_mess_test['bsid'].values if k not in df_mess_train['bsid'].values]\n",
    "old_bsids = df_mess_train['bsid'].unique()\n",
    "len(new_bsids)"
   ]
  },
  {
   "cell_type": "markdown",
   "metadata": {},
   "source": [
    "On constate que 33 messages ont été captés par ces bsids:"
   ]
  },
  {
   "cell_type": "code",
   "execution_count": 109,
   "metadata": {},
   "outputs": [
    {
     "data": {
      "text/plain": [
       "33"
      ]
     },
     "execution_count": 109,
     "metadata": {},
     "output_type": "execute_result"
    }
   ],
   "source": [
    "msg_new_bsids_idx = df_mess_test[df_mess_test['bsid'].isin(new_bsids)].messid.unique()\n",
    "len(msg_new_bsids_idx)"
   ]
  },
  {
   "cell_type": "markdown",
   "metadata": {},
   "source": [
    "Ces messages apparaissent 76 fois dans le test set:"
   ]
  },
  {
   "cell_type": "code",
   "execution_count": 119,
   "metadata": {},
   "outputs": [
    {
     "data": {
      "text/html": [
       "<div>\n",
       "<style scoped>\n",
       "    .dataframe tbody tr th:only-of-type {\n",
       "        vertical-align: middle;\n",
       "    }\n",
       "\n",
       "    .dataframe tbody tr th {\n",
       "        vertical-align: top;\n",
       "    }\n",
       "\n",
       "    .dataframe thead th {\n",
       "        text-align: right;\n",
       "    }\n",
       "</style>\n",
       "<table border=\"1\" class=\"dataframe\">\n",
       "  <thead>\n",
       "    <tr style=\"text-align: right;\">\n",
       "      <th></th>\n",
       "      <th>messid</th>\n",
       "      <th>bsid</th>\n",
       "      <th>did</th>\n",
       "      <th>nseq</th>\n",
       "      <th>rssi</th>\n",
       "      <th>time_ux</th>\n",
       "      <th>bs_lat</th>\n",
       "      <th>bs_lng</th>\n",
       "    </tr>\n",
       "  </thead>\n",
       "  <tbody>\n",
       "    <tr>\n",
       "      <th>3775</th>\n",
       "      <td>575ba63e864fce5689565f66</td>\n",
       "      <td>3034</td>\n",
       "      <td>472960.0</td>\n",
       "      <td>2.0</td>\n",
       "      <td>-131.000000</td>\n",
       "      <td>1.465624e+12</td>\n",
       "      <td>41.827396</td>\n",
       "      <td>-106.833117</td>\n",
       "    </tr>\n",
       "    <tr>\n",
       "      <th>3776</th>\n",
       "      <td>575ba63e864fce5689565f66</td>\n",
       "      <td>3828</td>\n",
       "      <td>472960.0</td>\n",
       "      <td>1.0</td>\n",
       "      <td>-132.500000</td>\n",
       "      <td>1.465624e+12</td>\n",
       "      <td>41.843843</td>\n",
       "      <td>-106.810148</td>\n",
       "    </tr>\n",
       "    <tr>\n",
       "      <th>8413</th>\n",
       "      <td>578a1045cf554f22c1e41064</td>\n",
       "      <td>3034</td>\n",
       "      <td>472151.0</td>\n",
       "      <td>1.0</td>\n",
       "      <td>-126.000000</td>\n",
       "      <td>1.468666e+12</td>\n",
       "      <td>41.827396</td>\n",
       "      <td>-106.833117</td>\n",
       "    </tr>\n",
       "    <tr>\n",
       "      <th>8414</th>\n",
       "      <td>578a1045cf554f22c1e41064</td>\n",
       "      <td>3828</td>\n",
       "      <td>472151.0</td>\n",
       "      <td>2.0</td>\n",
       "      <td>-135.000000</td>\n",
       "      <td>1.468666e+12</td>\n",
       "      <td>41.843843</td>\n",
       "      <td>-106.810148</td>\n",
       "    </tr>\n",
       "    <tr>\n",
       "      <th>12501</th>\n",
       "      <td>57a9e6e612f14345913afbc5</td>\n",
       "      <td>9783</td>\n",
       "      <td>473281.0</td>\n",
       "      <td>1.0</td>\n",
       "      <td>-140.000000</td>\n",
       "      <td>1.470752e+12</td>\n",
       "      <td>36.785088</td>\n",
       "      <td>-102.737426</td>\n",
       "    </tr>\n",
       "    <tr>\n",
       "      <th>12502</th>\n",
       "      <td>57a9e99c12f14345913ce528</td>\n",
       "      <td>9783</td>\n",
       "      <td>473281.0</td>\n",
       "      <td>1.0</td>\n",
       "      <td>-139.333333</td>\n",
       "      <td>1.470753e+12</td>\n",
       "      <td>36.785088</td>\n",
       "      <td>-102.737426</td>\n",
       "    </tr>\n",
       "    <tr>\n",
       "      <th>12505</th>\n",
       "      <td>57a9ec69cf554f465adc2dd8</td>\n",
       "      <td>9783</td>\n",
       "      <td>473281.0</td>\n",
       "      <td>0.5</td>\n",
       "      <td>-135.000000</td>\n",
       "      <td>1.470754e+12</td>\n",
       "      <td>36.785088</td>\n",
       "      <td>-102.737426</td>\n",
       "    </tr>\n",
       "    <tr>\n",
       "      <th>12507</th>\n",
       "      <td>57a9edcdcf554f465add3c93</td>\n",
       "      <td>9783</td>\n",
       "      <td>473281.0</td>\n",
       "      <td>2.0</td>\n",
       "      <td>-139.000000</td>\n",
       "      <td>1.470754e+12</td>\n",
       "      <td>36.785088</td>\n",
       "      <td>-102.737426</td>\n",
       "    </tr>\n",
       "    <tr>\n",
       "      <th>12508</th>\n",
       "      <td>57a9ef27cf554f465ade591a</td>\n",
       "      <td>9783</td>\n",
       "      <td>473281.0</td>\n",
       "      <td>1.0</td>\n",
       "      <td>-140.666667</td>\n",
       "      <td>1.470755e+12</td>\n",
       "      <td>36.785088</td>\n",
       "      <td>-102.737426</td>\n",
       "    </tr>\n",
       "    <tr>\n",
       "      <th>12509</th>\n",
       "      <td>57a9f084e541cd77a020313d</td>\n",
       "      <td>9783</td>\n",
       "      <td>473281.0</td>\n",
       "      <td>2.0</td>\n",
       "      <td>-140.000000</td>\n",
       "      <td>1.470755e+12</td>\n",
       "      <td>36.785088</td>\n",
       "      <td>-102.737426</td>\n",
       "    </tr>\n",
       "    <tr>\n",
       "      <th>12510</th>\n",
       "      <td>57a9f5ebcf554f465ae32fa3</td>\n",
       "      <td>9783</td>\n",
       "      <td>473281.0</td>\n",
       "      <td>1.0</td>\n",
       "      <td>-140.000000</td>\n",
       "      <td>1.470756e+12</td>\n",
       "      <td>36.785088</td>\n",
       "      <td>-102.737426</td>\n",
       "    </tr>\n",
       "    <tr>\n",
       "      <th>12511</th>\n",
       "      <td>57a9fcebcf554f465ae81787</td>\n",
       "      <td>9783</td>\n",
       "      <td>473281.0</td>\n",
       "      <td>1.5</td>\n",
       "      <td>-137.500000</td>\n",
       "      <td>1.470758e+12</td>\n",
       "      <td>36.785088</td>\n",
       "      <td>-102.737426</td>\n",
       "    </tr>\n",
       "    <tr>\n",
       "      <th>12512</th>\n",
       "      <td>57a9fe4812f14345914bcb8e</td>\n",
       "      <td>9783</td>\n",
       "      <td>473281.0</td>\n",
       "      <td>1.5</td>\n",
       "      <td>-133.000000</td>\n",
       "      <td>1.470758e+12</td>\n",
       "      <td>36.785088</td>\n",
       "      <td>-102.737426</td>\n",
       "    </tr>\n",
       "    <tr>\n",
       "      <th>12513</th>\n",
       "      <td>57a9ffa212f14345914cbe21</td>\n",
       "      <td>9783</td>\n",
       "      <td>473281.0</td>\n",
       "      <td>0.0</td>\n",
       "      <td>-142.000000</td>\n",
       "      <td>1.470759e+12</td>\n",
       "      <td>36.785088</td>\n",
       "      <td>-102.737426</td>\n",
       "    </tr>\n",
       "    <tr>\n",
       "      <th>12514</th>\n",
       "      <td>57aa051612f1434591506a5e</td>\n",
       "      <td>9783</td>\n",
       "      <td>473281.0</td>\n",
       "      <td>1.0</td>\n",
       "      <td>-133.500000</td>\n",
       "      <td>1.470760e+12</td>\n",
       "      <td>36.785088</td>\n",
       "      <td>-102.737426</td>\n",
       "    </tr>\n",
       "    <tr>\n",
       "      <th>12520</th>\n",
       "      <td>57aa0bd8cf554f465af23a72</td>\n",
       "      <td>9783</td>\n",
       "      <td>473281.0</td>\n",
       "      <td>0.5</td>\n",
       "      <td>-136.000000</td>\n",
       "      <td>1.470762e+12</td>\n",
       "      <td>36.785088</td>\n",
       "      <td>-102.737426</td>\n",
       "    </tr>\n",
       "    <tr>\n",
       "      <th>12523</th>\n",
       "      <td>57aa0eadcf554f465af427a4</td>\n",
       "      <td>9783</td>\n",
       "      <td>473281.0</td>\n",
       "      <td>2.0</td>\n",
       "      <td>-139.000000</td>\n",
       "      <td>1.470763e+12</td>\n",
       "      <td>36.785088</td>\n",
       "      <td>-102.737426</td>\n",
       "    </tr>\n",
       "    <tr>\n",
       "      <th>12528</th>\n",
       "      <td>57aa17b112f14345915cdd1f</td>\n",
       "      <td>9783</td>\n",
       "      <td>473281.0</td>\n",
       "      <td>2.0</td>\n",
       "      <td>-141.000000</td>\n",
       "      <td>1.470765e+12</td>\n",
       "      <td>36.785088</td>\n",
       "      <td>-102.737426</td>\n",
       "    </tr>\n",
       "    <tr>\n",
       "      <th>12529</th>\n",
       "      <td>57aa1908e541cd77a03bd849</td>\n",
       "      <td>9783</td>\n",
       "      <td>473281.0</td>\n",
       "      <td>1.0</td>\n",
       "      <td>-135.666667</td>\n",
       "      <td>1.470765e+12</td>\n",
       "      <td>36.785088</td>\n",
       "      <td>-102.737426</td>\n",
       "    </tr>\n",
       "    <tr>\n",
       "      <th>12530</th>\n",
       "      <td>57aa1a63cf554f465afbed76</td>\n",
       "      <td>9783</td>\n",
       "      <td>473281.0</td>\n",
       "      <td>1.0</td>\n",
       "      <td>-137.666667</td>\n",
       "      <td>1.470766e+12</td>\n",
       "      <td>36.785088</td>\n",
       "      <td>-102.737426</td>\n",
       "    </tr>\n",
       "    <tr>\n",
       "      <th>12531</th>\n",
       "      <td>57aa1bbd12f14345915f6d11</td>\n",
       "      <td>9783</td>\n",
       "      <td>473281.0</td>\n",
       "      <td>0.5</td>\n",
       "      <td>-139.000000</td>\n",
       "      <td>1.470766e+12</td>\n",
       "      <td>36.785088</td>\n",
       "      <td>-102.737426</td>\n",
       "    </tr>\n",
       "    <tr>\n",
       "      <th>12544</th>\n",
       "      <td>57aa1d1812f1434591604c90</td>\n",
       "      <td>9783</td>\n",
       "      <td>473281.0</td>\n",
       "      <td>1.0</td>\n",
       "      <td>-138.000000</td>\n",
       "      <td>1.470766e+12</td>\n",
       "      <td>36.785088</td>\n",
       "      <td>-102.737426</td>\n",
       "    </tr>\n",
       "    <tr>\n",
       "      <th>12545</th>\n",
       "      <td>57aa1e70cf554f465afe838e</td>\n",
       "      <td>9783</td>\n",
       "      <td>473281.0</td>\n",
       "      <td>1.0</td>\n",
       "      <td>-136.000000</td>\n",
       "      <td>1.470767e+12</td>\n",
       "      <td>36.785088</td>\n",
       "      <td>-102.737426</td>\n",
       "    </tr>\n",
       "    <tr>\n",
       "      <th>12546</th>\n",
       "      <td>57aa1fcfcf554f465aff70b2</td>\n",
       "      <td>9783</td>\n",
       "      <td>473281.0</td>\n",
       "      <td>1.0</td>\n",
       "      <td>-141.000000</td>\n",
       "      <td>1.470767e+12</td>\n",
       "      <td>36.785088</td>\n",
       "      <td>-102.737426</td>\n",
       "    </tr>\n",
       "    <tr>\n",
       "      <th>12547</th>\n",
       "      <td>57aa212acf554f465a00568b</td>\n",
       "      <td>9783</td>\n",
       "      <td>473281.0</td>\n",
       "      <td>1.0</td>\n",
       "      <td>-135.666667</td>\n",
       "      <td>1.470767e+12</td>\n",
       "      <td>36.785088</td>\n",
       "      <td>-102.737426</td>\n",
       "    </tr>\n",
       "    <tr>\n",
       "      <th>12554</th>\n",
       "      <td>57aa2292cf554f465a013bef</td>\n",
       "      <td>9783</td>\n",
       "      <td>473281.0</td>\n",
       "      <td>1.0</td>\n",
       "      <td>-131.000000</td>\n",
       "      <td>1.470768e+12</td>\n",
       "      <td>36.785088</td>\n",
       "      <td>-102.737426</td>\n",
       "    </tr>\n",
       "    <tr>\n",
       "      <th>13431</th>\n",
       "      <td>57b99c16cf554f465ad8de48</td>\n",
       "      <td>9949</td>\n",
       "      <td>472066.0</td>\n",
       "      <td>2.0</td>\n",
       "      <td>-122.000000</td>\n",
       "      <td>1.471782e+12</td>\n",
       "      <td>64.300000</td>\n",
       "      <td>-68.500000</td>\n",
       "    </tr>\n",
       "    <tr>\n",
       "      <th>13434</th>\n",
       "      <td>57b9eff912f1434591626c19</td>\n",
       "      <td>9949</td>\n",
       "      <td>472066.0</td>\n",
       "      <td>1.0</td>\n",
       "      <td>-118.666667</td>\n",
       "      <td>1.471803e+12</td>\n",
       "      <td>64.300000</td>\n",
       "      <td>-68.500000</td>\n",
       "    </tr>\n",
       "    <tr>\n",
       "      <th>14667</th>\n",
       "      <td>57cbf92412f1437531983238</td>\n",
       "      <td>9936</td>\n",
       "      <td>472066.0</td>\n",
       "      <td>1.0</td>\n",
       "      <td>-118.333333</td>\n",
       "      <td>1.472985e+12</td>\n",
       "      <td>48.072889</td>\n",
       "      <td>-110.957181</td>\n",
       "    </tr>\n",
       "    <tr>\n",
       "      <th>14668</th>\n",
       "      <td>57cbf92412f1437531983238</td>\n",
       "      <td>9941</td>\n",
       "      <td>472066.0</td>\n",
       "      <td>1.0</td>\n",
       "      <td>-123.500000</td>\n",
       "      <td>1.472985e+12</td>\n",
       "      <td>64.300000</td>\n",
       "      <td>-68.500000</td>\n",
       "    </tr>\n",
       "    <tr>\n",
       "      <th>...</th>\n",
       "      <td>...</td>\n",
       "      <td>...</td>\n",
       "      <td>...</td>\n",
       "      <td>...</td>\n",
       "      <td>...</td>\n",
       "      <td>...</td>\n",
       "      <td>...</td>\n",
       "      <td>...</td>\n",
       "    </tr>\n",
       "    <tr>\n",
       "      <th>21171</th>\n",
       "      <td>57feb04be541cd17032f6f03</td>\n",
       "      <td>3578</td>\n",
       "      <td>116339.0</td>\n",
       "      <td>0.0</td>\n",
       "      <td>-136.000000</td>\n",
       "      <td>1.476309e+12</td>\n",
       "      <td>39.728651</td>\n",
       "      <td>-105.163032</td>\n",
       "    </tr>\n",
       "    <tr>\n",
       "      <th>21172</th>\n",
       "      <td>57feb04be541cd17032f6f03</td>\n",
       "      <td>4064</td>\n",
       "      <td>116339.0</td>\n",
       "      <td>1.0</td>\n",
       "      <td>-119.666667</td>\n",
       "      <td>1.476309e+12</td>\n",
       "      <td>39.994916</td>\n",
       "      <td>-105.122608</td>\n",
       "    </tr>\n",
       "    <tr>\n",
       "      <th>21173</th>\n",
       "      <td>57feb04be541cd17032f6f03</td>\n",
       "      <td>4148</td>\n",
       "      <td>116339.0</td>\n",
       "      <td>1.0</td>\n",
       "      <td>-129.333333</td>\n",
       "      <td>1.476309e+12</td>\n",
       "      <td>39.879714</td>\n",
       "      <td>-105.147631</td>\n",
       "    </tr>\n",
       "    <tr>\n",
       "      <th>21174</th>\n",
       "      <td>57feb04be541cd17032f6f03</td>\n",
       "      <td>7435</td>\n",
       "      <td>116339.0</td>\n",
       "      <td>2.0</td>\n",
       "      <td>-138.000000</td>\n",
       "      <td>1.476309e+12</td>\n",
       "      <td>40.043443</td>\n",
       "      <td>-105.263594</td>\n",
       "    </tr>\n",
       "    <tr>\n",
       "      <th>21175</th>\n",
       "      <td>57feb04be541cd17032f6f03</td>\n",
       "      <td>7692</td>\n",
       "      <td>116339.0</td>\n",
       "      <td>0.0</td>\n",
       "      <td>-130.000000</td>\n",
       "      <td>1.476309e+12</td>\n",
       "      <td>39.928436</td>\n",
       "      <td>-105.172719</td>\n",
       "    </tr>\n",
       "    <tr>\n",
       "      <th>21176</th>\n",
       "      <td>57feb04be541cd17032f6f03</td>\n",
       "      <td>7726</td>\n",
       "      <td>116339.0</td>\n",
       "      <td>1.0</td>\n",
       "      <td>-120.666667</td>\n",
       "      <td>1.476309e+12</td>\n",
       "      <td>39.966624</td>\n",
       "      <td>-105.169459</td>\n",
       "    </tr>\n",
       "    <tr>\n",
       "      <th>21177</th>\n",
       "      <td>57feb04be541cd17032f6f03</td>\n",
       "      <td>7738</td>\n",
       "      <td>116339.0</td>\n",
       "      <td>1.0</td>\n",
       "      <td>-123.000000</td>\n",
       "      <td>1.476309e+12</td>\n",
       "      <td>39.955842</td>\n",
       "      <td>-105.154392</td>\n",
       "    </tr>\n",
       "    <tr>\n",
       "      <th>21178</th>\n",
       "      <td>57feb04be541cd17032f6f03</td>\n",
       "      <td>8245</td>\n",
       "      <td>116339.0</td>\n",
       "      <td>2.0</td>\n",
       "      <td>-137.000000</td>\n",
       "      <td>1.476309e+12</td>\n",
       "      <td>39.759461</td>\n",
       "      <td>-105.074287</td>\n",
       "    </tr>\n",
       "    <tr>\n",
       "      <th>21179</th>\n",
       "      <td>57feb04be541cd17032f6f03</td>\n",
       "      <td>8356</td>\n",
       "      <td>116339.0</td>\n",
       "      <td>2.0</td>\n",
       "      <td>-132.000000</td>\n",
       "      <td>1.476309e+12</td>\n",
       "      <td>39.757034</td>\n",
       "      <td>-104.976127</td>\n",
       "    </tr>\n",
       "    <tr>\n",
       "      <th>21180</th>\n",
       "      <td>57feb04be541cd17032f6f03</td>\n",
       "      <td>8450</td>\n",
       "      <td>116339.0</td>\n",
       "      <td>1.0</td>\n",
       "      <td>-135.000000</td>\n",
       "      <td>1.476309e+12</td>\n",
       "      <td>40.000066</td>\n",
       "      <td>-105.176719</td>\n",
       "    </tr>\n",
       "    <tr>\n",
       "      <th>21181</th>\n",
       "      <td>57feb04be541cd17032f6f03</td>\n",
       "      <td>8473</td>\n",
       "      <td>116339.0</td>\n",
       "      <td>1.0</td>\n",
       "      <td>-96.000000</td>\n",
       "      <td>1.476309e+12</td>\n",
       "      <td>39.845746</td>\n",
       "      <td>-105.195933</td>\n",
       "    </tr>\n",
       "    <tr>\n",
       "      <th>21182</th>\n",
       "      <td>57feb04be541cd17032f6f03</td>\n",
       "      <td>8746</td>\n",
       "      <td>116339.0</td>\n",
       "      <td>1.0</td>\n",
       "      <td>-121.333333</td>\n",
       "      <td>1.476309e+12</td>\n",
       "      <td>39.838803</td>\n",
       "      <td>-105.112232</td>\n",
       "    </tr>\n",
       "    <tr>\n",
       "      <th>25534</th>\n",
       "      <td>581cd7bd12f1434b9cec032c</td>\n",
       "      <td>1012</td>\n",
       "      <td>472526.0</td>\n",
       "      <td>1.5</td>\n",
       "      <td>-114.000000</td>\n",
       "      <td>1.478285e+12</td>\n",
       "      <td>39.898566</td>\n",
       "      <td>-105.210042</td>\n",
       "    </tr>\n",
       "    <tr>\n",
       "      <th>25535</th>\n",
       "      <td>581cd7bd12f1434b9cec032c</td>\n",
       "      <td>1131</td>\n",
       "      <td>472526.0</td>\n",
       "      <td>1.0</td>\n",
       "      <td>-148.333333</td>\n",
       "      <td>1.478285e+12</td>\n",
       "      <td>39.879758</td>\n",
       "      <td>-105.198562</td>\n",
       "    </tr>\n",
       "    <tr>\n",
       "      <th>25536</th>\n",
       "      <td>581cd7bd12f1434b9cec032c</td>\n",
       "      <td>1796</td>\n",
       "      <td>472526.0</td>\n",
       "      <td>1.0</td>\n",
       "      <td>-121.000000</td>\n",
       "      <td>1.478285e+12</td>\n",
       "      <td>64.300000</td>\n",
       "      <td>-68.500000</td>\n",
       "    </tr>\n",
       "    <tr>\n",
       "      <th>25537</th>\n",
       "      <td>581cd7bd12f1434b9cec032c</td>\n",
       "      <td>1872</td>\n",
       "      <td>472526.0</td>\n",
       "      <td>1.0</td>\n",
       "      <td>-112.000000</td>\n",
       "      <td>1.478285e+12</td>\n",
       "      <td>39.823856</td>\n",
       "      <td>-105.239120</td>\n",
       "    </tr>\n",
       "    <tr>\n",
       "      <th>25538</th>\n",
       "      <td>581cd7bd12f1434b9cec032c</td>\n",
       "      <td>1878</td>\n",
       "      <td>472526.0</td>\n",
       "      <td>1.0</td>\n",
       "      <td>-123.666667</td>\n",
       "      <td>1.478285e+12</td>\n",
       "      <td>39.803795</td>\n",
       "      <td>-105.072090</td>\n",
       "    </tr>\n",
       "    <tr>\n",
       "      <th>25539</th>\n",
       "      <td>581cd7bd12f1434b9cec032c</td>\n",
       "      <td>1988</td>\n",
       "      <td>472526.0</td>\n",
       "      <td>0.5</td>\n",
       "      <td>-126.500000</td>\n",
       "      <td>1.478285e+12</td>\n",
       "      <td>39.926397</td>\n",
       "      <td>-105.084103</td>\n",
       "    </tr>\n",
       "    <tr>\n",
       "      <th>25540</th>\n",
       "      <td>581cd7bd12f1434b9cec032c</td>\n",
       "      <td>2737</td>\n",
       "      <td>472526.0</td>\n",
       "      <td>2.0</td>\n",
       "      <td>-136.000000</td>\n",
       "      <td>1.478285e+12</td>\n",
       "      <td>40.003466</td>\n",
       "      <td>-105.344979</td>\n",
       "    </tr>\n",
       "    <tr>\n",
       "      <th>25541</th>\n",
       "      <td>581cd7bd12f1434b9cec032c</td>\n",
       "      <td>2790</td>\n",
       "      <td>472526.0</td>\n",
       "      <td>1.0</td>\n",
       "      <td>-116.000000</td>\n",
       "      <td>1.478285e+12</td>\n",
       "      <td>39.842602</td>\n",
       "      <td>-105.090762</td>\n",
       "    </tr>\n",
       "    <tr>\n",
       "      <th>25542</th>\n",
       "      <td>581cd7bd12f1434b9cec032c</td>\n",
       "      <td>3051</td>\n",
       "      <td>472526.0</td>\n",
       "      <td>0.5</td>\n",
       "      <td>-135.000000</td>\n",
       "      <td>1.478285e+12</td>\n",
       "      <td>39.898872</td>\n",
       "      <td>-105.153832</td>\n",
       "    </tr>\n",
       "    <tr>\n",
       "      <th>25543</th>\n",
       "      <td>581cd7bd12f1434b9cec032c</td>\n",
       "      <td>3386</td>\n",
       "      <td>472526.0</td>\n",
       "      <td>1.0</td>\n",
       "      <td>-127.333333</td>\n",
       "      <td>1.478285e+12</td>\n",
       "      <td>39.810509</td>\n",
       "      <td>-105.151311</td>\n",
       "    </tr>\n",
       "    <tr>\n",
       "      <th>25544</th>\n",
       "      <td>581cd7bd12f1434b9cec032c</td>\n",
       "      <td>3402</td>\n",
       "      <td>472526.0</td>\n",
       "      <td>2.0</td>\n",
       "      <td>-136.000000</td>\n",
       "      <td>1.478285e+12</td>\n",
       "      <td>39.842058</td>\n",
       "      <td>-105.127072</td>\n",
       "    </tr>\n",
       "    <tr>\n",
       "      <th>25545</th>\n",
       "      <td>581cd7bd12f1434b9cec032c</td>\n",
       "      <td>3403</td>\n",
       "      <td>472526.0</td>\n",
       "      <td>0.0</td>\n",
       "      <td>-126.000000</td>\n",
       "      <td>1.478285e+12</td>\n",
       "      <td>39.807916</td>\n",
       "      <td>-105.097859</td>\n",
       "    </tr>\n",
       "    <tr>\n",
       "      <th>25546</th>\n",
       "      <td>581cd7bd12f1434b9cec032c</td>\n",
       "      <td>3563</td>\n",
       "      <td>472526.0</td>\n",
       "      <td>1.5</td>\n",
       "      <td>-124.500000</td>\n",
       "      <td>1.478285e+12</td>\n",
       "      <td>39.816755</td>\n",
       "      <td>-105.171522</td>\n",
       "    </tr>\n",
       "    <tr>\n",
       "      <th>25547</th>\n",
       "      <td>581cd7bd12f1434b9cec032c</td>\n",
       "      <td>7456</td>\n",
       "      <td>472526.0</td>\n",
       "      <td>1.0</td>\n",
       "      <td>-133.000000</td>\n",
       "      <td>1.478285e+12</td>\n",
       "      <td>39.782113</td>\n",
       "      <td>-105.072701</td>\n",
       "    </tr>\n",
       "    <tr>\n",
       "      <th>25548</th>\n",
       "      <td>581cd7bd12f1434b9cec032c</td>\n",
       "      <td>7726</td>\n",
       "      <td>472526.0</td>\n",
       "      <td>2.0</td>\n",
       "      <td>-133.000000</td>\n",
       "      <td>1.478285e+12</td>\n",
       "      <td>39.966624</td>\n",
       "      <td>-105.169459</td>\n",
       "    </tr>\n",
       "    <tr>\n",
       "      <th>25549</th>\n",
       "      <td>581cd7bd12f1434b9cec032c</td>\n",
       "      <td>8473</td>\n",
       "      <td>472526.0</td>\n",
       "      <td>2.0</td>\n",
       "      <td>-114.000000</td>\n",
       "      <td>1.478285e+12</td>\n",
       "      <td>39.845746</td>\n",
       "      <td>-105.195933</td>\n",
       "    </tr>\n",
       "    <tr>\n",
       "      <th>28670</th>\n",
       "      <td>5843e9a6cf554f422f2b7495</td>\n",
       "      <td>9936</td>\n",
       "      <td>472066.0</td>\n",
       "      <td>1.0</td>\n",
       "      <td>-127.500000</td>\n",
       "      <td>1.480846e+12</td>\n",
       "      <td>48.072889</td>\n",
       "      <td>-110.957181</td>\n",
       "    </tr>\n",
       "    <tr>\n",
       "      <th>28671</th>\n",
       "      <td>5843e9a6cf554f422f2b7495</td>\n",
       "      <td>9941</td>\n",
       "      <td>472066.0</td>\n",
       "      <td>2.0</td>\n",
       "      <td>-135.000000</td>\n",
       "      <td>1.480846e+12</td>\n",
       "      <td>64.300000</td>\n",
       "      <td>-68.500000</td>\n",
       "    </tr>\n",
       "  </tbody>\n",
       "</table>\n",
       "<p>76 rows × 8 columns</p>\n",
       "</div>"
      ],
      "text/plain": [
       "                         messid  bsid       did  nseq        rssi  \\\n",
       "3775   575ba63e864fce5689565f66  3034  472960.0   2.0 -131.000000   \n",
       "3776   575ba63e864fce5689565f66  3828  472960.0   1.0 -132.500000   \n",
       "8413   578a1045cf554f22c1e41064  3034  472151.0   1.0 -126.000000   \n",
       "8414   578a1045cf554f22c1e41064  3828  472151.0   2.0 -135.000000   \n",
       "12501  57a9e6e612f14345913afbc5  9783  473281.0   1.0 -140.000000   \n",
       "12502  57a9e99c12f14345913ce528  9783  473281.0   1.0 -139.333333   \n",
       "12505  57a9ec69cf554f465adc2dd8  9783  473281.0   0.5 -135.000000   \n",
       "12507  57a9edcdcf554f465add3c93  9783  473281.0   2.0 -139.000000   \n",
       "12508  57a9ef27cf554f465ade591a  9783  473281.0   1.0 -140.666667   \n",
       "12509  57a9f084e541cd77a020313d  9783  473281.0   2.0 -140.000000   \n",
       "12510  57a9f5ebcf554f465ae32fa3  9783  473281.0   1.0 -140.000000   \n",
       "12511  57a9fcebcf554f465ae81787  9783  473281.0   1.5 -137.500000   \n",
       "12512  57a9fe4812f14345914bcb8e  9783  473281.0   1.5 -133.000000   \n",
       "12513  57a9ffa212f14345914cbe21  9783  473281.0   0.0 -142.000000   \n",
       "12514  57aa051612f1434591506a5e  9783  473281.0   1.0 -133.500000   \n",
       "12520  57aa0bd8cf554f465af23a72  9783  473281.0   0.5 -136.000000   \n",
       "12523  57aa0eadcf554f465af427a4  9783  473281.0   2.0 -139.000000   \n",
       "12528  57aa17b112f14345915cdd1f  9783  473281.0   2.0 -141.000000   \n",
       "12529  57aa1908e541cd77a03bd849  9783  473281.0   1.0 -135.666667   \n",
       "12530  57aa1a63cf554f465afbed76  9783  473281.0   1.0 -137.666667   \n",
       "12531  57aa1bbd12f14345915f6d11  9783  473281.0   0.5 -139.000000   \n",
       "12544  57aa1d1812f1434591604c90  9783  473281.0   1.0 -138.000000   \n",
       "12545  57aa1e70cf554f465afe838e  9783  473281.0   1.0 -136.000000   \n",
       "12546  57aa1fcfcf554f465aff70b2  9783  473281.0   1.0 -141.000000   \n",
       "12547  57aa212acf554f465a00568b  9783  473281.0   1.0 -135.666667   \n",
       "12554  57aa2292cf554f465a013bef  9783  473281.0   1.0 -131.000000   \n",
       "13431  57b99c16cf554f465ad8de48  9949  472066.0   2.0 -122.000000   \n",
       "13434  57b9eff912f1434591626c19  9949  472066.0   1.0 -118.666667   \n",
       "14667  57cbf92412f1437531983238  9936  472066.0   1.0 -118.333333   \n",
       "14668  57cbf92412f1437531983238  9941  472066.0   1.0 -123.500000   \n",
       "...                         ...   ...       ...   ...         ...   \n",
       "21171  57feb04be541cd17032f6f03  3578  116339.0   0.0 -136.000000   \n",
       "21172  57feb04be541cd17032f6f03  4064  116339.0   1.0 -119.666667   \n",
       "21173  57feb04be541cd17032f6f03  4148  116339.0   1.0 -129.333333   \n",
       "21174  57feb04be541cd17032f6f03  7435  116339.0   2.0 -138.000000   \n",
       "21175  57feb04be541cd17032f6f03  7692  116339.0   0.0 -130.000000   \n",
       "21176  57feb04be541cd17032f6f03  7726  116339.0   1.0 -120.666667   \n",
       "21177  57feb04be541cd17032f6f03  7738  116339.0   1.0 -123.000000   \n",
       "21178  57feb04be541cd17032f6f03  8245  116339.0   2.0 -137.000000   \n",
       "21179  57feb04be541cd17032f6f03  8356  116339.0   2.0 -132.000000   \n",
       "21180  57feb04be541cd17032f6f03  8450  116339.0   1.0 -135.000000   \n",
       "21181  57feb04be541cd17032f6f03  8473  116339.0   1.0  -96.000000   \n",
       "21182  57feb04be541cd17032f6f03  8746  116339.0   1.0 -121.333333   \n",
       "25534  581cd7bd12f1434b9cec032c  1012  472526.0   1.5 -114.000000   \n",
       "25535  581cd7bd12f1434b9cec032c  1131  472526.0   1.0 -148.333333   \n",
       "25536  581cd7bd12f1434b9cec032c  1796  472526.0   1.0 -121.000000   \n",
       "25537  581cd7bd12f1434b9cec032c  1872  472526.0   1.0 -112.000000   \n",
       "25538  581cd7bd12f1434b9cec032c  1878  472526.0   1.0 -123.666667   \n",
       "25539  581cd7bd12f1434b9cec032c  1988  472526.0   0.5 -126.500000   \n",
       "25540  581cd7bd12f1434b9cec032c  2737  472526.0   2.0 -136.000000   \n",
       "25541  581cd7bd12f1434b9cec032c  2790  472526.0   1.0 -116.000000   \n",
       "25542  581cd7bd12f1434b9cec032c  3051  472526.0   0.5 -135.000000   \n",
       "25543  581cd7bd12f1434b9cec032c  3386  472526.0   1.0 -127.333333   \n",
       "25544  581cd7bd12f1434b9cec032c  3402  472526.0   2.0 -136.000000   \n",
       "25545  581cd7bd12f1434b9cec032c  3403  472526.0   0.0 -126.000000   \n",
       "25546  581cd7bd12f1434b9cec032c  3563  472526.0   1.5 -124.500000   \n",
       "25547  581cd7bd12f1434b9cec032c  7456  472526.0   1.0 -133.000000   \n",
       "25548  581cd7bd12f1434b9cec032c  7726  472526.0   2.0 -133.000000   \n",
       "25549  581cd7bd12f1434b9cec032c  8473  472526.0   2.0 -114.000000   \n",
       "28670  5843e9a6cf554f422f2b7495  9936  472066.0   1.0 -127.500000   \n",
       "28671  5843e9a6cf554f422f2b7495  9941  472066.0   2.0 -135.000000   \n",
       "\n",
       "            time_ux     bs_lat      bs_lng  \n",
       "3775   1.465624e+12  41.827396 -106.833117  \n",
       "3776   1.465624e+12  41.843843 -106.810148  \n",
       "8413   1.468666e+12  41.827396 -106.833117  \n",
       "8414   1.468666e+12  41.843843 -106.810148  \n",
       "12501  1.470752e+12  36.785088 -102.737426  \n",
       "12502  1.470753e+12  36.785088 -102.737426  \n",
       "12505  1.470754e+12  36.785088 -102.737426  \n",
       "12507  1.470754e+12  36.785088 -102.737426  \n",
       "12508  1.470755e+12  36.785088 -102.737426  \n",
       "12509  1.470755e+12  36.785088 -102.737426  \n",
       "12510  1.470756e+12  36.785088 -102.737426  \n",
       "12511  1.470758e+12  36.785088 -102.737426  \n",
       "12512  1.470758e+12  36.785088 -102.737426  \n",
       "12513  1.470759e+12  36.785088 -102.737426  \n",
       "12514  1.470760e+12  36.785088 -102.737426  \n",
       "12520  1.470762e+12  36.785088 -102.737426  \n",
       "12523  1.470763e+12  36.785088 -102.737426  \n",
       "12528  1.470765e+12  36.785088 -102.737426  \n",
       "12529  1.470765e+12  36.785088 -102.737426  \n",
       "12530  1.470766e+12  36.785088 -102.737426  \n",
       "12531  1.470766e+12  36.785088 -102.737426  \n",
       "12544  1.470766e+12  36.785088 -102.737426  \n",
       "12545  1.470767e+12  36.785088 -102.737426  \n",
       "12546  1.470767e+12  36.785088 -102.737426  \n",
       "12547  1.470767e+12  36.785088 -102.737426  \n",
       "12554  1.470768e+12  36.785088 -102.737426  \n",
       "13431  1.471782e+12  64.300000  -68.500000  \n",
       "13434  1.471803e+12  64.300000  -68.500000  \n",
       "14667  1.472985e+12  48.072889 -110.957181  \n",
       "14668  1.472985e+12  64.300000  -68.500000  \n",
       "...             ...        ...         ...  \n",
       "21171  1.476309e+12  39.728651 -105.163032  \n",
       "21172  1.476309e+12  39.994916 -105.122608  \n",
       "21173  1.476309e+12  39.879714 -105.147631  \n",
       "21174  1.476309e+12  40.043443 -105.263594  \n",
       "21175  1.476309e+12  39.928436 -105.172719  \n",
       "21176  1.476309e+12  39.966624 -105.169459  \n",
       "21177  1.476309e+12  39.955842 -105.154392  \n",
       "21178  1.476309e+12  39.759461 -105.074287  \n",
       "21179  1.476309e+12  39.757034 -104.976127  \n",
       "21180  1.476309e+12  40.000066 -105.176719  \n",
       "21181  1.476309e+12  39.845746 -105.195933  \n",
       "21182  1.476309e+12  39.838803 -105.112232  \n",
       "25534  1.478285e+12  39.898566 -105.210042  \n",
       "25535  1.478285e+12  39.879758 -105.198562  \n",
       "25536  1.478285e+12  64.300000  -68.500000  \n",
       "25537  1.478285e+12  39.823856 -105.239120  \n",
       "25538  1.478285e+12  39.803795 -105.072090  \n",
       "25539  1.478285e+12  39.926397 -105.084103  \n",
       "25540  1.478285e+12  40.003466 -105.344979  \n",
       "25541  1.478285e+12  39.842602 -105.090762  \n",
       "25542  1.478285e+12  39.898872 -105.153832  \n",
       "25543  1.478285e+12  39.810509 -105.151311  \n",
       "25544  1.478285e+12  39.842058 -105.127072  \n",
       "25545  1.478285e+12  39.807916 -105.097859  \n",
       "25546  1.478285e+12  39.816755 -105.171522  \n",
       "25547  1.478285e+12  39.782113 -105.072701  \n",
       "25548  1.478285e+12  39.966624 -105.169459  \n",
       "25549  1.478285e+12  39.845746 -105.195933  \n",
       "28670  1.480846e+12  48.072889 -110.957181  \n",
       "28671  1.480846e+12  64.300000  -68.500000  \n",
       "\n",
       "[76 rows x 8 columns]"
      ]
     },
     "execution_count": 119,
     "metadata": {},
     "output_type": "execute_result"
    }
   ],
   "source": [
    "msg_new_bsids = df_mess_test[df_mess_test['bsid'].isin(new_bsids)].messid.unique()\n",
    "msg_test_bsid_inconnu = df_mess_test[df_mess_test['messid'].isin(msg_new_bsids)]\n",
    "msg_test_bsid_inconnu"
   ]
  },
  {
   "cell_type": "markdown",
   "metadata": {},
   "source": [
    "Parmi tous ces messages, combien combien ont été captés par des bsids présents dans le train set?"
   ]
  },
  {
   "cell_type": "code",
   "execution_count": 120,
   "metadata": {},
   "outputs": [
    {
     "data": {
      "text/plain": [
       "array(['57feb04be541cd17032f6f03', '581cd7bd12f1434b9cec032c'],\n",
       "      dtype=object)"
      ]
     },
     "execution_count": 120,
     "metadata": {},
     "output_type": "execute_result"
    }
   ],
   "source": [
    "msg_test_bsid_inconnu[msg_test_bsid_inconnu['bsid'].isin(old_bsids)].messid.unique()"
   ]
  },
  {
   "cell_type": "markdown",
   "metadata": {},
   "source": [
    "On voit ainsi que seuls deux messages parmi les 33 ont été reçus par des bsids. Comme ces nouveaux bsids ne feront pas partie du train set, il sera difficile pour un modèle de déduire la position d'un device à partir des seules coordonnées de ces nouveaux bsids. Aussi, nous considérerons que les devices qui ont émis ces messages se trouvaient au barycentre des bsids qui les ont reçus. Les positions prédites apparaissent ci-dessous:"
   ]
  },
  {
   "cell_type": "code",
   "execution_count": 126,
   "metadata": {},
   "outputs": [
    {
     "data": {
      "text/html": [
       "<div>\n",
       "<style scoped>\n",
       "    .dataframe tbody tr th:only-of-type {\n",
       "        vertical-align: middle;\n",
       "    }\n",
       "\n",
       "    .dataframe tbody tr th {\n",
       "        vertical-align: top;\n",
       "    }\n",
       "\n",
       "    .dataframe thead th {\n",
       "        text-align: right;\n",
       "    }\n",
       "</style>\n",
       "<table border=\"1\" class=\"dataframe\">\n",
       "  <thead>\n",
       "    <tr style=\"text-align: right;\">\n",
       "      <th></th>\n",
       "      <th>bs_lat</th>\n",
       "      <th>bs_lng</th>\n",
       "    </tr>\n",
       "    <tr>\n",
       "      <th>messid</th>\n",
       "      <th></th>\n",
       "      <th></th>\n",
       "    </tr>\n",
       "  </thead>\n",
       "  <tbody>\n",
       "    <tr>\n",
       "      <th>575ba63e864fce5689565f66</th>\n",
       "      <td>41.835620</td>\n",
       "      <td>-106.821632</td>\n",
       "    </tr>\n",
       "    <tr>\n",
       "      <th>578a1045cf554f22c1e41064</th>\n",
       "      <td>41.835620</td>\n",
       "      <td>-106.821632</td>\n",
       "    </tr>\n",
       "    <tr>\n",
       "      <th>57a9e6e612f14345913afbc5</th>\n",
       "      <td>36.785088</td>\n",
       "      <td>-102.737426</td>\n",
       "    </tr>\n",
       "    <tr>\n",
       "      <th>57a9e99c12f14345913ce528</th>\n",
       "      <td>36.785088</td>\n",
       "      <td>-102.737426</td>\n",
       "    </tr>\n",
       "    <tr>\n",
       "      <th>57a9ec69cf554f465adc2dd8</th>\n",
       "      <td>36.785088</td>\n",
       "      <td>-102.737426</td>\n",
       "    </tr>\n",
       "  </tbody>\n",
       "</table>\n",
       "</div>"
      ],
      "text/plain": [
       "                             bs_lat      bs_lng\n",
       "messid                                         \n",
       "575ba63e864fce5689565f66  41.835620 -106.821632\n",
       "578a1045cf554f22c1e41064  41.835620 -106.821632\n",
       "57a9e6e612f14345913afbc5  36.785088 -102.737426\n",
       "57a9e99c12f14345913ce528  36.785088 -102.737426\n",
       "57a9ec69cf554f465adc2dd8  36.785088 -102.737426"
      ]
     },
     "execution_count": 126,
     "metadata": {},
     "output_type": "execute_result"
    }
   ],
   "source": [
    "pred_new_bsids = msg_test_bsid_inconnu.groupby('messid').mean()\n",
    "pred_new_bsids[['bs_lat','bs_lng']].head()"
   ]
  },
  {
   "cell_type": "markdown",
   "metadata": {},
   "source": [
    "## Preprocessing"
   ]
  },
  {
   "cell_type": "markdown",
   "metadata": {},
   "source": [
    "### Fonctions initiales"
   ]
  },
  {
   "cell_type": "markdown",
   "metadata": {},
   "source": [
    "Ci-dessous les fonctions de preprocessing et d'évaluation utilisées dans ce notebook:"
   ]
  },
  {
   "cell_type": "code",
   "execution_count": 5,
   "metadata": {},
   "outputs": [],
   "source": [
    "def vincenty_vec(vec_coord):\n",
    "    vin_vec_dist = np.zeros(vec_coord.shape[0])\n",
    "    if vec_coord.shape[1] !=  4:\n",
    "        print('ERROR: Bad number of columns (shall be = 4)')\n",
    "    else:\n",
    "        vin_vec_dist = [vincenty(vec_coord[m,0:2],vec_coord[m,2:]).meters for m in range(vec_coord.shape[0])]\n",
    "    return vin_vec_dist"
   ]
  },
  {
   "cell_type": "code",
   "execution_count": 6,
   "metadata": {},
   "outputs": [],
   "source": [
    "# evaluate distance error for each predicted point\n",
    "def Eval_geoloc(y_train_lat , y_train_lng, y_pred_lat, y_pred_lng):\n",
    "    vec_coord = np.array([y_train_lat , y_train_lng, y_pred_lat, y_pred_lng])\n",
    "    err_vec = vincenty_vec(np.transpose(vec_coord))\n",
    "    \n",
    "    return err_vec"
   ]
  },
  {
   "cell_type": "code",
   "execution_count": 7,
   "metadata": {},
   "outputs": [],
   "source": [
    "# ground truth construction\n",
    "\n",
    "def ground_truth_const(df_mess_train, pos_train):\n",
    "\n",
    "    df_mess_pos = df_mess_train.copy()\n",
    "    df_mess_pos[['lat', 'lng']] = pos_train\n",
    "\n",
    "    ground_truth_lat = np.array(df_mess_pos.groupby(['messid']).mean()['lat'])\n",
    "    ground_truth_lng = np.array(df_mess_pos.groupby(['messid']).mean()['lng'])\n",
    "    \n",
    "    return ground_truth_lat, ground_truth_lng"
   ]
  },
  {
   "cell_type": "code",
   "execution_count": 8,
   "metadata": {},
   "outputs": [],
   "source": [
    "# Feature Matrix construction \n",
    "\n",
    "def feat_mat_const(df_mess_train, listOfBs):\n",
    "\n",
    "    df_mess_bs_group = df_mess_train.groupby(['messid'], as_index=False) # group data by message (messid)\n",
    "    nb_mess = len(np.unique(df_mess_train['messid']))\n",
    "    df_feat = pd.DataFrame(np.zeros((nb_mess,len(listOfBs))), columns = listOfBs) # feature matrix\n",
    "    idx = 0\n",
    "    id_list = [0] * nb_mess\n",
    "\n",
    "    for key, elmt in df_mess_bs_group:\n",
    "        df_mess_bs_group.get_group(key)\n",
    "        df_feat.loc[idx,df_mess_bs_group.get_group(key)['bsid']] = 1\n",
    "        id_list[idx] = key\n",
    "        idx = idx + 1\n",
    "    \n",
    "    return df_feat, id_list # add id value of each message for the correspondance to message  "
   ]
  },
  {
   "cell_type": "markdown",
   "metadata": {},
   "source": [
    "### Fonctions additionnelles"
   ]
  },
  {
   "cell_type": "markdown",
   "metadata": {},
   "source": [
    "Pour approfondir le travail sur les features, nous avons ajouté les fonctions ci-dessous:"
   ]
  },
  {
   "cell_type": "markdown",
   "metadata": {},
   "source": [
    "Nous avons cherché à déterminer si les résultats d'un modèle se trouveraient améliorés si les coordonnées des devices et des stations étaient exprimées dans un référentiel différent, d'où les fonctions ci-dessous: "
   ]
  },
  {
   "cell_type": "code",
   "execution_count": 9,
   "metadata": {},
   "outputs": [],
   "source": [
    "from pyproj import Proj, transform\n",
    "\n",
    "def convertRowGeoData (inProj, outProj, row, col1Name, col2Name) :\n",
    "    x2,y2 = transform(inProj,outProj,row.iloc[0],row.iloc[1])\n",
    "    return pd.Series({col1Name:x2,col2Name:y2})\n",
    "\n",
    "def convertGeoData(epsgin, epsgout, df) :\n",
    "    inProj = Proj(init='epsg:'+str(epsgin))\n",
    "    outProj = Proj(init='epsg:'+str(epsgout))\n",
    "    col1Name = df.columns[0]\n",
    "    col2Name = df.columns[1]\n",
    "    dfcopy = df.copy()\n",
    "    ret = pd.DataFrame()\n",
    "    return dfcopy.apply(lambda x : convertRowGeoData(inProj, outProj, x, col1Name, col2Name),axis=1)"
   ]
  },
  {
   "cell_type": "markdown",
   "metadata": {},
   "source": [
    "Par ailleurs, les données sources contiennent de nombreuses informations qui peuvent compléter les données issues de la fonction feat_mat_const. Nous avons donc défini la fonction ci-dessous qui convertit ces features addtionnelles en un dataframe indexé par messid:"
   ]
  },
  {
   "cell_type": "code",
   "execution_count": 10,
   "metadata": {},
   "outputs": [],
   "source": [
    "# Feature Matrix construction - on ajoute des colonnes correspondant à la force des signaux perçus par chaque bs\n",
    "def feat_mat_const_additional_features(df_mess_train, listOfBs, col_titles):\n",
    "    \"\"\"\n",
    "    inputs: \n",
    "        df_mess_train, listOfBs: idem fonction feat_mat_const\n",
    "        col_titles: list de strings: doit contenir des noms de features relatives aux base stations\n",
    "    output:\n",
    "        dataframe indexé sur les identifiants des messages, contenant, pour chaque base station qui\n",
    "        reçoit un message donné, les features spécifiées dans l'argument col_title\n",
    "    \"\"\"\n",
    "    \n",
    "    df_mess_bs_group = df_mess_train.groupby(['messid'], as_index=False) # group data by message (messid)\n",
    "    nb_mess = len(np.unique(df_mess_train['messid']))\n",
    "    headers = []\n",
    "    df_feats = []\n",
    "    \n",
    "    for element in col_titles:\n",
    "        newfeat_by_bs_headers = np.array([element+\"_bs_\"+str(bs) for bs in listOfBs])\n",
    "        headers.append(newfeat_by_bs_headers)\n",
    "        df_feat = pd.DataFrame(np.zeros((nb_mess,len(listOfBs))), columns = listOfBs) # new feature matrix\n",
    "        \n",
    "        idx = 0\n",
    "        id_list = [0] * nb_mess\n",
    "        print(\"processing feature %s out of %s\" %(str(len(df_feats)+1),str(len(col_titles))))\n",
    "\n",
    "\n",
    "        for key, elmt in df_mess_bs_group:\n",
    "            group = df_mess_bs_group.get_group(key)\n",
    "\n",
    "            for i in group['bsid']:\n",
    "                df_feat.loc[idx,i] = group[group['bsid']==i][element].iloc[0]\n",
    "\n",
    "            id_list[idx] = key\n",
    "            idx = idx + 1  \n",
    "\n",
    "        df_feat.rename(columns = dict(zip(listOfBs, newfeat_by_bs_headers)), inplace=True)\n",
    "    \n",
    "        df_feats.append(df_feat)\n",
    "        \n",
    "    result = pd.concat(df_feats, axis=1)\n",
    "    return result"
   ]
  },
  {
   "cell_type": "markdown",
   "metadata": {},
   "source": [
    "## Entraînement et prédiction au moyen d'une forêt aléatoire"
   ]
  },
  {
   "cell_type": "markdown",
   "metadata": {},
   "source": [
    "### Mise en forme des données"
   ]
  },
  {
   "cell_type": "code",
   "execution_count": 66,
   "metadata": {
    "scrolled": false
   },
   "outputs": [
    {
     "name": "stdout",
     "output_type": "stream",
     "text": [
      "processing feature 1 out of 5\n",
      "processing feature 2 out of 5\n",
      "processing feature 3 out of 5\n",
      "processing feature 4 out of 5\n",
      "processing feature 5 out of 5\n"
     ]
    }
   ],
   "source": [
    "#les données sont traitées au moyen des fonctions de preprocessing évoquées plus haut\n",
    "#la fonction feat_mat_const_additional features peut être un peu longue à exécuter\n",
    "listOfBs = np.union1d(np.unique(df_mess_train['bsid']), np.unique(df_mess_train['bsid'])) \n",
    "df_feat, id_list_train = feat_mat_const(df_mess_train, listOfBs)\n",
    "df_feat_additional = feat_mat_const_additional_features(df_mess_train, listOfBs,\n",
    "                                                        ['did','rssi','time_ux','bs_lat','bs_lng'])\n",
    "df_feat2 = pd.concat([df_feat, df_feat_additional], axis=1)\n",
    "ground_truth_lat, ground_truth_lng = ground_truth_const(df_mess_train, pos_train)"
   ]
  },
  {
   "cell_type": "markdown",
   "metadata": {},
   "source": [
    "### Définition d'un ensemble d'entraînement et d'un ensemble de validation pour tester le modèle avant de l'appliquer aux données test"
   ]
  },
  {
   "cell_type": "code",
   "execution_count": 13,
   "metadata": {},
   "outputs": [],
   "source": [
    "X = df_feat2\n",
    "Y_lat = ground_truth_lat\n",
    "Y_long = ground_truth_lng\n",
    "\n",
    "Xtrain, Xtest, Ytrain_lat, Ytest_lat = train_test_split(X, Y_lat, test_size=0.2)\n",
    "Ytrain_long = Y_long[Xtrain.index.values]\n",
    "Ytest_long = Y_long[Xtest.index.values]"
   ]
  },
  {
   "cell_type": "markdown",
   "metadata": {},
   "source": [
    "### Entraînement d'un premier modèle et identification des features les plus importantes"
   ]
  },
  {
   "cell_type": "markdown",
   "metadata": {},
   "source": [
    "Une fois les données traitées, nous les avons soumise à une forêt aléatoire, dont les paramètres (nombre d'estimateurs fixé à 200, profondeur maximale non plafonnée, nombre de features maximal pour l'entraînement de chaque arbre) ont été fixés à l'issue d'une série de tests effectués pour maximiser le score du modèle:"
   ]
  },
  {
   "cell_type": "code",
   "execution_count": 14,
   "metadata": {
    "scrolled": false
   },
   "outputs": [
    {
     "data": {
      "text/plain": [
       "2731.6419201867657"
      ]
     },
     "execution_count": 14,
     "metadata": {},
     "output_type": "execute_result"
    },
    {
     "data": {
      "image/png": "[encoded data removed]",
      "text/plain": [
       "<Figure size 432x288 with 1 Axes>"
      ]
     },
     "metadata": {
      "needs_background": "light"
     },
     "output_type": "display_data"
    }
   ],
   "source": [
    "def regressor_and_predict(df_feat, ground_truth_lat, ground_truth_lng, df_test):\n",
    "    \n",
    "    # train regressor and make prediction in the train set\n",
    "    # Input: df_feat, ground_truth_lat, ground_truth_lng, df_test\n",
    "    # Output: y_pred_lat, y_pred_lng\n",
    "\n",
    "    X_train = np.array(df_feat);\n",
    "    rf = RandomForestRegressor(n_estimators=200, max_features='log2', max_depth=None, n_jobs=-1, verbose=0)\n",
    "\n",
    "    rf.fit(X_train, ground_truth_lat);\n",
    "    y_pred_lat = rf.predict(df_test) \n",
    "\n",
    "    rf.fit(X_train, ground_truth_lng);\n",
    "    y_pred_lng = rf.predict(df_test) \n",
    "    \n",
    "    return y_pred_lat, y_pred_lng\n",
    "\n",
    "\n",
    "\n",
    "#prédiction et affichage des résultats\n",
    "y_pred_lat, y_pred_lng = regressor_and_predict(Xtrain, Ytrain_lat, Ytrain_long, Xtest)\n",
    "err_vec = Eval_geoloc(Ytest_lat , Ytest_long, y_pred_lat, y_pred_lng)\n",
    "\n",
    "#Plot error distribution \n",
    "values, base = np.histogram(err_vec, bins=50000)\n",
    "cumulative = np.cumsum(values) \n",
    "plt.figure();\n",
    "plt.plot(base[:-1]/1000, cumulative / np.float(np.sum(values))  * 100.0, c='blue')\n",
    "plt.grid(); plt.xlabel('Distance Error (km)'); plt.ylabel('Cum proba (%)'); plt.axis([0, 30, 0, 100]); \n",
    "plt.title('Error Cumulative Probability'); plt.legend( [\"Opt LLR\", \"LLR 95\", \"LLR 99\"])\n",
    "\n",
    "# Error criterion\n",
    "np.percentile(err_vec, 80)"
   ]
  },
  {
   "cell_type": "markdown",
   "metadata": {},
   "source": [
    "On constate que le score est significativement amélioré par rapport à la régression linéaire proposée dans le template de projet (environ 2 700m contre environ 7 500m). Cependant, lors du preprocessing, nous avons ajouté un grand nombre de features (5 features supplémentaires par bsid, soit 259 * 5 = 1295 colonnes supplémentaires). Il n'est pas certain que toutes ces features contribuent à améliorer la précision du modèle. Nous allons donc étudier l'importance de ces features."
   ]
  },
  {
   "cell_type": "code",
   "execution_count": 16,
   "metadata": {
    "scrolled": true
   },
   "outputs": [
    {
     "data": {
      "image/png": "[encoded data removed]",
      "text/plain": [
       "<Figure size 432x288 with 1 Axes>"
      ]
     },
     "metadata": {
      "needs_background": "light"
     },
     "output_type": "display_data"
    }
   ],
   "source": [
    "rf = RandomForestRegressor(n_estimators=200, max_features='log2', max_depth=None, n_jobs=-1, verbose=0)\n",
    "rf.fit(Xtrain, Ytrain_lat);\n",
    "importance_df=pd.DataFrame(rf.feature_importances_, index=Xtrain.columns.values)\n",
    "\n",
    "#on ne s'intéresse en particulier aux features ajoutées:\n",
    "old_features = df_feat.columns\n",
    "new_features = [col_title for col_title in importance_df.index.values if col_title not in old_features]\n",
    "importance_new_features = importance_df.loc[new_features]\n",
    "importance_new_features.shape\n",
    "\n",
    "#affichage de l'importance des features, dans l'ordre croissant\n",
    "plt.yscale('log')\n",
    "plt.plot(range(importance_new_features.shape[0]), sorted(importance_new_features[0]))\n",
    "plt.xlabel('rang de la variable')\n",
    "plt.ylabel('importance de la variable (score random forest)')\n",
    "plt.title('importance des  nouvelles variables')\n",
    "plt.show()"
   ]
  },
  {
   "cell_type": "markdown",
   "metadata": {},
   "source": [
    "On constate de très fortes disparités (plusieurs ordres de grandeur) entre les différentes features additionnelles. Il semble donc justifié d'en retirer certaines des données d'entrée du modèle. Pour ce faire, on va définir un seuil d'importance en-deçà duquel les features seront retirées, à l'aide de la fonction clean_useless_features définie ci-dessous:"
   ]
  },
  {
   "cell_type": "code",
   "execution_count": 27,
   "metadata": {},
   "outputs": [],
   "source": [
    "#on retire de Xtrain et de Xtest toutes les variables dont l'importance est inférieure à un certain seuil:\n",
    "threshold = 10e-5\n",
    "\n",
    "def clean_useless_features(threshold_list):\n",
    "    scores = []\n",
    "    for threshold in threshold_list:\n",
    "        features_to_drop = importance_new_features[importance_new_features[0]<threshold].index.values\n",
    "        X_red = df_feat2.drop(features_to_drop, axis=1)\n",
    "        Y_lat = ground_truth_lat\n",
    "        Y_long = ground_truth_lng\n",
    "   \n",
    "        Xtrain_red = Xtrain.drop(features_to_drop, axis=1)\n",
    "        Xtest_red = Xtest.drop(features_to_drop, axis=1)\n",
    "\n",
    "        y_pred_lat, y_pred_lng = regressor_and_predict(Xtrain_red, Ytrain_lat, Ytrain_long, Xtest_red)\n",
    "        err_vec = Eval_geoloc(Ytest_lat , Ytest_long, y_pred_lat, y_pred_lng) \n",
    "        \n",
    "        scores.append(np.percentile(err_vec, 80))\n",
    "                              \n",
    "    return scores"
   ]
  },
  {
   "cell_type": "code",
   "execution_count": 32,
   "metadata": {
    "scrolled": false
   },
   "outputs": [
    {
     "data": {
      "image/png": "[encoded data removed]",
      "text/plain": [
       "<Figure size 432x288 with 1 Axes>"
      ]
     },
     "metadata": {
      "needs_background": "light"
     },
     "output_type": "display_data"
    }
   ],
   "source": [
    "threshold_list = [10**k for k in range(-12,-3)]\n",
    "scores = clean_useless_features(threshold_list)\n",
    "plt.plot(threshold_list, scores, color='r')\n",
    "plt.xlabel('seuils')\n",
    "plt.ylabel('score')\n",
    "plt.xscale('log')\n",
    "plt.title(\"score du modèle en fonction du seuil d'importance retenu pour conserver les features\")\n",
    "plt.show()"
   ]
  },
  {
   "cell_type": "markdown",
   "metadata": {},
   "source": [
    "Dans la suite, on retire donc toutes les features d'une importance inférieure au seuil ainsi trouvé."
   ]
  },
  {
   "cell_type": "code",
   "execution_count": 141,
   "metadata": {},
   "outputs": [],
   "source": [
    "threshold = threshold_list[np.argmin(scores)]\n",
    "features_to_drop = importance_new_features[importance_new_features[0]<threshold].index.values"
   ]
  },
  {
   "cell_type": "markdown",
   "metadata": {},
   "source": [
    "### Entraînement du modèle final, et exportation des prédictions sur le test set"
   ]
  },
  {
   "cell_type": "markdown",
   "metadata": {},
   "source": [
    "Retrait des messages captés par les nouveaux bsids du test set:"
   ]
  },
  {
   "cell_type": "code",
   "execution_count": 194,
   "metadata": {},
   "outputs": [],
   "source": [
    "msg_to_keep = [idx for idx in df_mess_test.index.values if not idx in msg_test_bsid_inconnu.index.values]\n",
    "msg_to_remove = [idx for idx in df_mess_test.index.values if idx in msg_test_bsid_inconnu.index.values]\n",
    "df_mess_test2 = df_mess_test.loc[msg_to_keep]"
   ]
  },
  {
   "cell_type": "markdown",
   "metadata": {},
   "source": [
    "Preprocessing du test set:"
   ]
  },
  {
   "cell_type": "code",
   "execution_count": 135,
   "metadata": {
    "scrolled": true
   },
   "outputs": [
    {
     "name": "stdout",
     "output_type": "stream",
     "text": [
      "processing feature 1 out of 5\n",
      "processing feature 2 out of 5\n",
      "processing feature 3 out of 5\n",
      "processing feature 4 out of 5\n",
      "processing feature 5 out of 5\n"
     ]
    }
   ],
   "source": [
    "listOfBs_test = np.union1d(np.unique(df_mess_test2['bsid']), np.unique(df_mess_test2['bsid'])) \n",
    "df_feat_test, id_list_test = feat_mat_const(df_mess_test2, listOfBs_test)\n",
    "df_feat_additional_test = feat_mat_const_additional_features(df_mess_test2, listOfBs_test,\n",
    "                                                        ['did','rssi','time_ux','bs_lat','bs_lng'])\n",
    "df_feat_test2 = pd.concat([df_feat_test, df_feat_additional_test], axis=1)"
   ]
  },
  {
   "cell_type": "markdown",
   "metadata": {},
   "source": [
    "Suppression des colonnes superflues du test set:"
   ]
  },
  {
   "cell_type": "code",
   "execution_count": 144,
   "metadata": {},
   "outputs": [
    {
     "data": {
      "text/plain": [
       "(5261, 933)"
      ]
     },
     "execution_count": 144,
     "metadata": {},
     "output_type": "execute_result"
    }
   ],
   "source": [
    "features_to_drop_test = [f for f in features_to_drop if f in df_feat_test2.columns]\n",
    "Xtest = df_feat_test2.drop(features_to_drop_test, axis=1)\n",
    "Xtest.shape"
   ]
  },
  {
   "cell_type": "markdown",
   "metadata": {},
   "source": [
    "Suppression des colonnes superflues du train set"
   ]
  },
  {
   "cell_type": "code",
   "execution_count": 155,
   "metadata": {
    "scrolled": false
   },
   "outputs": [
    {
     "data": {
      "text/plain": [
       "(6068, 933)"
      ]
     },
     "execution_count": 155,
     "metadata": {},
     "output_type": "execute_result"
    }
   ],
   "source": [
    "features_to_drop1 = [f for f in features_to_drop if f in df_feat2.columns]\n",
    "Xtrain = df_feat2.drop(features_to_drop1, axis=1)\n",
    "\n",
    "features_to_drop2 = [f for f in Xtrain.columns if f not in Xtest.columns]\n",
    "Xtrain2 = Xtrain.drop(features_to_drop2, axis=1)\n",
    "\n",
    "Xtrain2.shape\n"
   ]
  },
  {
   "cell_type": "markdown",
   "metadata": {},
   "source": [
    "Entraînement du modèle"
   ]
  },
  {
   "cell_type": "code",
   "execution_count": 157,
   "metadata": {},
   "outputs": [
    {
     "data": {
      "text/plain": [
       "RandomForestRegressor(bootstrap=True, criterion='mse', max_depth=None,\n",
       "           max_features='log2', max_leaf_nodes=None,\n",
       "           min_impurity_decrease=0.0, min_impurity_split=None,\n",
       "           min_samples_leaf=1, min_samples_split=2,\n",
       "           min_weight_fraction_leaf=0.0, n_estimators=200, n_jobs=-1,\n",
       "           oob_score=False, random_state=None, verbose=0, warm_start=False)"
      ]
     },
     "execution_count": 157,
     "metadata": {},
     "output_type": "execute_result"
    }
   ],
   "source": [
    "rf_lat = RandomForestRegressor(n_estimators=200, max_features='log2', max_depth=None, n_jobs=-1, verbose=0)\n",
    "rf_long = RandomForestRegressor(n_estimators=200, max_features='log2', max_depth=None, n_jobs=-1, verbose=0)\n",
    "\n",
    "rf_lat.fit(Xtrain2, Y_lat)\n",
    "rf_long.fit(Xtrain2, Y_long)"
   ]
  },
  {
   "cell_type": "markdown",
   "metadata": {},
   "source": [
    "Prédiction"
   ]
  },
  {
   "cell_type": "code",
   "execution_count": 159,
   "metadata": {},
   "outputs": [],
   "source": [
    "y_pred_lat = rf_lat.predict(Xtest)\n",
    "y_pred_lng = rf_long.predict(Xtest)"
   ]
  },
  {
   "cell_type": "code",
   "execution_count": 165,
   "metadata": {},
   "outputs": [
    {
     "data": {
      "text/plain": [
       "array([39.8350312 , 39.77813695, 39.67685558, ..., 39.67149529,\n",
       "       39.66929368, 39.65543669])"
      ]
     },
     "execution_count": 165,
     "metadata": {},
     "output_type": "execute_result"
    }
   ],
   "source": [
    "y_pred_lat"
   ]
  },
  {
   "cell_type": "markdown",
   "metadata": {},
   "source": [
    "Stockage des résultats dans un dataframe puis réassemblage avec les messages retirés précédemment:"
   ]
  },
  {
   "cell_type": "code",
   "execution_count": 193,
   "metadata": {},
   "outputs": [
    {
     "data": {
      "text/html": [
       "<div>\n",
       "<style scoped>\n",
       "    .dataframe tbody tr th:only-of-type {\n",
       "        vertical-align: middle;\n",
       "    }\n",
       "\n",
       "    .dataframe tbody tr th {\n",
       "        vertical-align: top;\n",
       "    }\n",
       "\n",
       "    .dataframe thead th {\n",
       "        text-align: right;\n",
       "    }\n",
       "</style>\n",
       "<table border=\"1\" class=\"dataframe\">\n",
       "  <thead>\n",
       "    <tr style=\"text-align: right;\">\n",
       "      <th></th>\n",
       "      <th>lat</th>\n",
       "      <th>lng</th>\n",
       "      <th>messid</th>\n",
       "    </tr>\n",
       "  </thead>\n",
       "  <tbody>\n",
       "    <tr>\n",
       "      <th>0</th>\n",
       "      <td>39.835031</td>\n",
       "      <td>-105.149548</td>\n",
       "      <td>573be2503e952e191262c351</td>\n",
       "    </tr>\n",
       "    <tr>\n",
       "      <th>1</th>\n",
       "      <td>39.778137</td>\n",
       "      <td>-105.070785</td>\n",
       "      <td>573c05f83e952e1912758013</td>\n",
       "    </tr>\n",
       "    <tr>\n",
       "      <th>2</th>\n",
       "      <td>39.676856</td>\n",
       "      <td>-105.003559</td>\n",
       "      <td>573c0796f0fe6e735a66deb3</td>\n",
       "    </tr>\n",
       "    <tr>\n",
       "      <th>3</th>\n",
       "      <td>39.805470</td>\n",
       "      <td>-105.098648</td>\n",
       "      <td>573c08d2864fce1a9a0563bc</td>\n",
       "    </tr>\n",
       "    <tr>\n",
       "      <th>4</th>\n",
       "      <td>39.676766</td>\n",
       "      <td>-105.003065</td>\n",
       "      <td>573c08ff864fce1a9a0579b0</td>\n",
       "    </tr>\n",
       "  </tbody>\n",
       "</table>\n",
       "</div>"
      ],
      "text/plain": [
       "         lat         lng                    messid\n",
       "0  39.835031 -105.149548  573be2503e952e191262c351\n",
       "1  39.778137 -105.070785  573c05f83e952e1912758013\n",
       "2  39.676856 -105.003559  573c0796f0fe6e735a66deb3\n",
       "3  39.805470 -105.098648  573c08d2864fce1a9a0563bc\n",
       "4  39.676766 -105.003065  573c08ff864fce1a9a0579b0"
      ]
     },
     "execution_count": 193,
     "metadata": {},
     "output_type": "execute_result"
    }
   ],
   "source": [
    "results = pd.DataFrame(np.array([y_pred_lat, y_pred_lng]).T, index=Xtest.index)\n",
    "results.rename(columns={0:'lat',1:'lng'}, inplace=True)\n",
    "results['messid']=id_list_test\n",
    "results.head()"
   ]
  },
  {
   "cell_type": "code",
   "execution_count": 208,
   "metadata": {},
   "outputs": [
    {
     "name": "stderr",
     "output_type": "stream",
     "text": [
      "C:\\Users\\JN\\Anaconda3\\lib\\site-packages\\pandas\\core\\frame.py:3781: SettingWithCopyWarning: \n",
      "A value is trying to be set on a copy of a slice from a DataFrame\n",
      "\n",
      "See the caveats in the documentation: http://pandas.pydata.org/pandas-docs/stable/indexing.html#indexing-view-versus-copy\n",
      "  return super(DataFrame, self).rename(**kwargs)\n",
      "C:\\Users\\JN\\Anaconda3\\lib\\site-packages\\ipykernel_launcher.py:3: SettingWithCopyWarning: \n",
      "A value is trying to be set on a copy of a slice from a DataFrame.\n",
      "Try using .loc[row_indexer,col_indexer] = value instead\n",
      "\n",
      "See the caveats in the documentation: http://pandas.pydata.org/pandas-docs/stable/indexing.html#indexing-view-versus-copy\n",
      "  This is separate from the ipykernel package so we can avoid doing imports until\n"
     ]
    },
    {
     "data": {
      "text/html": [
       "<div>\n",
       "<style scoped>\n",
       "    .dataframe tbody tr th:only-of-type {\n",
       "        vertical-align: middle;\n",
       "    }\n",
       "\n",
       "    .dataframe tbody tr th {\n",
       "        vertical-align: top;\n",
       "    }\n",
       "\n",
       "    .dataframe thead th {\n",
       "        text-align: right;\n",
       "    }\n",
       "</style>\n",
       "<table border=\"1\" class=\"dataframe\">\n",
       "  <thead>\n",
       "    <tr style=\"text-align: right;\">\n",
       "      <th></th>\n",
       "      <th>lat</th>\n",
       "      <th>lng</th>\n",
       "      <th>messid</th>\n",
       "    </tr>\n",
       "  </thead>\n",
       "  <tbody>\n",
       "    <tr>\n",
       "      <th>0</th>\n",
       "      <td>39.835031</td>\n",
       "      <td>-105.149548</td>\n",
       "      <td>573be2503e952e191262c351</td>\n",
       "    </tr>\n",
       "    <tr>\n",
       "      <th>1</th>\n",
       "      <td>39.778137</td>\n",
       "      <td>-105.070785</td>\n",
       "      <td>573c05f83e952e1912758013</td>\n",
       "    </tr>\n",
       "    <tr>\n",
       "      <th>2</th>\n",
       "      <td>39.676856</td>\n",
       "      <td>-105.003559</td>\n",
       "      <td>573c0796f0fe6e735a66deb3</td>\n",
       "    </tr>\n",
       "    <tr>\n",
       "      <th>3</th>\n",
       "      <td>39.805470</td>\n",
       "      <td>-105.098648</td>\n",
       "      <td>573c08d2864fce1a9a0563bc</td>\n",
       "    </tr>\n",
       "    <tr>\n",
       "      <th>4</th>\n",
       "      <td>39.676766</td>\n",
       "      <td>-105.003065</td>\n",
       "      <td>573c08ff864fce1a9a0579b0</td>\n",
       "    </tr>\n",
       "  </tbody>\n",
       "</table>\n",
       "</div>"
      ],
      "text/plain": [
       "         lat         lng                    messid\n",
       "0  39.835031 -105.149548  573be2503e952e191262c351\n",
       "1  39.778137 -105.070785  573c05f83e952e1912758013\n",
       "2  39.676856 -105.003559  573c0796f0fe6e735a66deb3\n",
       "3  39.805470 -105.098648  573c08d2864fce1a9a0563bc\n",
       "4  39.676766 -105.003065  573c08ff864fce1a9a0579b0"
      ]
     },
     "execution_count": 208,
     "metadata": {},
     "output_type": "execute_result"
    }
   ],
   "source": [
    "results_new_bsids = pred_new_bsids[['bs_lat','bs_lng']]\n",
    "results_new_bsids.rename(columns={'bs_lat':'lat','bs_lng':'lng'}, inplace=True)\n",
    "results_new_bsids['messid']=results_new_bsids.index.values\n",
    "\n",
    "all_results = pd.concat([results, results_new_bsids], axis=0)\n",
    "all_results.head()"
   ]
  },
  {
   "cell_type": "markdown",
   "metadata": {},
   "source": [
    "Exportation au format csv"
   ]
  },
  {
   "cell_type": "code",
   "execution_count": 209,
   "metadata": {},
   "outputs": [],
   "source": [
    "all_results.to_csv('pred_pos_test_list.csv', index=False)"
   ]
  },
  {
   "cell_type": "markdown",
   "metadata": {},
   "source": [
    "## Annexe : Autres approches testées et écartées"
   ]
  },
  {
   "cell_type": "markdown",
   "metadata": {},
   "source": [
    "En dehors de la démarche évoquée ci-dessus, on a tenté d'améliorer la précision du modèle de plusieurs manières, qui n'ont malheureusement pas abouti à des gains significatifs:\n",
    "    - Retrait des bsid trop excentrées du train set\n",
    "    - Traitement à part des messages reçus par moins de trois bsid\n",
    "    - Estimation de la distance entre les IoT et les bsids ayant reçu leurs messages à partir de la valeur du rssi, grâce à la relation distance = 10^(-1/20*(rssi - alpha) * longueur d'onde, où alpha est une constante estimée pour chaque bsid par régression linéaire. L'objectif était de créer de nouvelles features pour le modèle.\n",
    "    - Expression des coordonnées des bsid et des devices dans d'autres systèmes de coordonnées\n",
    "    - Création de nouvelles features à partir des arbres obtenus par entraînement d'une forêt aléatoire, puis entraînement d'un autre classifieur\n",
    "    - Application d'un algorithme de clustering pour identifier des groupes de bsid présentant des caractéristiques atypiques\n",
    "    - Recours à d'autres types d'algorithmes : variantes autour de la régression linéaire (recours à l'ACP, Ridge), KNN, LGM, Catboost, extra tree classifier."
   ]
  },
  {
   "cell_type": "code",
   "execution_count": null,
   "metadata": {},
   "outputs": [],
   "source": []
  }
 ],
 "metadata": {
  "kernelspec": {
   "display_name": "Python 3",
   "language": "python",
   "name": "python3"
  },
  "language_info": {
   "codemirror_mode": {
    "name": "ipython",
    "version": 3
   },
   "file_extension": ".py",
   "mimetype": "text/x-python",
   "name": "python",
   "nbconvert_exporter": "python",
   "pygments_lexer": "ipython3",
   "version": "3.7.1"
  },
  "toc": {
   "base_numbering": 1,
   "nav_menu": {},
   "number_sections": true,
   "sideBar": true,
   "skip_h1_title": true,
   "title_cell": "Table of Contents",
   "title_sidebar": "Contents",
   "toc_cell": false,
   "toc_position": {
    "height": "calc(100% - 180px)",
    "left": "10px",
    "top": "150px",
    "width": "273.2px"
   },
   "toc_section_display": true,
   "toc_window_display": true
  },
  "varInspector": {
   "cols": {
    "lenName": 16,
    "lenType": 16,
    "lenVar": 40
   },
   "kernels_config": {
    "python": {
     "delete_cmd_postfix": "",
     "delete_cmd_prefix": "del ",
     "library": "var_list.py",
     "varRefreshCmd": "print(var_dic_list())"
    },
    "r": {
     "delete_cmd_postfix": ") ",
     "delete_cmd_prefix": "rm(",
     "library": "var_list.r",
     "varRefreshCmd": "cat(var_dic_list()) "
    }
   },
   "types_to_exclude": [
    "module",
    "function",
    "builtin_function_or_method",
    "instance",
    "_Feature"
   ],
   "window_display": false
  }
 },
 "nbformat": 4,
 "nbformat_minor": 1
}
