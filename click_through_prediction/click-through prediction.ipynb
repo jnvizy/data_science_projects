{
 "cells": [
  {
   "cell_type": "markdown",
   "metadata": {
    "colab_type": "text",
    "id": "KOiscIqaXjBx"
   },
   "source": [
    "<h1><center>Avazu - Click-through prediction<center></h1>"
   ]
  },
  {
   "cell_type": "markdown",
   "metadata": {},
   "source": [
    "# Overview"
   ]
  },
  {
   "cell_type": "markdown",
   "metadata": {},
   "source": [
    "In online advertising, click-through rate (CTR) is a very important metric for evaluating ad performance. As a result, click prediction systems are essential and widely used for sponsored search and real-time bidding.\n",
    "During this competition, participants were provided with 11 days worth of Avazu data to build and test prediction models. "
   ]
  },
  {
   "cell_type": "code",
   "execution_count": 1,
   "metadata": {
    "colab": {},
    "colab_type": "code",
    "id": "vwCB9MQZXjB1"
   },
   "outputs": [],
   "source": [
    "#IKmports\n",
    "import numpy as np\n",
    "import pandas as pd\n",
    "import matplotlib.pyplot as plt\n",
    "import seaborn as sns\n",
    "import datetime\n",
    "import warnings \n",
    "warnings.filterwarnings(\"ignore\")\n",
    "sns.set()\n",
    "%matplotlib inline"
   ]
  },
  {
   "cell_type": "code",
   "execution_count": 2,
   "metadata": {},
   "outputs": [],
   "source": [
    "pd.set_option('display.max_columns',200)"
   ]
  },
  {
   "cell_type": "code",
   "execution_count": 3,
   "metadata": {},
   "outputs": [],
   "source": [
    "# Let us build a dataframe allowing to make a summary of the different models.\n",
    "columns = ['Accuracy', 'Log Loss', 'ROC AUC']\n",
    "index = ['Logit Xtrain_oh', 'Logit Xtrain_oh[:, cols_to_keep]', 'GradientBoosting Xtrain_oh[:, cols_to_keep]', 'Logit Xtrain with leafs', 'XGBoost Xtrain with leafs', 'XGBoost Xtrain with leafs 1024', 'Random Forest Xtrain with Hash', 'XGBoost Xtrain with Hash', 'XGBoost Xtrain with enlarge set', 'Random Forest Xtrain with enlarge set']\n",
    "df_compare = pd.DataFrame(index = index, columns = columns,)"
   ]
  },
  {
   "cell_type": "markdown",
   "metadata": {
    "colab_type": "text",
    "id": "VF6uBAoOXjB5"
   },
   "source": [
    "# The dataset"
   ]
  },
  {
   "cell_type": "markdown",
   "metadata": {
    "colab_type": "text",
    "id": "Ua-tR8EyXjB6"
   },
   "source": [
    "**Remark**: the features meaning is available at https://www.kaggle.com/c/avazu-ctr-prediction/data"
   ]
  },
  {
   "cell_type": "code",
   "execution_count": 4,
   "metadata": {
    "colab": {},
    "colab_type": "code",
    "id": "_n1qHvOMXjB7"
   },
   "outputs": [],
   "source": [
    "df = pd.read_csv('../data/train-1000000')"
   ]
  },
  {
   "cell_type": "code",
   "execution_count": 5,
   "metadata": {
    "colab": {
     "base_uri": "https://localhost:8080/",
     "height": 408
    },
    "colab_type": "code",
    "id": "3WyEjL0pXjB-",
    "outputId": "9bee5de9-6217-4e26-eb6e-83d7544f2337"
   },
   "outputs": [
    {
     "data": {
      "text/html": [
       "<div>\n",
       "<style scoped>\n",
       "    .dataframe tbody tr th:only-of-type {\n",
       "        vertical-align: middle;\n",
       "    }\n",
       "\n",
       "    .dataframe tbody tr th {\n",
       "        vertical-align: top;\n",
       "    }\n",
       "\n",
       "    .dataframe thead th {\n",
       "        text-align: right;\n",
       "    }\n",
       "</style>\n",
       "<table border=\"1\" class=\"dataframe\">\n",
       "  <thead>\n",
       "    <tr style=\"text-align: right;\">\n",
       "      <th></th>\n",
       "      <th>id</th>\n",
       "      <th>click</th>\n",
       "      <th>hour</th>\n",
       "      <th>C1</th>\n",
       "      <th>banner_pos</th>\n",
       "      <th>site_id</th>\n",
       "      <th>site_domain</th>\n",
       "      <th>site_category</th>\n",
       "      <th>app_id</th>\n",
       "      <th>app_domain</th>\n",
       "      <th>app_category</th>\n",
       "      <th>device_id</th>\n",
       "      <th>device_ip</th>\n",
       "      <th>device_model</th>\n",
       "      <th>device_type</th>\n",
       "      <th>device_conn_type</th>\n",
       "      <th>C14</th>\n",
       "      <th>C15</th>\n",
       "      <th>C16</th>\n",
       "      <th>C17</th>\n",
       "      <th>C18</th>\n",
       "      <th>C19</th>\n",
       "      <th>C20</th>\n",
       "      <th>C21</th>\n",
       "    </tr>\n",
       "  </thead>\n",
       "  <tbody>\n",
       "    <tr>\n",
       "      <th>0</th>\n",
       "      <td>3.983206e+18</td>\n",
       "      <td>0</td>\n",
       "      <td>14102915</td>\n",
       "      <td>1005</td>\n",
       "      <td>1</td>\n",
       "      <td>e151e245</td>\n",
       "      <td>7e091613</td>\n",
       "      <td>f028772b</td>\n",
       "      <td>ecad2386</td>\n",
       "      <td>7801e8d9</td>\n",
       "      <td>07d7df22</td>\n",
       "      <td>a99f214a</td>\n",
       "      <td>fb6566d3</td>\n",
       "      <td>be87996b</td>\n",
       "      <td>1</td>\n",
       "      <td>2</td>\n",
       "      <td>4687</td>\n",
       "      <td>320</td>\n",
       "      <td>50</td>\n",
       "      <td>423</td>\n",
       "      <td>2</td>\n",
       "      <td>39</td>\n",
       "      <td>100148</td>\n",
       "      <td>32</td>\n",
       "    </tr>\n",
       "    <tr>\n",
       "      <th>1</th>\n",
       "      <td>7.756884e+18</td>\n",
       "      <td>0</td>\n",
       "      <td>14103007</td>\n",
       "      <td>1002</td>\n",
       "      <td>0</td>\n",
       "      <td>cb809abf</td>\n",
       "      <td>74acf31a</td>\n",
       "      <td>50e219e0</td>\n",
       "      <td>ecad2386</td>\n",
       "      <td>7801e8d9</td>\n",
       "      <td>07d7df22</td>\n",
       "      <td>9b7af851</td>\n",
       "      <td>ac5a4a77</td>\n",
       "      <td>7e6190f3</td>\n",
       "      <td>0</td>\n",
       "      <td>0</td>\n",
       "      <td>17894</td>\n",
       "      <td>320</td>\n",
       "      <td>50</td>\n",
       "      <td>2039</td>\n",
       "      <td>2</td>\n",
       "      <td>39</td>\n",
       "      <td>100077</td>\n",
       "      <td>32</td>\n",
       "    </tr>\n",
       "    <tr>\n",
       "      <th>2</th>\n",
       "      <td>6.941774e+17</td>\n",
       "      <td>0</td>\n",
       "      <td>14102711</td>\n",
       "      <td>1005</td>\n",
       "      <td>0</td>\n",
       "      <td>85f751fd</td>\n",
       "      <td>c4e18dd6</td>\n",
       "      <td>50e219e0</td>\n",
       "      <td>e9739828</td>\n",
       "      <td>df32afa9</td>\n",
       "      <td>cef3e649</td>\n",
       "      <td>a99f214a</td>\n",
       "      <td>748e298a</td>\n",
       "      <td>3c55fad5</td>\n",
       "      <td>1</td>\n",
       "      <td>0</td>\n",
       "      <td>22684</td>\n",
       "      <td>320</td>\n",
       "      <td>50</td>\n",
       "      <td>2619</td>\n",
       "      <td>1</td>\n",
       "      <td>163</td>\n",
       "      <td>100055</td>\n",
       "      <td>71</td>\n",
       "    </tr>\n",
       "    <tr>\n",
       "      <th>3</th>\n",
       "      <td>2.664154e+18</td>\n",
       "      <td>1</td>\n",
       "      <td>14102903</td>\n",
       "      <td>1005</td>\n",
       "      <td>0</td>\n",
       "      <td>85f751fd</td>\n",
       "      <td>c4e18dd6</td>\n",
       "      <td>50e219e0</td>\n",
       "      <td>a5184c22</td>\n",
       "      <td>b8d325c3</td>\n",
       "      <td>0f2161f8</td>\n",
       "      <td>a99f214a</td>\n",
       "      <td>a50da3d4</td>\n",
       "      <td>c5cc73c1</td>\n",
       "      <td>1</td>\n",
       "      <td>0</td>\n",
       "      <td>23222</td>\n",
       "      <td>320</td>\n",
       "      <td>50</td>\n",
       "      <td>2676</td>\n",
       "      <td>0</td>\n",
       "      <td>35</td>\n",
       "      <td>100176</td>\n",
       "      <td>221</td>\n",
       "    </tr>\n",
       "    <tr>\n",
       "      <th>4</th>\n",
       "      <td>1.480510e+19</td>\n",
       "      <td>0</td>\n",
       "      <td>14102902</td>\n",
       "      <td>1005</td>\n",
       "      <td>1</td>\n",
       "      <td>791b5571</td>\n",
       "      <td>fd13bc73</td>\n",
       "      <td>f028772b</td>\n",
       "      <td>ecad2386</td>\n",
       "      <td>7801e8d9</td>\n",
       "      <td>07d7df22</td>\n",
       "      <td>a99f214a</td>\n",
       "      <td>d5f88679</td>\n",
       "      <td>a5bce124</td>\n",
       "      <td>1</td>\n",
       "      <td>0</td>\n",
       "      <td>8330</td>\n",
       "      <td>320</td>\n",
       "      <td>50</td>\n",
       "      <td>761</td>\n",
       "      <td>3</td>\n",
       "      <td>175</td>\n",
       "      <td>100081</td>\n",
       "      <td>23</td>\n",
       "    </tr>\n",
       "    <tr>\n",
       "      <th>5</th>\n",
       "      <td>1.591127e+19</td>\n",
       "      <td>0</td>\n",
       "      <td>14102700</td>\n",
       "      <td>1005</td>\n",
       "      <td>0</td>\n",
       "      <td>85f751fd</td>\n",
       "      <td>c4e18dd6</td>\n",
       "      <td>50e219e0</td>\n",
       "      <td>febd1138</td>\n",
       "      <td>82e27996</td>\n",
       "      <td>0f2161f8</td>\n",
       "      <td>a99f214a</td>\n",
       "      <td>189590f9</td>\n",
       "      <td>2ea4f8ba</td>\n",
       "      <td>1</td>\n",
       "      <td>0</td>\n",
       "      <td>21611</td>\n",
       "      <td>320</td>\n",
       "      <td>50</td>\n",
       "      <td>2480</td>\n",
       "      <td>3</td>\n",
       "      <td>297</td>\n",
       "      <td>100111</td>\n",
       "      <td>61</td>\n",
       "    </tr>\n",
       "    <tr>\n",
       "      <th>6</th>\n",
       "      <td>4.149473e+18</td>\n",
       "      <td>0</td>\n",
       "      <td>14102408</td>\n",
       "      <td>1010</td>\n",
       "      <td>1</td>\n",
       "      <td>85f751fd</td>\n",
       "      <td>c4e18dd6</td>\n",
       "      <td>50e219e0</td>\n",
       "      <td>03a08c3f</td>\n",
       "      <td>7801e8d9</td>\n",
       "      <td>0f2161f8</td>\n",
       "      <td>192d98b0</td>\n",
       "      <td>74169322</td>\n",
       "      <td>c144e605</td>\n",
       "      <td>4</td>\n",
       "      <td>3</td>\n",
       "      <td>15704</td>\n",
       "      <td>320</td>\n",
       "      <td>50</td>\n",
       "      <td>1722</td>\n",
       "      <td>0</td>\n",
       "      <td>35</td>\n",
       "      <td>100084</td>\n",
       "      <td>79</td>\n",
       "    </tr>\n",
       "    <tr>\n",
       "      <th>7</th>\n",
       "      <td>1.085379e+19</td>\n",
       "      <td>0</td>\n",
       "      <td>14102904</td>\n",
       "      <td>1005</td>\n",
       "      <td>0</td>\n",
       "      <td>85f751fd</td>\n",
       "      <td>c4e18dd6</td>\n",
       "      <td>50e219e0</td>\n",
       "      <td>a5184c22</td>\n",
       "      <td>b8d325c3</td>\n",
       "      <td>0f2161f8</td>\n",
       "      <td>a99f214a</td>\n",
       "      <td>342b6e9e</td>\n",
       "      <td>a0f5f879</td>\n",
       "      <td>1</td>\n",
       "      <td>0</td>\n",
       "      <td>23224</td>\n",
       "      <td>320</td>\n",
       "      <td>50</td>\n",
       "      <td>2676</td>\n",
       "      <td>0</td>\n",
       "      <td>35</td>\n",
       "      <td>100176</td>\n",
       "      <td>221</td>\n",
       "    </tr>\n",
       "    <tr>\n",
       "      <th>8</th>\n",
       "      <td>2.629918e+18</td>\n",
       "      <td>0</td>\n",
       "      <td>14102513</td>\n",
       "      <td>1010</td>\n",
       "      <td>1</td>\n",
       "      <td>85f751fd</td>\n",
       "      <td>c4e18dd6</td>\n",
       "      <td>50e219e0</td>\n",
       "      <td>8486dd4e</td>\n",
       "      <td>7801e8d9</td>\n",
       "      <td>0f2161f8</td>\n",
       "      <td>50dc7a55</td>\n",
       "      <td>2064d2cc</td>\n",
       "      <td>d6cd23ab</td>\n",
       "      <td>4</td>\n",
       "      <td>0</td>\n",
       "      <td>17875</td>\n",
       "      <td>320</td>\n",
       "      <td>50</td>\n",
       "      <td>2036</td>\n",
       "      <td>3</td>\n",
       "      <td>47</td>\n",
       "      <td>-1</td>\n",
       "      <td>156</td>\n",
       "    </tr>\n",
       "    <tr>\n",
       "      <th>9</th>\n",
       "      <td>1.419062e+19</td>\n",
       "      <td>0</td>\n",
       "      <td>14102600</td>\n",
       "      <td>1010</td>\n",
       "      <td>1</td>\n",
       "      <td>85f751fd</td>\n",
       "      <td>c4e18dd6</td>\n",
       "      <td>50e219e0</td>\n",
       "      <td>04f2be5f</td>\n",
       "      <td>7801e8d9</td>\n",
       "      <td>0f2161f8</td>\n",
       "      <td>feb99a64</td>\n",
       "      <td>72c47474</td>\n",
       "      <td>a0f5f879</td>\n",
       "      <td>4</td>\n",
       "      <td>3</td>\n",
       "      <td>22552</td>\n",
       "      <td>320</td>\n",
       "      <td>50</td>\n",
       "      <td>2602</td>\n",
       "      <td>0</td>\n",
       "      <td>163</td>\n",
       "      <td>100084</td>\n",
       "      <td>182</td>\n",
       "    </tr>\n",
       "  </tbody>\n",
       "</table>\n",
       "</div>"
      ],
      "text/plain": [
       "             id  click      hour    C1  banner_pos   site_id site_domain  \\\n",
       "0  3.983206e+18      0  14102915  1005           1  e151e245    7e091613   \n",
       "1  7.756884e+18      0  14103007  1002           0  cb809abf    74acf31a   \n",
       "2  6.941774e+17      0  14102711  1005           0  85f751fd    c4e18dd6   \n",
       "3  2.664154e+18      1  14102903  1005           0  85f751fd    c4e18dd6   \n",
       "4  1.480510e+19      0  14102902  1005           1  791b5571    fd13bc73   \n",
       "5  1.591127e+19      0  14102700  1005           0  85f751fd    c4e18dd6   \n",
       "6  4.149473e+18      0  14102408  1010           1  85f751fd    c4e18dd6   \n",
       "7  1.085379e+19      0  14102904  1005           0  85f751fd    c4e18dd6   \n",
       "8  2.629918e+18      0  14102513  1010           1  85f751fd    c4e18dd6   \n",
       "9  1.419062e+19      0  14102600  1010           1  85f751fd    c4e18dd6   \n",
       "\n",
       "  site_category    app_id app_domain app_category device_id device_ip  \\\n",
       "0      f028772b  ecad2386   7801e8d9     07d7df22  a99f214a  fb6566d3   \n",
       "1      50e219e0  ecad2386   7801e8d9     07d7df22  9b7af851  ac5a4a77   \n",
       "2      50e219e0  e9739828   df32afa9     cef3e649  a99f214a  748e298a   \n",
       "3      50e219e0  a5184c22   b8d325c3     0f2161f8  a99f214a  a50da3d4   \n",
       "4      f028772b  ecad2386   7801e8d9     07d7df22  a99f214a  d5f88679   \n",
       "5      50e219e0  febd1138   82e27996     0f2161f8  a99f214a  189590f9   \n",
       "6      50e219e0  03a08c3f   7801e8d9     0f2161f8  192d98b0  74169322   \n",
       "7      50e219e0  a5184c22   b8d325c3     0f2161f8  a99f214a  342b6e9e   \n",
       "8      50e219e0  8486dd4e   7801e8d9     0f2161f8  50dc7a55  2064d2cc   \n",
       "9      50e219e0  04f2be5f   7801e8d9     0f2161f8  feb99a64  72c47474   \n",
       "\n",
       "  device_model  device_type  device_conn_type    C14  C15  C16   C17  C18  \\\n",
       "0     be87996b            1                 2   4687  320   50   423    2   \n",
       "1     7e6190f3            0                 0  17894  320   50  2039    2   \n",
       "2     3c55fad5            1                 0  22684  320   50  2619    1   \n",
       "3     c5cc73c1            1                 0  23222  320   50  2676    0   \n",
       "4     a5bce124            1                 0   8330  320   50   761    3   \n",
       "5     2ea4f8ba            1                 0  21611  320   50  2480    3   \n",
       "6     c144e605            4                 3  15704  320   50  1722    0   \n",
       "7     a0f5f879            1                 0  23224  320   50  2676    0   \n",
       "8     d6cd23ab            4                 0  17875  320   50  2036    3   \n",
       "9     a0f5f879            4                 3  22552  320   50  2602    0   \n",
       "\n",
       "   C19     C20  C21  \n",
       "0   39  100148   32  \n",
       "1   39  100077   32  \n",
       "2  163  100055   71  \n",
       "3   35  100176  221  \n",
       "4  175  100081   23  \n",
       "5  297  100111   61  \n",
       "6   35  100084   79  \n",
       "7   35  100176  221  \n",
       "8   47      -1  156  \n",
       "9  163  100084  182  "
      ]
     },
     "execution_count": 5,
     "metadata": {},
     "output_type": "execute_result"
    }
   ],
   "source": [
    "df.head(10)"
   ]
  },
  {
   "cell_type": "markdown",
   "metadata": {
    "colab_type": "text",
    "id": "VgNMlD7gXjCE"
   },
   "source": [
    "Let us first calculate the click through frequency in this dataset:"
   ]
  },
  {
   "cell_type": "code",
   "execution_count": 7,
   "metadata": {
    "colab": {
     "base_uri": "https://localhost:8080/",
     "height": 34
    },
    "colab_type": "code",
    "id": "PrnnzuA0YnoI",
    "outputId": "2329dbfe-7ed6-41d6-f65e-683486a54e5a"
   },
   "outputs": [
    {
     "data": {
      "text/plain": [
       "0.169971"
      ]
     },
     "execution_count": 7,
     "metadata": {},
     "output_type": "execute_result"
    }
   ],
   "source": [
    "(df['click'].value_counts())/df['click'].describe()[0]\n",
    "df['click'].mean()"
   ]
  },
  {
   "cell_type": "markdown",
   "metadata": {
    "colab_type": "text",
    "id": "M_gXA3ofXjCK"
   },
   "source": [
    "We note that the Avazu dataset is very unbalanced. The 'click' class represents less than a fifth of the whole dataset. We already know that a classifier always predicting `click`=0 will have good preformances in terms of error rate (around 0.17). The ROC and lift curves will be better performance metrics."
   ]
  },
  {
   "cell_type": "markdown",
   "metadata": {
    "colab_type": "text",
    "id": "CJa9ynSBXjCK"
   },
   "source": [
    "Moreover, we note that banner_pos, site_category, app_category, device_model, device_type, device_conn_type, C1, C14, C15, C16, C17, C18, C19, C20 and C21 all seem to be categorical features."
   ]
  },
  {
   "cell_type": "code",
   "execution_count": 8,
   "metadata": {
    "colab": {
     "base_uri": "https://localhost:8080/",
     "height": 442
    },
    "colab_type": "code",
    "id": "cAWfJjnWXjCM",
    "outputId": "1ae209b8-8985-4e09-d139-7e3f1790fa03"
   },
   "outputs": [
    {
     "data": {
      "text/plain": [
       "id                  float64\n",
       "click                 int64\n",
       "hour                  int64\n",
       "C1                    int64\n",
       "banner_pos            int64\n",
       "site_id              object\n",
       "site_domain          object\n",
       "site_category        object\n",
       "app_id               object\n",
       "app_domain           object\n",
       "app_category         object\n",
       "device_id            object\n",
       "device_ip            object\n",
       "device_model         object\n",
       "device_type           int64\n",
       "device_conn_type      int64\n",
       "C14                   int64\n",
       "C15                   int64\n",
       "C16                   int64\n",
       "C17                   int64\n",
       "C18                   int64\n",
       "C19                   int64\n",
       "C20                   int64\n",
       "C21                   int64\n",
       "dtype: object"
      ]
     },
     "execution_count": 8,
     "metadata": {},
     "output_type": "execute_result"
    }
   ],
   "source": [
    "df.dtypes"
   ]
  },
  {
   "cell_type": "code",
   "execution_count": 9,
   "metadata": {},
   "outputs": [],
   "source": [
    "categorical = ['banner_pos', 'site_category', 'app_category', 'device_model', 'device_type', 'device_conn_type',\n",
    "               'C1', 'C14', 'C15', 'C16', 'C17', 'C18', 'C19', 'C20', 'C21']"
   ]
  },
  {
   "cell_type": "code",
   "execution_count": 10,
   "metadata": {
    "colab": {
     "base_uri": "https://localhost:8080/",
     "height": 2502
    },
    "colab_type": "code",
    "id": "zYFqrcb4XjCS",
    "outputId": "b51f9369-2ffc-473e-99ac-f25b5458dc88"
   },
   "outputs": [
    {
     "name": "stdout",
     "output_type": "stream",
     "text": [
      "banner_pos [1 0 7 2 4 5 3] 7\n",
      "site_category ['f028772b' '50e219e0' '28905ebd' '3e814130' '75fa27f6' '76b2941d'\n",
      " 'f66779e6' '72722551' '0569f928' '335d28a8' 'c0dd3be3' '70fb0e29'\n",
      " '8fd0aea4' 'dedf689d' 'e787de0e' '42a36e14' 'a818d37a' '9ccfa2ea'\n",
      " 'bcf865d9' '5378d028' 'da34532e' 'c706e647'] 22\n",
      "app_category ['07d7df22' 'cef3e649' '0f2161f8' '8ded1f7a' 'f95efa07' 'dc97ec06'\n",
      " '09481d60' 'd1327cf5' 'fc6fa53d' '2281a340' '7113d72a' '4681bb9d'\n",
      " '75d80bbe' '0f9a328c' '4ce2e9fc' 'a3c42688' 'a7fd01ec' '879c24eb'\n",
      " 'a86a3e89' '8df2e842' '18b1e0be' '86c1a5a3' '2fc4f2aa' '79f0b860'\n",
      " '0bfbc358' '5326cf99'] 26\n",
      "device_model ['be87996b' '7e6190f3' '3c55fad5' ... 'cbc27e50' '8441e5e4' '78cd4bd4'] 5168\n",
      "device_type [1 0 4 5 2] 5\n",
      "device_conn_type [2 0 3 5] 4\n",
      "C1 [1005 1002 1010 1007 1012 1001 1008] 7\n",
      "C14 [ 4687 17894 22684 ... 22667 22660 18579] 2243\n",
      "C15 [ 320  300  216  728  120  768 1024  480] 8\n",
      "C16 [  50  250   36  480   90   20 1024  768  320] 9\n",
      "C17 [ 423 2039 2619 2676  761 2480 1722 2036 2602 2545 2494 2291 1993  479\n",
      " 2299 2716 2307 2502 2738 2500 1800 2528 2667 2506 2665 2227 2515 2649\n",
      " 2424 2162 2640 2303  572 1872 2513 1887 2524 2653 2371 1863 2556 1882\n",
      "  178 2601 1873 2333 1973 2569 1903  122 2369 2201 2374 2060 2726 2688\n",
      " 2493 2295  544 2340 2655 2492 2572 2616 2682 2507 2351  576 2229 2482\n",
      " 1899 2526 2600 1994 2467  906 2683 2495 2440 2283 2496 2648 2664 1526\n",
      " 2505 2707 2284 2624 2478 2331 2253 2566 2504 2680  613 2684 1921 2264\n",
      " 2685 2654 2609 2441 2691 2523 2446 2543 2161 2617 2714  112 2713 2491\n",
      " 2647 2681 2736 2728 2476  901 2754 1092 2312 2573 1780 1934 2158 2657\n",
      " 1447 2550 1821 1702 2271 2636 2561 2548 2372 1955 2721 2717 2454 2519\n",
      " 2462  547 1637 2434 2747 2724 1823  571  768 2552 1926 2580 2535 2348\n",
      " 2512 1974 2597 2043 2755  827 2420 2338 2281 2668 1769 2560 2323 1740\n",
      " 2650 2658 2225 2509 2498 2611 2316 1991 2631 2537 2487 2570 1160  898\n",
      " 2428 2735 2672 2520 2615 2638 2533 2635 2286 2749 2418 2748 2497 2756\n",
      " 1939 2578 2226 2532 2639 2709 2579 2306 2620 2614 2443 2181 2698 2546\n",
      " 2016 2547 1174 2699 2104 2508 2634 2643 2282 1946 2671 1996 2285 1835\n",
      " 1528 2489 2743 2599 2260 2708  394 2522 2242 2394 2610 1752 1895  863\n",
      " 1161 2278 1272 2608 2742 2740 2534 2645 2544 2325 2656 2485 2084 1149\n",
      " 2661 2554 2677 2412 2425 2606 2660 2083 2583 1741 2576 2710 2613 2673\n",
      " 2727 1248 2587 2453 2705 2741 2555 2553 2695 2670 2503 2150  686 2625\n",
      "  196 2627  549 2421 2435 2686 2574 2304 2712 2527 2510 2637 2481 1401\n",
      "  550 2551 2439 2612 2289 2571 2646 2757 2675 2641 2153 2449 2590  153\n",
      " 2679 2199 2753 1960 2642 1884 2720 1426 2666 2565 2429 2630 2339 2577\n",
      " 2471 2706 2250 2009 2589 2745 2711 2539 2729 2451 2603 2730 2725 2450\n",
      " 2542 1076 1809 2438 2483 2427 2607 1694 2531 2263 1685 1972 2659 2663\n",
      " 2558 2292 1784 2700 2678 2581 2651 2591 2662 2644 1932 2715 2702 2154\n",
      " 2703 2604 2652 2279 1698 2557 2594 2633 1965  937 1008 2592 2436 1507\n",
      " 2397 2588 2563 2536 2218 2187 2737 1255  832 1141 2518 2689 2669  873\n",
      " 2530 2525 2598 1042 2455 2101 2448 2687  872 1107 2674 2605 2206 2582\n",
      " 1515 2375 2270 2501 2479 2593 2568 2459 2465 2719 2447 2390  644 2585] 420\n",
      "C18 [2 1 0 3] 4\n",
      "C19 [  39  163   35  175  297   47  167 1063 1327   43   34  935  161  551\n",
      "  171  809  803   33   41   38  679  419  687  431  299  559 1451  169\n",
      "  937 1065  303  815  427 1319  290 1315 1835 1711  291  547 1059  813\n",
      "  675 1071  673  943  553  423  295  811  681  801  425 1575  939 1831\n",
      " 1839  555  289  417 1195 1583   45  683  545 1447] 66\n",
      "C20 [100148 100077 100055 100176 100081 100111 100084     -1 100083 100020\n",
      " 100075 100076 100190 100194 100189 100217 100091 100192 100193 100141\n",
      " 100074 100191 100019 100079 100048 100053 100200 100155 100188 100131\n",
      " 100031 100202 100144 100221 100156 100021 100058 100025 100065 100160\n",
      " 100233 100000 100151 100162 100061 100228 100210 100013 100241 100171\n",
      " 100050 100060 100177 100103 100119 100003 100101 100161 100046 100088\n",
      " 100173 100005 100199 100094 100034 100150 100068 100139 100182 100170\n",
      " 100072 100059 100130 100149 100087 100185 100206 100181 100143 100032\n",
      " 100105 100112 100057 100043 100040 100128 100123 100054 100106 100039\n",
      " 100195 100028 100004 100107 100070 100052 100056 100026 100022 100183\n",
      " 100166 100133 100135 100225 100114 100117 100215 100041 100029 100086\n",
      " 100168 100113 100049 100172 100248 100012 100062 100037 100244 100126\n",
      " 100096 100033 100165 100063 100099 100071 100212 100179 100001 100097\n",
      " 100095 100169 100124 100122 100002 100064 100051 100229 100205 100090\n",
      " 100073 100224 100093 100213 100152 100016 100010 100109 100121 100178\n",
      " 100100 100153 100163 100157 100137 100024 100108 100082 100138 100175\n",
      " 100098 100246 100078] 163\n",
      "C21 [ 32  71 221  23  61  79 156 182 112  43  33  52  17  90 157  48 204  68\n",
      "  94  46  13  15 229 212 117 159  42  51  95  35 111  91 194 246  16 178\n",
      " 110  70 116  76 253 108  69 101 100 251 195 171 177  82  93 104 219   1\n",
      "  20 102 255 126 163  85] 60\n"
     ]
    }
   ],
   "source": [
    "# displays the name of a variable, its unique values, and the number of its unique values \n",
    "for var in categorical: \n",
    "    print(var, df[var].unique(), df[var].nunique())"
   ]
  },
  {
   "cell_type": "markdown",
   "metadata": {
    "colab_type": "text",
    "id": "h4T-77P5XjCV"
   },
   "source": [
    "Given these categorical variables, one-hot encoding might make sense, but we must figure out the numer of columns this would create first:"
   ]
  },
  {
   "cell_type": "code",
   "execution_count": 11,
   "metadata": {},
   "outputs": [
    {
     "name": "stdout",
     "output_type": "stream",
     "text": [
      "Size of the categorical features in dummies encoding: 8212\n"
     ]
    }
   ],
   "source": [
    "m, n = df.shape\n",
    "non_categorical = n - len(categorical)\n",
    "\n",
    "res = 0\n",
    "for var in categorical:\n",
    "    res += df[var].nunique()\n",
    "print('Size of the categorical features in dummies encoding:',res)"
   ]
  },
  {
   "cell_type": "code",
   "execution_count": 12,
   "metadata": {},
   "outputs": [
    {
     "name": "stdout",
     "output_type": "stream",
     "text": [
      "The dimension with all categorical variables in dummies encoding: 8221\n"
     ]
    }
   ],
   "source": [
    "print(f'The dimension with all categorical variables in dummies encoding: {res + non_categorical}')"
   ]
  },
  {
   "cell_type": "markdown",
   "metadata": {
    "colab_type": "text",
    "id": "VeCQFHdTXjCa"
   },
   "source": [
    "To avoid any issues related with date formats, let us have a look at the 'hour' column: "
   ]
  },
  {
   "cell_type": "code",
   "execution_count": 13,
   "metadata": {},
   "outputs": [
    {
     "name": "stdout",
     "output_type": "stream",
     "text": [
      "Type: int64\n"
     ]
    }
   ],
   "source": [
    "print('Type:', df['hour'].dtype)"
   ]
  },
  {
   "cell_type": "code",
   "execution_count": 14,
   "metadata": {
    "colab": {
     "base_uri": "https://localhost:8080/",
     "height": 221
    },
    "colab_type": "code",
    "id": "mCQZNpVUXjCb",
    "outputId": "1bfdc557-343e-4aa4-a353-2df58f6b570b"
   },
   "outputs": [
    {
     "name": "stdout",
     "output_type": "stream",
     "text": [
      "0    14102915\n",
      "1    14103007\n",
      "2    14102711\n",
      "3    14102903\n",
      "4    14102902\n",
      "Name: hour, dtype: int64\n",
      "999995    14102602\n",
      "999996    14102101\n",
      "999997    14102318\n",
      "999998    14102908\n",
      "999999    14102600\n",
      "Name: hour, dtype: int64\n"
     ]
    }
   ],
   "source": [
    "print(df['hour'].head()) \n",
    "print(df['hour'].tail())\n",
    "\n",
    "# It could also be done like so:\n",
    "# df['new_hour'] = pd.to_datetime(df['hour'].astype('str'), format = '%y%m%d%H')\n",
    "# df['new_hour'].head(5)"
   ]
  },
  {
   "cell_type": "markdown",
   "metadata": {
    "colab_type": "text",
    "id": "BfyXQooVXjCe"
   },
   "source": [
    "For example for '_14102915_', the year, the month, the day and hour are:\n",
    "* Year : 14 => 2014 \n",
    "* Month : 10 \n",
    "* Day : 29 \n",
    "* Hour : 15 \n",
    "\n",
    "Since ```hour``` is an integer, it can be sliced like a string and it is easy with slicing operations to return the year, the month, the day and the hour."
   ]
  },
  {
   "cell_type": "code",
   "execution_count": 15,
   "metadata": {},
   "outputs": [
    {
     "data": {
      "text/plain": [
       "0   2014-10-29 15:00:00\n",
       "1   2014-10-30 07:00:00\n",
       "2   2014-10-27 11:00:00\n",
       "3   2014-10-29 03:00:00\n",
       "4   2014-10-29 02:00:00\n",
       "Name: new_hour, dtype: datetime64[ns]"
      ]
     },
     "execution_count": 15,
     "metadata": {},
     "output_type": "execute_result"
    }
   ],
   "source": [
    "# We can simply transform this feature:\n",
    "df['new_hour'] = pd.to_datetime(df['hour'].astype('str'), format = '%y%m%d%H')\n",
    "df['new_hour'].head(5)"
   ]
  },
  {
   "cell_type": "code",
   "execution_count": 16,
   "metadata": {},
   "outputs": [
    {
     "data": {
      "text/html": [
       "<div>\n",
       "<style scoped>\n",
       "    .dataframe tbody tr th:only-of-type {\n",
       "        vertical-align: middle;\n",
       "    }\n",
       "\n",
       "    .dataframe tbody tr th {\n",
       "        vertical-align: top;\n",
       "    }\n",
       "\n",
       "    .dataframe thead th {\n",
       "        text-align: right;\n",
       "    }\n",
       "</style>\n",
       "<table border=\"1\" class=\"dataframe\">\n",
       "  <thead>\n",
       "    <tr style=\"text-align: right;\">\n",
       "      <th></th>\n",
       "      <th>id</th>\n",
       "      <th>click</th>\n",
       "      <th>hour</th>\n",
       "      <th>C1</th>\n",
       "      <th>banner_pos</th>\n",
       "      <th>site_id</th>\n",
       "      <th>site_domain</th>\n",
       "      <th>site_category</th>\n",
       "      <th>app_id</th>\n",
       "      <th>app_domain</th>\n",
       "      <th>app_category</th>\n",
       "      <th>device_id</th>\n",
       "      <th>device_ip</th>\n",
       "      <th>device_model</th>\n",
       "      <th>device_type</th>\n",
       "      <th>device_conn_type</th>\n",
       "      <th>C14</th>\n",
       "      <th>C15</th>\n",
       "      <th>C16</th>\n",
       "      <th>C17</th>\n",
       "      <th>C18</th>\n",
       "      <th>C19</th>\n",
       "      <th>C20</th>\n",
       "      <th>C21</th>\n",
       "    </tr>\n",
       "  </thead>\n",
       "  <tbody>\n",
       "    <tr>\n",
       "      <th>0</th>\n",
       "      <td>3.983206e+18</td>\n",
       "      <td>0</td>\n",
       "      <td>14102915</td>\n",
       "      <td>1005</td>\n",
       "      <td>1</td>\n",
       "      <td>e151e245</td>\n",
       "      <td>7e091613</td>\n",
       "      <td>f028772b</td>\n",
       "      <td>ecad2386</td>\n",
       "      <td>7801e8d9</td>\n",
       "      <td>07d7df22</td>\n",
       "      <td>a99f214a</td>\n",
       "      <td>fb6566d3</td>\n",
       "      <td>be87996b</td>\n",
       "      <td>1</td>\n",
       "      <td>2</td>\n",
       "      <td>4687</td>\n",
       "      <td>320</td>\n",
       "      <td>50</td>\n",
       "      <td>423</td>\n",
       "      <td>2</td>\n",
       "      <td>39</td>\n",
       "      <td>100148</td>\n",
       "      <td>32</td>\n",
       "    </tr>\n",
       "    <tr>\n",
       "      <th>1</th>\n",
       "      <td>7.756884e+18</td>\n",
       "      <td>0</td>\n",
       "      <td>14103007</td>\n",
       "      <td>1002</td>\n",
       "      <td>0</td>\n",
       "      <td>cb809abf</td>\n",
       "      <td>74acf31a</td>\n",
       "      <td>50e219e0</td>\n",
       "      <td>ecad2386</td>\n",
       "      <td>7801e8d9</td>\n",
       "      <td>07d7df22</td>\n",
       "      <td>9b7af851</td>\n",
       "      <td>ac5a4a77</td>\n",
       "      <td>7e6190f3</td>\n",
       "      <td>0</td>\n",
       "      <td>0</td>\n",
       "      <td>17894</td>\n",
       "      <td>320</td>\n",
       "      <td>50</td>\n",
       "      <td>2039</td>\n",
       "      <td>2</td>\n",
       "      <td>39</td>\n",
       "      <td>100077</td>\n",
       "      <td>32</td>\n",
       "    </tr>\n",
       "    <tr>\n",
       "      <th>2</th>\n",
       "      <td>6.941774e+17</td>\n",
       "      <td>0</td>\n",
       "      <td>14102711</td>\n",
       "      <td>1005</td>\n",
       "      <td>0</td>\n",
       "      <td>85f751fd</td>\n",
       "      <td>c4e18dd6</td>\n",
       "      <td>50e219e0</td>\n",
       "      <td>e9739828</td>\n",
       "      <td>df32afa9</td>\n",
       "      <td>cef3e649</td>\n",
       "      <td>a99f214a</td>\n",
       "      <td>748e298a</td>\n",
       "      <td>3c55fad5</td>\n",
       "      <td>1</td>\n",
       "      <td>0</td>\n",
       "      <td>22684</td>\n",
       "      <td>320</td>\n",
       "      <td>50</td>\n",
       "      <td>2619</td>\n",
       "      <td>1</td>\n",
       "      <td>163</td>\n",
       "      <td>100055</td>\n",
       "      <td>71</td>\n",
       "    </tr>\n",
       "    <tr>\n",
       "      <th>3</th>\n",
       "      <td>2.664154e+18</td>\n",
       "      <td>1</td>\n",
       "      <td>14102903</td>\n",
       "      <td>1005</td>\n",
       "      <td>0</td>\n",
       "      <td>85f751fd</td>\n",
       "      <td>c4e18dd6</td>\n",
       "      <td>50e219e0</td>\n",
       "      <td>a5184c22</td>\n",
       "      <td>b8d325c3</td>\n",
       "      <td>0f2161f8</td>\n",
       "      <td>a99f214a</td>\n",
       "      <td>a50da3d4</td>\n",
       "      <td>c5cc73c1</td>\n",
       "      <td>1</td>\n",
       "      <td>0</td>\n",
       "      <td>23222</td>\n",
       "      <td>320</td>\n",
       "      <td>50</td>\n",
       "      <td>2676</td>\n",
       "      <td>0</td>\n",
       "      <td>35</td>\n",
       "      <td>100176</td>\n",
       "      <td>221</td>\n",
       "    </tr>\n",
       "    <tr>\n",
       "      <th>4</th>\n",
       "      <td>1.480510e+19</td>\n",
       "      <td>0</td>\n",
       "      <td>14102902</td>\n",
       "      <td>1005</td>\n",
       "      <td>1</td>\n",
       "      <td>791b5571</td>\n",
       "      <td>fd13bc73</td>\n",
       "      <td>f028772b</td>\n",
       "      <td>ecad2386</td>\n",
       "      <td>7801e8d9</td>\n",
       "      <td>07d7df22</td>\n",
       "      <td>a99f214a</td>\n",
       "      <td>d5f88679</td>\n",
       "      <td>a5bce124</td>\n",
       "      <td>1</td>\n",
       "      <td>0</td>\n",
       "      <td>8330</td>\n",
       "      <td>320</td>\n",
       "      <td>50</td>\n",
       "      <td>761</td>\n",
       "      <td>3</td>\n",
       "      <td>175</td>\n",
       "      <td>100081</td>\n",
       "      <td>23</td>\n",
       "    </tr>\n",
       "  </tbody>\n",
       "</table>\n",
       "</div>"
      ],
      "text/plain": [
       "             id  click      hour    C1  banner_pos   site_id site_domain  \\\n",
       "0  3.983206e+18      0  14102915  1005           1  e151e245    7e091613   \n",
       "1  7.756884e+18      0  14103007  1002           0  cb809abf    74acf31a   \n",
       "2  6.941774e+17      0  14102711  1005           0  85f751fd    c4e18dd6   \n",
       "3  2.664154e+18      1  14102903  1005           0  85f751fd    c4e18dd6   \n",
       "4  1.480510e+19      0  14102902  1005           1  791b5571    fd13bc73   \n",
       "\n",
       "  site_category    app_id app_domain app_category device_id device_ip  \\\n",
       "0      f028772b  ecad2386   7801e8d9     07d7df22  a99f214a  fb6566d3   \n",
       "1      50e219e0  ecad2386   7801e8d9     07d7df22  9b7af851  ac5a4a77   \n",
       "2      50e219e0  e9739828   df32afa9     cef3e649  a99f214a  748e298a   \n",
       "3      50e219e0  a5184c22   b8d325c3     0f2161f8  a99f214a  a50da3d4   \n",
       "4      f028772b  ecad2386   7801e8d9     07d7df22  a99f214a  d5f88679   \n",
       "\n",
       "  device_model  device_type  device_conn_type    C14  C15  C16   C17  C18  \\\n",
       "0     be87996b            1                 2   4687  320   50   423    2   \n",
       "1     7e6190f3            0                 0  17894  320   50  2039    2   \n",
       "2     3c55fad5            1                 0  22684  320   50  2619    1   \n",
       "3     c5cc73c1            1                 0  23222  320   50  2676    0   \n",
       "4     a5bce124            1                 0   8330  320   50   761    3   \n",
       "\n",
       "   C19     C20  C21  \n",
       "0   39  100148   32  \n",
       "1   39  100077   32  \n",
       "2  163  100055   71  \n",
       "3   35  100176  221  \n",
       "4  175  100081   23  "
      ]
     },
     "execution_count": 16,
     "metadata": {},
     "output_type": "execute_result"
    }
   ],
   "source": [
    "df.drop(columns = ['new_hour'], inplace= True)\n",
    "df.head()"
   ]
  },
  {
   "cell_type": "markdown",
   "metadata": {
    "colab_type": "text",
    "id": "afYTFp4_XjCf"
   },
   "source": [
    "To simplify the work, let us perform the following transformation to the column:\n",
    " - The input variable `hour` which is a _string_ is transformed into a variable of _date_ type. It's done by taking the first two caracters of the string as the year, the 3rd and 4th caracter as the month and so on. \n",
    " - This function return an object which have methods that give the hour or the day of the week..  "
   ]
  },
  {
   "cell_type": "code",
   "execution_count": 17,
   "metadata": {
    "colab": {
     "base_uri": "https://localhost:8080/",
     "height": 34
    },
    "colab_type": "code",
    "id": "PxDuSI-fXjCh",
    "outputId": "2ea567a2-a584-417a-ed5c-0d5ab68dfa5c"
   },
   "outputs": [
    {
     "data": {
      "text/plain": [
       "(2, 15)"
      ]
     },
     "execution_count": 17,
     "metadata": {},
     "output_type": "execute_result"
    }
   ],
   "source": [
    "import datetime\n",
    "def datesplit(originalDate):\n",
    "    originalDate = str(originalDate)\n",
    "    \n",
    "    year = int(\"20\" + originalDate[0:2])\n",
    "    month = int(originalDate[2:4])\n",
    "    day = int(originalDate[4:6])\n",
    "    hour = int(originalDate[6:8])\n",
    "    \n",
    "    return datetime.datetime(year, month, day, hour)\n",
    "\n",
    "# Exemple :\n",
    "datesplit(14102915).weekday(), datesplit(14102915).hour"
   ]
  },
  {
   "cell_type": "code",
   "execution_count": 18,
   "metadata": {
    "colab": {
     "base_uri": "https://localhost:8080/",
     "height": 34
    },
    "colab_type": "code",
    "id": "pGBLjrBMXjCl",
    "outputId": "a24fab70-99ac-41fe-ad77-97323ee3527c"
   },
   "outputs": [
    {
     "data": {
      "text/plain": [
       "datetime.datetime(2014, 10, 29, 15, 0)"
      ]
     },
     "execution_count": 18,
     "metadata": {},
     "output_type": "execute_result"
    }
   ],
   "source": [
    "datesplit(14102915)"
   ]
  },
  {
   "cell_type": "markdown",
   "metadata": {
    "colab_type": "text",
    "id": "Unhy1KFHXjCp"
   },
   "source": [
    " - The input variable `hour` which is a _string_ is transformed into a variable of _date_ type. It's done by taking the first two caracters of the string as the year, the 3rd and 4th caracter as the month and so on. \n",
    " - This function return an object which have methods that give the hour or the day of the week..  "
   ]
  },
  {
   "cell_type": "markdown",
   "metadata": {
    "colab_type": "text",
    "id": "6fxr-HDUXjCs"
   },
   "source": [
    "Let us now create a 'weekday' columns, and replace the 'hour' column by the hour."
   ]
  },
  {
   "cell_type": "code",
   "execution_count": 19,
   "metadata": {
    "colab": {},
    "colab_type": "code",
    "id": "WC6KEjNeXjCw"
   },
   "outputs": [],
   "source": [
    "df['weekday'] = df['hour'].apply(lambda x: datesplit(x).weekday())\n",
    "df['hour'] = df['hour'].apply(lambda x: datesplit(x).hour)"
   ]
  },
  {
   "cell_type": "code",
   "execution_count": 20,
   "metadata": {
    "colab": {
     "base_uri": "https://localhost:8080/",
     "height": 119
    },
    "colab_type": "code",
    "id": "4pkRQf3iXjCz",
    "outputId": "b99065b5-2d4d-457c-d2e5-26932ab7196a"
   },
   "outputs": [
    {
     "data": {
      "text/plain": [
       "0    2\n",
       "1    3\n",
       "2    0\n",
       "3    2\n",
       "4    2\n",
       "Name: weekday, dtype: int64"
      ]
     },
     "execution_count": 20,
     "metadata": {},
     "output_type": "execute_result"
    }
   ],
   "source": [
    "df['weekday'].head()"
   ]
  },
  {
   "cell_type": "markdown",
   "metadata": {
    "colab_type": "text",
    "id": "AIIAvIOBXjC3"
   },
   "source": [
    "Now, let us try to visualize the influence of the hour and of the day on the 'click' frequency. To do so, we plot 'click' vs 'hour' and 'click' vs 'weekday' curves."
   ]
  },
  {
   "cell_type": "code",
   "execution_count": 21,
   "metadata": {},
   "outputs": [
    {
     "name": "stdout",
     "output_type": "stream",
     "text": [
      "Click vs Hour: AxesSubplot(0.125,0.125;0.352273x0.755)\n",
      "Click vs Weekday: AxesSubplot(0.547727,0.125;0.352273x0.755)\n"
     ]
    },
    {
     "data": {
      "image/png": "[encoded data removed]",
      "text/plain": [
       "<Figure size 1080x360 with 2 Axes>"
      ]
     },
     "metadata": {},
     "output_type": "display_data"
    }
   ],
   "source": [
    "plt.figure(1, figsize=(15, 5))\n",
    "plt.subplot(1, 2, 1)\n",
    "print('Click vs Hour:', df.groupby(['hour'])['click'].sum().plot())\n",
    "hourMax = df.groupby(['hour'])['click'].sum().idxmax()\n",
    "plt.axvline(x = hourMax, linestyle='--', color = 'r')\n",
    "plt.axvspan(9, 17, facecolor='#2ca02c', alpha=0.2)\n",
    "plt.xlabel(\"Hour\")\n",
    "plt.ylabel(\"Sum of Clicks\")\n",
    "plt.title('Clicks by hour')\n",
    "plt.legend()\n",
    "\n",
    "plt.subplot(1, 2, 2)\n",
    "print('Click vs Weekday:', df.groupby(['weekday'])['click'].sum().plot())\n",
    "dayMax = df.groupby(['weekday'])['click'].sum().idxmax()\n",
    "plt.axvline(x = dayMax, linestyle='--', color = 'r')\n",
    "plt.axvspan(1, 3, facecolor='#2ca02c', alpha=0.2)\n",
    "plt.title('Clicks by the day of the week')\n",
    "plt.xlabel(\"Weekday\")\n",
    "plt.ylabel(\"Sum of Clicks\")\n",
    "plt.legend()\n",
    "\n",
    "plt.show()"
   ]
  },
  {
   "cell_type": "markdown",
   "metadata": {
    "colab_type": "text",
    "id": "cGOZrUhMXjC8"
   },
   "source": [
    "* There are more clicks between 8am and 5pm, which are the usual work hours. There is an increase of the clicks between 11am and 1pm, which is the lunch break. "
   ]
  },
  {
   "cell_type": "markdown",
   "metadata": {
    "colab_type": "text",
    "id": "tu-P1GeRXjC-"
   },
   "source": [
    "* Tuesday, Wednesday and Thursday are the days with the highest number of clicks. The week-end is the period in the week where the clicks are the lowest with a significant decrease. "
   ]
  },
  {
   "cell_type": "markdown",
   "metadata": {
    "colab_type": "text",
    "id": "pBxiyCvjXjC_"
   },
   "source": [
    "In the first graph, the Y axe stands for the sum of clicks depending on X, which is the hour of the day. The second one, plots the sum of clicks on the day of the week. \n",
    "\n",
    "The following graphs show the histograms of the weekday and the hour in the datasets. Since the dataset includes 11 days of data, with the following graphs,Tuesday, Wednesday and Thursday are represented twice. \n",
    "\n",
    "We can see that the number of clicks reaches its maximum around 1pm on Tuesdays.\n",
    "\n",
    "The number of clicks increases in the time range from 9am to 5pm, i.e. during office hours. This is confirmed by the number of clicks per day of the week, where there is a sharp increase from Tuesday to Thursday."
   ]
  },
  {
   "cell_type": "code",
   "execution_count": 22,
   "metadata": {
    "colab": {
     "base_uri": "https://localhost:8080/",
     "height": 694
    },
    "colab_type": "code",
    "id": "YY7YjDaAxJuS",
    "outputId": "e0226044-325c-4601-8570-d9be5ce345ab"
   },
   "outputs": [
    {
     "data": {
      "image/png": "[encoded data removed]",
      "text/plain": [
       "<Figure size 1008x288 with 2 Axes>"
      ]
     },
     "metadata": {},
     "output_type": "display_data"
    }
   ],
   "source": [
    "plt.figure(1, figsize=(14, 4))\n",
    "\n",
    "plt.subplot(1, 2, 1)\n",
    "df['hour'].plot(kind= \"hist\", bins= 24, title= 'Frequency of hours in data')\n",
    "\n",
    "plt.subplot(1, 2, 2)\n",
    "df['weekday'].plot(kind= \"hist\", bins= 14, title= 'Frequency of weekdays in data')\n",
    "\n",
    "plt.show()"
   ]
  },
  {
   "cell_type": "markdown",
   "metadata": {
    "colab_type": "text",
    "id": "_MlIMXtWXjDA"
   },
   "source": [
    "# Preliminary work and first model"
   ]
  },
  {
   "cell_type": "markdown",
   "metadata": {
    "colab_type": "text",
    "id": "1vpsr8lqXjDB"
   },
   "source": [
    "Now, we would like to better undertand the features with few modalities:\n",
    "'hour', 'weekday', 'C1', 'banner_pos', 'site_category', 'app_category', 'device_type', 'device_conn_type', 'C15', 'C16', 'C18', 'C21'."
   ]
  },
  {
   "cell_type": "markdown",
   "metadata": {
    "colab_type": "text",
    "id": "xT1f4SAKXjDD"
   },
   "source": [
    "For instance, let's inspect the columns 'C15' (dimension of the advert) and 'site_category': visualize the clicks mean."
   ]
  },
  {
   "cell_type": "code",
   "execution_count": 23,
   "metadata": {
    "colab": {
     "base_uri": "https://localhost:8080/",
     "height": 390
    },
    "colab_type": "code",
    "id": "fVnVpNWMXjDE",
    "outputId": "e3242d13-23d5-44ca-8867-3b92680ed31d"
   },
   "outputs": [
    {
     "data": {
      "image/png": "[encoded data removed]",
      "text/plain": [
       "<Figure size 504x360 with 1 Axes>"
      ]
     },
     "metadata": {},
     "output_type": "display_data"
    }
   ],
   "source": [
    "plt.figure(1, figsize=(7, 5))\n",
    "df.groupby(['C15'])['click'].mean().plot(kind = 'bar')\n",
    "plt.title('Dimension C15 repartition')\n",
    "plt.show()"
   ]
  },
  {
   "cell_type": "code",
   "execution_count": 24,
   "metadata": {
    "colab": {
     "base_uri": "https://localhost:8080/",
     "height": 413
    },
    "colab_type": "code",
    "id": "48asEL9SXjDH",
    "outputId": "8851ae9b-4c77-40ed-8558-0df19eedcbc3"
   },
   "outputs": [
    {
     "data": {
      "image/png": "[encoded data removed]",
      "text/plain": [
       "<Figure size 864x288 with 1 Axes>"
      ]
     },
     "metadata": {},
     "output_type": "display_data"
    }
   ],
   "source": [
    "plt.figure(1, figsize=(12, 4))\n",
    "df.groupby(['site_category'])['click'].mean().plot(kind = 'bar')\n",
    "plt.title('Percentage of the various  categories of sites')\n",
    "plt.show()"
   ]
  },
  {
   "cell_type": "markdown",
   "metadata": {},
   "source": [
    "- It can be seen that the site category 'dedf689d' is much more present than the other site categories."
   ]
  },
  {
   "cell_type": "markdown",
   "metadata": {
    "colab_type": "text",
    "id": "uQSY7WPbXjDK"
   },
   "source": [
    "Interestingly enough, some site categories have a null click rate:"
   ]
  },
  {
   "cell_type": "code",
   "execution_count": 25,
   "metadata": {},
   "outputs": [
    {
     "data": {
      "image/png": "[encoded data removed]",
      "text/plain": [
       "<Figure size 648x360 with 1 Axes>"
      ]
     },
     "metadata": {},
     "output_type": "display_data"
    }
   ],
   "source": [
    "plt.figure(1, figsize = (9, 5))\n",
    "df.groupby(['site_category'])['click'].count().plot(kind = 'bar')\n",
    "plt.title('Count of clicks by category\\'s site')\n",
    "plt.show()"
   ]
  },
  {
   "cell_type": "code",
   "execution_count": 26,
   "metadata": {},
   "outputs": [
    {
     "data": {
      "image/png": "[encoded data removed]",
      "text/plain": [
       "<Figure size 648x360 with 1 Axes>"
      ]
     },
     "metadata": {},
     "output_type": "display_data"
    }
   ],
   "source": [
    "plt.figure(1, figsize = (9, 5))\n",
    "df['site_category'].value_counts().plot(kind = 'bar')\n",
    "plt.title('Counts of category\\'s site')\n",
    "plt.show()"
   ]
  },
  {
   "cell_type": "markdown",
   "metadata": {
    "colab_type": "text",
    "id": "_T6BkE-_xJuj"
   },
   "source": [
    "* We can see that clicks are mainly concentrated on 4 categories of sites in particular. \n",
    "* However, we find (in the same order) that these same categories are also the most present in the data set.\n",
    "* A large number of site categories are very poorly represented in the dataset so these categories also have a nearly zero click rate.\n",
    "\n",
    "* One possible explanation could be that the four categories could be online clothing, technology or market places websites. The others categories could be non targeted ads that only few people click on."
   ]
  },
  {
   "cell_type": "markdown",
   "metadata": {
    "colab_type": "text",
    "id": "YjfaqFeUXjDQ"
   },
   "source": [
    "It is practical to visualize both columns in parallel:"
   ]
  },
  {
   "cell_type": "code",
   "execution_count": 27,
   "metadata": {
    "colab": {
     "base_uri": "https://localhost:8080/",
     "height": 297
    },
    "colab_type": "code",
    "id": "qDNIxhriXjDR",
    "outputId": "0063f2dd-ee3d-4a02-a8ab-01f13bf5933a"
   },
   "outputs": [
    {
     "data": {
      "text/html": [
       "<div>\n",
       "<style scoped>\n",
       "    .dataframe tbody tr th:only-of-type {\n",
       "        vertical-align: middle;\n",
       "    }\n",
       "\n",
       "    .dataframe tbody tr th {\n",
       "        vertical-align: top;\n",
       "    }\n",
       "\n",
       "    .dataframe thead th {\n",
       "        text-align: right;\n",
       "    }\n",
       "</style>\n",
       "<table border=\"1\" class=\"dataframe\">\n",
       "  <thead>\n",
       "    <tr style=\"text-align: right;\">\n",
       "      <th></th>\n",
       "      <th>mean</th>\n",
       "      <th>count</th>\n",
       "    </tr>\n",
       "    <tr>\n",
       "      <th>C1</th>\n",
       "      <th></th>\n",
       "      <th></th>\n",
       "    </tr>\n",
       "  </thead>\n",
       "  <tbody>\n",
       "    <tr>\n",
       "      <th>1005</th>\n",
       "      <td>0.169474</td>\n",
       "      <td>918606.0</td>\n",
       "    </tr>\n",
       "    <tr>\n",
       "      <th>1002</th>\n",
       "      <td>0.211157</td>\n",
       "      <td>54907.0</td>\n",
       "    </tr>\n",
       "    <tr>\n",
       "      <th>1010</th>\n",
       "      <td>0.095497</td>\n",
       "      <td>22409.0</td>\n",
       "    </tr>\n",
       "    <tr>\n",
       "      <th>1012</th>\n",
       "      <td>0.177295</td>\n",
       "      <td>2854.0</td>\n",
       "    </tr>\n",
       "    <tr>\n",
       "      <th>1007</th>\n",
       "      <td>0.035591</td>\n",
       "      <td>871.0</td>\n",
       "    </tr>\n",
       "    <tr>\n",
       "      <th>1001</th>\n",
       "      <td>0.027027</td>\n",
       "      <td>222.0</td>\n",
       "    </tr>\n",
       "    <tr>\n",
       "      <th>1008</th>\n",
       "      <td>0.106870</td>\n",
       "      <td>131.0</td>\n",
       "    </tr>\n",
       "  </tbody>\n",
       "</table>\n",
       "</div>"
      ],
      "text/plain": [
       "          mean     count\n",
       "C1                      \n",
       "1005  0.169474  918606.0\n",
       "1002  0.211157   54907.0\n",
       "1010  0.095497   22409.0\n",
       "1012  0.177295    2854.0\n",
       "1007  0.035591     871.0\n",
       "1001  0.027027     222.0\n",
       "1008  0.106870     131.0"
      ]
     },
     "execution_count": 27,
     "metadata": {},
     "output_type": "execute_result"
    }
   ],
   "source": [
    "col = 'C1'\n",
    "a = pd.DataFrame([df.groupby(col).mean()['click'], df.groupby(col).count()['click']]).transpose()\n",
    "a.columns = ['mean', 'count']\n",
    "a.sort_values(by='count', ascending=False)"
   ]
  },
  {
   "cell_type": "markdown",
   "metadata": {
    "colab_type": "text",
    "id": "BeuNbdhDXjDU"
   },
   "source": [
    "Now, let us divide the dataset into a training (90%) and test set (10%):"
   ]
  },
  {
   "cell_type": "code",
   "execution_count": 28,
   "metadata": {
    "colab": {},
    "colab_type": "code",
    "id": "4rYuIDOOXjDV"
   },
   "outputs": [],
   "source": [
    "from sklearn.model_selection import train_test_split\n",
    "Xtrain, Xtest, ytrain, ytest = train_test_split(df.loc[:, df.columns != 'click'], df['click'], \n",
    "                                                test_size=0.1, random_state=100)"
   ]
  },
  {
   "cell_type": "markdown",
   "metadata": {
    "colab_type": "text",
    "id": "NkxOiTB6XjDY"
   },
   "source": [
    "# First work on a reduced number of features"
   ]
  },
  {
   "cell_type": "markdown",
   "metadata": {
    "colab_type": "text",
    "id": "Gv-tHZ0FXjDZ"
   },
   "source": [
    "We put in a list the features that seem most relevant so far, i.e.: 'hour', 'weekday', 'C1', 'banner_pos', 'site_category', 'app_category', 'device_type', 'device_conn_type', 'C15', 'C16', 'C18', 'C21'."
   ]
  },
  {
   "cell_type": "code",
   "execution_count": 29,
   "metadata": {
    "colab": {
     "base_uri": "https://localhost:8080/",
     "height": 224
    },
    "colab_type": "code",
    "id": "q9K1CPPPXjDa",
    "outputId": "6444b03b-f079-455f-dc0c-a68dac923a02"
   },
   "outputs": [
    {
     "data": {
      "text/html": [
       "<div>\n",
       "<style scoped>\n",
       "    .dataframe tbody tr th:only-of-type {\n",
       "        vertical-align: middle;\n",
       "    }\n",
       "\n",
       "    .dataframe tbody tr th {\n",
       "        vertical-align: top;\n",
       "    }\n",
       "\n",
       "    .dataframe thead th {\n",
       "        text-align: right;\n",
       "    }\n",
       "</style>\n",
       "<table border=\"1\" class=\"dataframe\">\n",
       "  <thead>\n",
       "    <tr style=\"text-align: right;\">\n",
       "      <th></th>\n",
       "      <th>hour</th>\n",
       "      <th>weekday</th>\n",
       "      <th>C1</th>\n",
       "      <th>banner_pos</th>\n",
       "      <th>site_category</th>\n",
       "      <th>app_category</th>\n",
       "      <th>device_type</th>\n",
       "      <th>device_conn_type</th>\n",
       "      <th>C15</th>\n",
       "      <th>C16</th>\n",
       "      <th>C18</th>\n",
       "      <th>C21</th>\n",
       "    </tr>\n",
       "  </thead>\n",
       "  <tbody>\n",
       "    <tr>\n",
       "      <th>0</th>\n",
       "      <td>15</td>\n",
       "      <td>2</td>\n",
       "      <td>1005</td>\n",
       "      <td>1</td>\n",
       "      <td>f028772b</td>\n",
       "      <td>07d7df22</td>\n",
       "      <td>1</td>\n",
       "      <td>2</td>\n",
       "      <td>320</td>\n",
       "      <td>50</td>\n",
       "      <td>2</td>\n",
       "      <td>32</td>\n",
       "    </tr>\n",
       "    <tr>\n",
       "      <th>1</th>\n",
       "      <td>7</td>\n",
       "      <td>3</td>\n",
       "      <td>1002</td>\n",
       "      <td>0</td>\n",
       "      <td>50e219e0</td>\n",
       "      <td>07d7df22</td>\n",
       "      <td>0</td>\n",
       "      <td>0</td>\n",
       "      <td>320</td>\n",
       "      <td>50</td>\n",
       "      <td>2</td>\n",
       "      <td>32</td>\n",
       "    </tr>\n",
       "    <tr>\n",
       "      <th>2</th>\n",
       "      <td>11</td>\n",
       "      <td>0</td>\n",
       "      <td>1005</td>\n",
       "      <td>0</td>\n",
       "      <td>50e219e0</td>\n",
       "      <td>cef3e649</td>\n",
       "      <td>1</td>\n",
       "      <td>0</td>\n",
       "      <td>320</td>\n",
       "      <td>50</td>\n",
       "      <td>1</td>\n",
       "      <td>71</td>\n",
       "    </tr>\n",
       "    <tr>\n",
       "      <th>3</th>\n",
       "      <td>3</td>\n",
       "      <td>2</td>\n",
       "      <td>1005</td>\n",
       "      <td>0</td>\n",
       "      <td>50e219e0</td>\n",
       "      <td>0f2161f8</td>\n",
       "      <td>1</td>\n",
       "      <td>0</td>\n",
       "      <td>320</td>\n",
       "      <td>50</td>\n",
       "      <td>0</td>\n",
       "      <td>221</td>\n",
       "    </tr>\n",
       "    <tr>\n",
       "      <th>4</th>\n",
       "      <td>2</td>\n",
       "      <td>2</td>\n",
       "      <td>1005</td>\n",
       "      <td>1</td>\n",
       "      <td>f028772b</td>\n",
       "      <td>07d7df22</td>\n",
       "      <td>1</td>\n",
       "      <td>0</td>\n",
       "      <td>320</td>\n",
       "      <td>50</td>\n",
       "      <td>3</td>\n",
       "      <td>23</td>\n",
       "    </tr>\n",
       "  </tbody>\n",
       "</table>\n",
       "</div>"
      ],
      "text/plain": [
       "   hour  weekday    C1  banner_pos site_category app_category  device_type  \\\n",
       "0    15        2  1005           1      f028772b     07d7df22            1   \n",
       "1     7        3  1002           0      50e219e0     07d7df22            0   \n",
       "2    11        0  1005           0      50e219e0     cef3e649            1   \n",
       "3     3        2  1005           0      50e219e0     0f2161f8            1   \n",
       "4     2        2  1005           1      f028772b     07d7df22            1   \n",
       "\n",
       "   device_conn_type  C15  C16  C18  C21  \n",
       "0                 2  320   50    2   32  \n",
       "1                 0  320   50    2   32  \n",
       "2                 0  320   50    1   71  \n",
       "3                 0  320   50    0  221  \n",
       "4                 0  320   50    3   23  "
      ]
     },
     "execution_count": 29,
     "metadata": {},
     "output_type": "execute_result"
    }
   ],
   "source": [
    "some_columns = ['hour', 'weekday', 'C1', 'banner_pos', 'site_category', 'app_category', \n",
    "                'device_type', 'device_conn_type', 'C15', 'C16', 'C18', 'C21']\n",
    "\n",
    "df[some_columns].head()"
   ]
  },
  {
   "cell_type": "code",
   "execution_count": 30,
   "metadata": {},
   "outputs": [
    {
     "data": {
      "text/plain": [
       "Index(['id', 'click', 'hour', 'C1', 'banner_pos', 'site_id', 'site_domain',\n",
       "       'site_category', 'app_id', 'app_domain', 'app_category', 'device_id',\n",
       "       'device_ip', 'device_model', 'device_type', 'device_conn_type', 'C14',\n",
       "       'C15', 'C16', 'C17', 'C18', 'C19', 'C20', 'C21', 'weekday'],\n",
       "      dtype='object')"
      ]
     },
     "execution_count": 30,
     "metadata": {},
     "output_type": "execute_result"
    }
   ],
   "source": [
    "df.columns "
   ]
  },
  {
   "cell_type": "markdown",
   "metadata": {
    "colab_type": "text",
    "id": "q8sy4KQdXjDd"
   },
   "source": [
    "The, we transform these columns using one-hot encoding:"
   ]
  },
  {
   "cell_type": "code",
   "execution_count": 31,
   "metadata": {
    "colab": {
     "base_uri": "https://localhost:8080/",
     "height": 54
    },
    "colab_type": "code",
    "id": "tLUNcBp3XjDf",
    "outputId": "3689975a-6585-4273-c65c-e51014b001f0"
   },
   "outputs": [
    {
     "name": "stdout",
     "output_type": "stream",
     "text": [
      "type Xtrain_oh : <class 'scipy.sparse.csr.csr_matrix'>\n",
      "type Xtest_oh: <class 'scipy.sparse.csr.csr_matrix'>\n"
     ]
    }
   ],
   "source": [
    "from sklearn.preprocessing import OneHotEncoder\n",
    "\n",
    "ohe = OneHotEncoder()\n",
    "Xtrain_oh = ohe.fit(Xtrain[some_columns])\n",
    "Xtrain_oh = ohe.transform(Xtrain[some_columns])\n",
    "Xtest_oh = ohe.transform(Xtest[some_columns])\n",
    "\n",
    "print('type Xtrain_oh :',type(Xtrain_oh))\n",
    "print('type Xtest_oh:',type(Xtest_oh))"
   ]
  },
  {
   "cell_type": "markdown",
   "metadata": {
    "colab_type": "raw",
    "id": "7drDlC4rXjDk"
   },
   "source": [
    "The output is a sparse matrix."
   ]
  },
  {
   "cell_type": "code",
   "execution_count": 32,
   "metadata": {
    "colab": {
     "base_uri": "https://localhost:8080/",
     "height": 34
    },
    "colab_type": "code",
    "id": "AWL1NVk5XjDm",
    "outputId": "f37aa191-4712-419d-ba2f-d0cafb3267a4"
   },
   "outputs": [
    {
     "name": "stdout",
     "output_type": "stream",
     "text": [
      "The new number of features is 183\n"
     ]
    }
   ],
   "source": [
    "print(\"The new number of features is\", Xtrain_oh.shape[1])"
   ]
  },
  {
   "cell_type": "markdown",
   "metadata": {
    "colab_type": "text",
    "id": "-dCjIo4eXjDo"
   },
   "source": [
    "Let's have a look at the first row of the design matrix:"
   ]
  },
  {
   "cell_type": "code",
   "execution_count": 33,
   "metadata": {
    "colab": {
     "base_uri": "https://localhost:8080/",
     "height": 221
    },
    "colab_type": "code",
    "id": "-qOWRht-XjDo",
    "outputId": "bedbec48-8305-497a-af9d-564e647359c9"
   },
   "outputs": [
    {
     "name": "stdout",
     "output_type": "stream",
     "text": [
      "  (0, 10)\t1.0\n",
      "  (0, 24)\t1.0\n",
      "  (0, 36)\t1.0\n",
      "  (0, 39)\t1.0\n",
      "  (0, 50)\t1.0\n",
      "  (0, 70)\t1.0\n",
      "  (0, 96)\t1.0\n",
      "  (0, 100)\t1.0\n",
      "  (0, 105)\t1.0\n",
      "  (0, 112)\t1.0\n",
      "  (0, 119)\t1.0\n",
      "  (0, 145)\t1.0\n"
     ]
    }
   ],
   "source": [
    "print(Xtrain_oh[0])"
   ]
  },
  {
   "cell_type": "markdown",
   "metadata": {
    "colab_type": "text",
    "id": "HcdCB_hiXjDt"
   },
   "source": [
    "Let us try first a simple model (logistic regression) on the encoded data"
   ]
  },
  {
   "cell_type": "code",
   "execution_count": 34,
   "metadata": {
    "colab": {
     "base_uri": "https://localhost:8080/",
     "height": 105
    },
    "colab_type": "code",
    "id": "uuSY1E2yXjDv",
    "outputId": "0b5478ea-3183-4535-a795-572086938c00"
   },
   "outputs": [
    {
     "data": {
      "text/plain": [
       "LogisticRegression(C=1.0, class_weight=None, dual=False, fit_intercept=True,\n",
       "          intercept_scaling=1, max_iter=100, multi_class='warn',\n",
       "          n_jobs=None, penalty='l2', random_state=None, solver='warn',\n",
       "          tol=0.0001, verbose=0, warm_start=False)"
      ]
     },
     "execution_count": 34,
     "metadata": {},
     "output_type": "execute_result"
    }
   ],
   "source": [
    "from sklearn.linear_model import LogisticRegression\n",
    "\n",
    "lr = LogisticRegression()\n",
    "lr.fit(Xtrain_oh, ytrain)"
   ]
  },
  {
   "cell_type": "markdown",
   "metadata": {
    "colab_type": "text",
    "id": "L1JsmZBrXjD3"
   },
   "source": [
    "We can then display the hard and soft decision you get on test data."
   ]
  },
  {
   "cell_type": "code",
   "execution_count": 35,
   "metadata": {
    "colab": {
     "base_uri": "https://localhost:8080/",
     "height": 153
    },
    "colab_type": "code",
    "id": "qji6JmeAXjD4",
    "outputId": "bbc1e2e4-7ece-495f-84e5-8f3e5787ce10"
   },
   "outputs": [
    {
     "name": "stdout",
     "output_type": "stream",
     "text": [
      "Hard Decision:\n",
      "[0 0 0 ... 0 0 0]\n",
      "Soft Decision:\n",
      "[[0.75809672 0.24190328]\n",
      " [0.73399737 0.26600263]\n",
      " [0.79688723 0.20311277]\n",
      " ...\n",
      " [0.79253193 0.20746807]\n",
      " [0.7856205  0.2143795 ]\n",
      " [0.87849724 0.12150276]]\n"
     ]
    }
   ],
   "source": [
    "hard = lr.predict(Xtest_oh)\n",
    "soft = lr.predict_proba(Xtest_oh)\n",
    "\n",
    "print('Hard Decision:')\n",
    "print(hard)\n",
    "print('Soft Decision:')\n",
    "print(soft)"
   ]
  },
  {
   "cell_type": "code",
   "execution_count": 36,
   "metadata": {
    "colab": {
     "base_uri": "https://localhost:8080/",
     "height": 34
    },
    "colab_type": "code",
    "id": "BIJ7zdP-XjEB",
    "outputId": "eeda97a0-9759-4b08-a185-008b7179ef39"
   },
   "outputs": [
    {
     "name": "stdout",
     "output_type": "stream",
     "text": [
      "The accuracy score of the model is 0.17\n"
     ]
    }
   ],
   "source": [
    "from sklearn.metrics import accuracy_score\n",
    "\n",
    "accuracy = accuracy_score(ytest, hard)\n",
    "print(f\"The accuracy score of the model is {np.round(1 - accuracy, 2)}\")"
   ]
  },
  {
   "cell_type": "markdown",
   "metadata": {
    "colab_type": "text",
    "id": "PsB5iW2BxJwa"
   },
   "source": [
    "The probability of classifying inputs wrongly is 0.17, which is also the true frequency of clicks ie `click = 1` or the mean. Therefore the error shows that the logistic model doesn't do better than always predicting no click at all. This is a consequence of the imbalance in the labels.\n",
    "\n",
    "`AUC` and `log likelihood` could be better metrics to estimate the validity of the models. "
   ]
  },
  {
   "cell_type": "markdown",
   "metadata": {
    "colab_type": "text",
    "id": "PWjES1_oXjEL"
   },
   "source": [
    "Let's plot the ROC curve, and compute the log loss and the area under the ROC curve.\n",
    "</font>"
   ]
  },
  {
   "cell_type": "code",
   "execution_count": 37,
   "metadata": {
    "colab": {
     "base_uri": "https://localhost:8080/",
     "height": 376
    },
    "colab_type": "code",
    "id": "9SSaCzwvXjEM",
    "outputId": "07c45ace-63f9-4a63-8bb8-1bc39ebd3f65"
   },
   "outputs": [
    {
     "data": {
      "image/png": "[encoded data removed]",
      "text/plain": [
       "<Figure size 504x360 with 1 Axes>"
      ]
     },
     "metadata": {},
     "output_type": "display_data"
    }
   ],
   "source": [
    "from sklearn.metrics import roc_curve, auc\n",
    "\n",
    "# calculate the fpr and tpr for all thresholds of the classification\n",
    "preds = soft[:,1]\n",
    "fpr, tpr, threshold = roc_curve(ytest, preds)\n",
    "roc_auc = auc(fpr, tpr)\n",
    "\n",
    "plt.figure(1, figsize = (7, 5))\n",
    "plt.title('Roc Curve')\n",
    "plt.plot(fpr, tpr, label = 'AUC = %0.3f' % roc_auc)\n",
    "plt.plot([0, 1], [0, 1],'r--')\n",
    "plt.ylabel('True Positive Rate')\n",
    "plt.xlabel('False Positive Rate')\n",
    "plt.legend()\n",
    "plt.show()"
   ]
  },
  {
   "cell_type": "code",
   "execution_count": 38,
   "metadata": {},
   "outputs": [
    {
     "name": "stdout",
     "output_type": "stream",
     "text": [
      "The accuracy of the model is: 0.83043\n",
      "The log loss is equal to : 0.42512\n",
      "The Area Under the Curve ROC is equal to: 0.67628\n"
     ]
    }
   ],
   "source": [
    "from sklearn.metrics import log_loss , roc_auc_score \n",
    "\n",
    "print(f'The accuracy of the model is: {np.round(accuracy_score(ytest, hard), 5)}')\n",
    "print(f'The log loss is equal to : {np.round(log_loss(ytest, soft), 5)}')\n",
    "print(f'The Area Under the Curve ROC is equal to: {np.round(roc_auc_score(ytest, soft[:,1]), 5)}')"
   ]
  },
  {
   "cell_type": "code",
   "execution_count": 39,
   "metadata": {},
   "outputs": [],
   "source": [
    "df_compare['Accuracy']['Logit Xtrain_oh'] = np.round(accuracy_score(ytest, hard), 5)\n",
    "df_compare['Log Loss']['Logit Xtrain_oh'] = np.round(log_loss(ytest, soft), 5)\n",
    "df_compare['ROC AUC']['Logit Xtrain_oh'] = np.round(roc_auc_score(ytest, soft[:,1]), 5)"
   ]
  },
  {
   "cell_type": "markdown",
   "metadata": {
    "colab_type": "text",
    "id": "NZFQJSLhXjEU"
   },
   "source": [
    "Alternatively, we can also plot the lift curve:"
   ]
  },
  {
   "cell_type": "code",
   "execution_count": 40,
   "metadata": {
    "colab": {
     "base_uri": "https://localhost:8080/",
     "height": 379
    },
    "colab_type": "code",
    "id": "1biy9h-sXjEU",
    "outputId": "661f87d2-6a27-44e3-f6de-e6a80637c91e"
   },
   "outputs": [
    {
     "data": {
      "image/png": "[encoded data removed]",
      "text/plain": [
       "<Figure size 432x288 with 1 Axes>"
      ]
     },
     "metadata": {},
     "output_type": "display_data"
    }
   ],
   "source": [
    "from utils import plotlift\n",
    "plotlift(ytest, soft[:, 1])\n",
    "# The following line just plots a vertical line for you to answer the second part of the question\n",
    "plt.axvline(x= 0.2, linestyle='--', color='r', label= \"25% of the population\") # Fill here\n",
    "plt.axhline(y= 1, linestyle='--', color='g', label= \"Lift if random model\")\n",
    "plt.title(\"Lift curve on logistic regression\")\n",
    "plt.legend()\n",
    "plt.show()"
   ]
  },
  {
   "cell_type": "markdown",
   "metadata": {
    "colab_type": "raw",
    "id": "WSL9bHgVXjEY"
   },
   "source": [
    "Lift curve is a way to visualize the performance of a classification model compared to the average response.\n",
    "The lift score is:\n",
    "\n",
    "$lift = \\frac{predicted\\ click\\ rate}{average\\ click\\ rate}$\n",
    "\n",
    "The lift score for 20% of the population is 1.75, which means that if a marketing campaign is done on this group, the expected click rate could be 1.5 times larger than the click rate done on the average population.\n",
    "The lift score therefore shows that the logistic model does better than random, which was not shown by the acurracy score. "
   ]
  },
  {
   "cell_type": "markdown",
   "metadata": {
    "colab_type": "text",
    "id": "onmLoXGzXjEZ"
   },
   "source": [
    "# Complete model"
   ]
  },
  {
   "cell_type": "markdown",
   "metadata": {
    "colab_type": "text",
    "id": "tVB_h_T0XjEZ"
   },
   "source": [
    "As an example, we now work on the 'site_id' column. For each modality, we compute the number of occurrences in the dataset and the average of clicks for this modality, then we represent the set of points (count, mean) for each modality:"
   ]
  },
  {
   "cell_type": "code",
   "execution_count": 41,
   "metadata": {
    "colab": {
     "base_uri": "https://localhost:8080/",
     "height": 857
    },
    "colab_type": "code",
    "id": "Ab1wXb_1XjEg",
    "outputId": "9da43e84-4711-41d5-f348-110be891965c"
   },
   "outputs": [
    {
     "data": {
      "image/png": "[encoded data removed]",
      "text/plain": [
       "<Figure size 432x432 with 3 Axes>"
      ]
     },
     "metadata": {},
     "output_type": "display_data"
    },
    {
     "data": {
      "image/png": "[encoded data removed]",
      "text/plain": [
       "<Figure size 432x432 with 3 Axes>"
      ]
     },
     "metadata": {},
     "output_type": "display_data"
    }
   ],
   "source": [
    "col = 'site_id'\n",
    "a = pd.DataFrame([df.groupby(col).mean()['click'], df.groupby(col).count()['click']]).transpose()\n",
    "a.columns = ['mean', 'n_val']\n",
    "sns.jointplot(a['n_val'], a['mean'], alpha=0.25);\n",
    "thres = 10000\n",
    "sns.jointplot(a[a['n_val']<thres]['n_val'], a[a['n_val']<thres]['mean'], alpha=0.25)\n",
    "plt.show()"
   ]
  },
  {
   "cell_type": "markdown",
   "metadata": {
    "colab_type": "text",
    "id": "lNQEWi8DhgHy"
   },
   "source": [
    "The first graph shows that there are outliers in site ids, hence, the second graph is done by creating a threshold to better visualize the data. \n",
    "\n",
    "One site id is particularly overrepresented compared to the other site ids. "
   ]
  },
  {
   "cell_type": "markdown",
   "metadata": {
    "colab_type": "text",
    "id": "VCIYZh9oXjEk"
   },
   "source": [
    "Several sites with a lot of occurrences in the dataset have a click frequency very different from the mean. It is relevant to keep the column 'site_id' at least for the modalities for which 'count' is very high.\n",
    "<font color=\"red\">**Question 25:**\n",
    "    Do the same work on the 'device_id' column. What do you notice? What could be the isolated point?\n",
    "</font>"
   ]
  },
  {
   "cell_type": "markdown",
   "metadata": {},
   "source": [
    "Now let's do the same work on the 'device_id' column:"
   ]
  },
  {
   "cell_type": "code",
   "execution_count": 42,
   "metadata": {
    "colab": {
     "base_uri": "https://localhost:8080/",
     "height": 857
    },
    "colab_type": "code",
    "id": "zJhSYuX8XjEk",
    "outputId": "1f1de22c-4104-4b23-8b27-f7de20bb53ae"
   },
   "outputs": [
    {
     "data": {
      "image/png": "[encoded data removed]",
      "text/plain": [
       "<Figure size 432x432 with 3 Axes>"
      ]
     },
     "metadata": {},
     "output_type": "display_data"
    },
    {
     "data": {
      "image/png": "[encoded data removed]",
      "text/plain": [
       "<Figure size 432x432 with 3 Axes>"
      ]
     },
     "metadata": {},
     "output_type": "display_data"
    }
   ],
   "source": [
    "col = \"device_id\"\n",
    "a = pd.DataFrame([df.groupby(col).mean()['click'], df.groupby(col).count()['click']]).transpose()\n",
    "a.columns = ['mean', 'n_val']\n",
    "sns.jointplot(a['n_val'], a['mean'], alpha=0.25);\n",
    "thres = 10000\n",
    "sns.jointplot(a[a['n_val']<thres]['n_val'], a[a['n_val']<thres]['mean'], alpha=0.25);"
   ]
  },
  {
   "cell_type": "code",
   "execution_count": 43,
   "metadata": {},
   "outputs": [
    {
     "data": {
      "text/plain": [
       "a99f214a    824918\n",
       "0f7c61dc       512\n",
       "c357dbff       481\n",
       "936e92fb       366\n",
       "afeffc18       242\n",
       "Name: device_id, dtype: int64"
      ]
     },
     "execution_count": 43,
     "metadata": {},
     "output_type": "execute_result"
    }
   ],
   "source": [
    "df['device_id'].value_counts().head()"
   ]
  },
  {
   "cell_type": "code",
   "execution_count": 44,
   "metadata": {},
   "outputs": [
    {
     "data": {
      "text/plain": [
       "id                  3.98321e+18\n",
       "click                         0\n",
       "hour                         15\n",
       "C1                         1005\n",
       "banner_pos                    1\n",
       "site_id                e151e245\n",
       "site_domain            7e091613\n",
       "site_category          f028772b\n",
       "app_id                 ecad2386\n",
       "app_domain             7801e8d9\n",
       "app_category           07d7df22\n",
       "device_id              a99f214a\n",
       "device_ip              fb6566d3\n",
       "device_model           be87996b\n",
       "device_type                   1\n",
       "device_conn_type              2\n",
       "C14                        4687\n",
       "C15                         320\n",
       "C16                          50\n",
       "C17                         423\n",
       "C18                           2\n",
       "C19                          39\n",
       "C20                      100148\n",
       "C21                          32\n",
       "weekday                       2\n",
       "Name: 0, dtype: object"
      ]
     },
     "execution_count": 44,
     "metadata": {},
     "output_type": "execute_result"
    }
   ],
   "source": [
    "df.loc['device_id' == 'a99f214a']"
   ]
  },
  {
   "cell_type": "markdown",
   "metadata": {
    "colab_type": "raw",
    "id": "pFU1yvejXjEo"
   },
   "source": [
    "In 'device_id' there is again an outlier which is visualized on the first graph by the point in the far right, which is an isolated point. This point could be a bot, or maybe a generic label applied to all devices whose browsing history is unknown.\n",
    "\n",
    " The second graph represents the data without outliers by putting a threshold. It shows that one device_id has a significantly higher number of occurence.  "
   ]
  },
  {
   "cell_type": "markdown",
   "metadata": {
    "colab_type": "text",
    "id": "3c-j68nTXjEq"
   },
   "source": [
    "In the column df['device_id'], we would like to spot the value V corresponding to the largest number of 'count' (using '.value_counts' method). Create a new column df['user'] defined as follows:\n",
    "\n",
    "$$\n",
    "\\text{user} = \\left\\{\\begin{array}[h]{ll} \\text{device_ip + device_model} & \\text{if device_id = V}\\\\ \\text{device_id} & \\text{else.}\\end{array}\\right.\n",
    "$$"
   ]
  },
  {
   "cell_type": "code",
   "execution_count": 45,
   "metadata": {
    "colab": {
     "base_uri": "https://localhost:8080/",
     "height": 119
    },
    "colab_type": "code",
    "id": "Egpe1N-cXjEq",
    "outputId": "1e6928e6-387d-4f32-f5b5-9a92a7042958"
   },
   "outputs": [
    {
     "data": {
      "text/plain": [
       "0    fb6566d3be87996b\n",
       "1            9b7af851\n",
       "2    748e298a3c55fad5\n",
       "3    a50da3d4c5cc73c1\n",
       "4    d5f88679a5bce124\n",
       "Name: user, dtype: object"
      ]
     },
     "execution_count": 45,
     "metadata": {},
     "output_type": "execute_result"
    }
   ],
   "source": [
    "V = df['device_id'].value_counts().index[0] # a99f214a\n",
    "\n",
    "condlist = [df['device_id'] != V, df['device_id'] == V]\n",
    "choicelist = [df['device_id'], df['device_ip']+df['device_model']]\n",
    "df['user'] = np.select(condlist, choicelist)\n",
    "df['user'].head()"
   ]
  },
  {
   "cell_type": "markdown",
   "metadata": {
    "colab_type": "text",
    "id": "FVGItY1yXjEt"
   },
   "source": [
    "Let's drop a few unnecessary columns:"
   ]
  },
  {
   "cell_type": "code",
   "execution_count": 46,
   "metadata": {
    "colab": {
     "base_uri": "https://localhost:8080/",
     "height": 122
    },
    "colab_type": "code",
    "id": "351ElqP3XjEu",
    "outputId": "a25d0ce0-8fd8-45cb-dff9-4e6a18184c9b"
   },
   "outputs": [
    {
     "data": {
      "text/plain": [
       "array(['id', 'click', 'hour', 'C1', 'banner_pos', 'site_id',\n",
       "       'site_domain', 'site_category', 'app_id', 'app_domain',\n",
       "       'app_category', 'device_type', 'device_conn_type', 'C14', 'C15',\n",
       "       'C16', 'C17', 'C18', 'C19', 'C20', 'C21', 'weekday', 'user'],\n",
       "      dtype=object)"
      ]
     },
     "execution_count": 46,
     "metadata": {},
     "output_type": "execute_result"
    }
   ],
   "source": [
    "df.drop(columns = ['device_id', 'device_model', 'device_ip'], inplace= True)\n",
    "df.columns.values # to check that the columns are deleted"
   ]
  },
  {
   "cell_type": "markdown",
   "metadata": {
    "colab_type": "text",
    "id": "QUWdlwWXXjEw"
   },
   "source": [
    "We'd like to investigate the similarity between 'site_id' and 'site_domain'. To do so, let us merge these columns into a new 'site' column and delete the old 'site_id' and 'site_domain' columns.\n",
    "</font>"
   ]
  },
  {
   "cell_type": "code",
   "execution_count": 47,
   "metadata": {},
   "outputs": [
    {
     "data": {
      "text/plain": [
       "85f751fd    360911\n",
       "1fbe01fe    159924\n",
       "e151e245     65231\n",
       "d9750ee7     24090\n",
       "5b08c53b     22524\n",
       "Name: site_id, dtype: int64"
      ]
     },
     "execution_count": 47,
     "metadata": {},
     "output_type": "execute_result"
    }
   ],
   "source": [
    "df['site_id'].value_counts().head()"
   ]
  },
  {
   "cell_type": "code",
   "execution_count": 48,
   "metadata": {},
   "outputs": [
    {
     "data": {
      "text/plain": [
       "c4e18dd6    374158\n",
       "f3845767    159924\n",
       "7e091613     82263\n",
       "7687a86e     31858\n",
       "98572c79     24879\n",
       "Name: site_domain, dtype: int64"
      ]
     },
     "execution_count": 48,
     "metadata": {},
     "output_type": "execute_result"
    }
   ],
   "source": [
    "df['site_domain'].value_counts().head()"
   ]
  },
  {
   "cell_type": "code",
   "execution_count": 49,
   "metadata": {
    "colab": {
     "base_uri": "https://localhost:8080/",
     "height": 105
    },
    "colab_type": "code",
    "id": "P8q6pesMXjEw",
    "outputId": "55a0c3f4-b629-416a-bf83-1433be2532f1"
   },
   "outputs": [
    {
     "data": {
      "text/plain": [
       "array(['id', 'click', 'hour', 'C1', 'banner_pos', 'site_category',\n",
       "       'app_id', 'app_domain', 'app_category', 'device_type',\n",
       "       'device_conn_type', 'C14', 'C15', 'C16', 'C17', 'C18', 'C19',\n",
       "       'C20', 'C21', 'weekday', 'user', 'site'], dtype=object)"
      ]
     },
     "execution_count": 49,
     "metadata": {},
     "output_type": "execute_result"
    }
   ],
   "source": [
    "# we can see that the frequency for these two variables is quite similar\n",
    "df['site'] = df['site_id'] + df['site_domain']\n",
    "df.drop(columns = ['site_id', 'site_domain'], inplace= True)\n",
    "df.columns.values"
   ]
  },
  {
   "cell_type": "markdown",
   "metadata": {
    "colab_type": "text",
    "id": "9XiL4dorXjE0"
   },
   "source": [
    "Again, we split the modified DataFrame df into a train (90%) and a test set (10%) (with option: random_state = 100).\n",
    "</font>"
   ]
  },
  {
   "cell_type": "code",
   "execution_count": 50,
   "metadata": {
    "colab": {
     "base_uri": "https://localhost:8080/",
     "height": 34
    },
    "colab_type": "code",
    "id": "JatzrTeXXjE3",
    "outputId": "530e854d-0216-4972-96fd-f8ebad7ff27a"
   },
   "outputs": [
    {
     "name": "stdout",
     "output_type": "stream",
     "text": [
      "(900000, 21) (100000, 21)\n"
     ]
    }
   ],
   "source": [
    "Xtrain, Xtest, ytrain, ytest = train_test_split(df.loc[:, df.columns != 'click'], df['click'], test_size=0.1, random_state=100)\n",
    "print(Xtrain.shape, Xtest.shape)"
   ]
  },
  {
   "cell_type": "markdown",
   "metadata": {
    "colab_type": "text",
    "id": "jvIOa42fXjE7"
   },
   "source": [
    "Then we perform one-hot encoding:"
   ]
  },
  {
   "cell_type": "code",
   "execution_count": 51,
   "metadata": {
    "colab": {
     "base_uri": "https://localhost:8080/",
     "height": 34
    },
    "colab_type": "code",
    "id": "-RWdDCvYXjE9",
    "outputId": "b5eaef08-116f-428a-bf97-667fd38bd11d"
   },
   "outputs": [
    {
     "data": {
      "text/plain": [
       "(900000, 1613334)"
      ]
     },
     "execution_count": 51,
     "metadata": {},
     "output_type": "execute_result"
    }
   ],
   "source": [
    "ohe = OneHotEncoder(handle_unknown= 'ignore')\n",
    "Xtrain_oh = ohe.fit_transform(Xtrain)\n",
    "Xtrain_oh.shape"
   ]
  },
  {
   "cell_type": "code",
   "execution_count": 53,
   "metadata": {
    "colab": {
     "base_uri": "https://localhost:8080/",
     "height": 34
    },
    "colab_type": "code",
    "id": "lmGy5pN2XjFJ",
    "outputId": "8cbaa6a4-2af6-49c5-ab26-9f833aaae6dc"
   },
   "outputs": [
    {
     "name": "stdout",
     "output_type": "stream",
     "text": [
      "The new number of features is: 1613334.\n"
     ]
    }
   ],
   "source": [
    "print(f'The new number of features is: {Xtrain_oh.shape[1]}.')"
   ]
  },
  {
   "cell_type": "markdown",
   "metadata": {
    "colab_type": "text",
    "id": "2mo10wKNXjFL"
   },
   "source": [
    "How many modalities have been seen more than a 100 times?\n",
    "</font>"
   ]
  },
  {
   "cell_type": "code",
   "execution_count": 54,
   "metadata": {
    "colab": {
     "base_uri": "https://localhost:8080/",
     "height": 34
    },
    "colab_type": "code",
    "id": "ZDvKccF2XjFM",
    "outputId": "5ab4c54f-75a5-42b5-d09f-e9b7fd3bb5f1"
   },
   "outputs": [
    {
     "data": {
      "text/plain": [
       "1971"
      ]
     },
     "execution_count": 54,
     "metadata": {},
     "output_type": "execute_result"
    }
   ],
   "source": [
    "# The following 'n_ones' vector below gives the number of '1' in each column/modality of the Xtrain_oh design matrix.\n",
    "n_ones = np.array((Xtrain_oh != 0).sum(0))[0]\n",
    "sum(n_ones > 100)"
   ]
  },
  {
   "cell_type": "markdown",
   "metadata": {
    "colab_type": "raw",
    "id": "PeQdkr9pXjFU"
   },
   "source": [
    "There are 1971 modalities occurring more than 100 times in the initial 1613334 modalities."
   ]
  },
  {
   "cell_type": "markdown",
   "metadata": {
    "colab_type": "text",
    "id": "L6dFJtpLXjFV"
   },
   "source": [
    "The list 'cols_to_keep' below is used to store the indices of the modalities seen more than a 100 times."
   ]
  },
  {
   "cell_type": "code",
   "execution_count": 55,
   "metadata": {
    "colab": {},
    "colab_type": "code",
    "id": "xa1AU6EOXjFW"
   },
   "outputs": [],
   "source": [
    "cols_to_keep = []\n",
    "for counter, value in enumerate(n_ones):\n",
    "    if value > 100:\n",
    "        cols_to_keep.append(counter)"
   ]
  },
  {
   "cell_type": "markdown",
   "metadata": {
    "colab_type": "text",
    "id": "BMiVm3lvXjFX"
   },
   "source": [
    "Using only our restriction on the 'cols_to_keep' columns, let's retrain a logistic regression model and compare its performance in terms of 'log_loss' and 'roc_auc_curve'.\n",
    "</font>"
   ]
  },
  {
   "cell_type": "code",
   "execution_count": 56,
   "metadata": {},
   "outputs": [],
   "source": [
    "# Retrain logistic regression with selected columns.\n",
    "clf = LogisticRegression()\n",
    "clf.fit(Xtrain_oh[:, cols_to_keep], ytrain)\n",
    "hard = clf.predict(Xtest_oh[:, cols_to_keep])\n",
    "soft = clf.predict_proba(Xtest_oh[:, cols_to_keep])"
   ]
  },
  {
   "cell_type": "code",
   "execution_count": 57,
   "metadata": {
    "colab": {
     "base_uri": "https://localhost:8080/",
     "height": 410
    },
    "colab_type": "code",
    "id": "fXUYXkkmXjFY",
    "outputId": "283980c2-5907-41e3-f147-2403afc06696"
   },
   "outputs": [
    {
     "data": {
      "image/png": "[encoded data removed]",
      "text/plain": [
       "<Figure size 504x360 with 1 Axes>"
      ]
     },
     "metadata": {},
     "output_type": "display_data"
    }
   ],
   "source": [
    "# calculate the fpr and tpr for all thresholds of the classification\n",
    "preds = soft[:,1]\n",
    "fpr, tpr, threshold = roc_curve(ytest, preds)\n",
    "roc_auc = auc(fpr, tpr)\n",
    "\n",
    "plt.figure(1, figsize = (7, 5))\n",
    "plt.title('Roc Curve')\n",
    "plt.plot(fpr, tpr, label = 'AUC = %0.3f' % roc_auc)\n",
    "plt.plot([0, 1], [0, 1],'r--')\n",
    "plt.ylabel('True Positive Rate')\n",
    "plt.xlabel('False Positive Rate')\n",
    "plt.legend()\n",
    "plt.show()"
   ]
  },
  {
   "cell_type": "code",
   "execution_count": 58,
   "metadata": {},
   "outputs": [],
   "source": [
    "df_compare['Accuracy']['Logit Xtrain_oh[:, cols_to_keep]'] = np.round(accuracy_score(ytest, hard), 5)\n",
    "df_compare['Log Loss']['Logit Xtrain_oh[:, cols_to_keep]'] = np.round(log_loss(ytest, soft), 5)\n",
    "df_compare['ROC AUC']['Logit Xtrain_oh[:, cols_to_keep]'] = np.round(roc_auc_score(ytest, soft[:,1]), 5)"
   ]
  },
  {
   "cell_type": "code",
   "execution_count": 59,
   "metadata": {},
   "outputs": [
    {
     "name": "stdout",
     "output_type": "stream",
     "text": [
      "The accuracy of the model is: 0.83375\n",
      "The log loss is equal to : 0.40116\n",
      "The Area Under the Curve ROC is equal to: 0.7386\n"
     ]
    }
   ],
   "source": [
    "print(f'The accuracy of the model is: {np.round(accuracy_score(ytest, hard), 5)}')\n",
    "print(f'The log loss is equal to : {np.round(log_loss(ytest, soft), 5)}')\n",
    "print(f'The Area Under the Curve ROC is equal to: {np.round(roc_auc_score(ytest, soft[:,1]), 5)}')"
   ]
  },
  {
   "cell_type": "markdown",
   "metadata": {
    "colab_type": "text",
    "id": "2QnYOx2QXjFb"
   },
   "source": [
    "The log loss of the previous model was 0.40116 and the ROC AUC score was 0.7386. Therefore, this model with one hot encoders and 1971 features has better performance since the log loss of the last model is lower."
   ]
  },
  {
   "cell_type": "markdown",
   "metadata": {
    "colab_type": "text",
    "id": "CeYR_Q-iXjFb"
   },
   "source": [
    "# Gradient Boosting Decision Trees"
   ]
  },
  {
   "cell_type": "markdown",
   "metadata": {
    "colab_type": "text",
    "id": "rLqRkaM4XjFc"
   },
   "source": [
    "Now, we are going to:\n",
    "    - Import GradientBoostingClassifier from scikit learn. \n",
    "    - Initialize it using 50 estimators and a learning rate of 0.8. Set 'verbose=True' to monitor the progress of the algorithm.\n",
    "    - Fit it on the same columns 'cols_to_keep' of Xtrain_oh than for the previous logistic regression.\n",
    "    - Evaluate its performance as in the previous step.\n",
    "</font>"
   ]
  },
  {
   "cell_type": "code",
   "execution_count": 60,
   "metadata": {
    "colab": {
     "base_uri": "https://localhost:8080/",
     "height": 445
    },
    "colab_type": "code",
    "id": "T4SGWZ6nXjFc",
    "outputId": "c81cbeb1-783d-4920-802c-d0d9603931e6"
   },
   "outputs": [
    {
     "name": "stdout",
     "output_type": "stream",
     "text": [
      "      Iter       Train Loss   Remaining Time \n",
      "         1           0.8743            3.73m\n",
      "         2           0.8646            3.60m\n",
      "         3           0.8583            3.53m\n",
      "         4           0.8535            3.43m\n",
      "         5           0.8503            3.34m\n",
      "         6           0.8464            3.26m\n",
      "         7           0.8441            3.19m\n",
      "         8           0.8418            3.11m\n",
      "         9           0.8404            3.04m\n",
      "        10           0.8383            2.96m\n",
      "        20           0.8282            2.23m\n",
      "        30           0.8234            1.49m\n",
      "        40           0.8190           44.68s\n",
      "        50           0.8163            0.00s\n"
     ]
    },
    {
     "data": {
      "text/plain": [
       "GradientBoostingClassifier(criterion='friedman_mse', init=None,\n",
       "              learning_rate=0.8, loss='deviance', max_depth=3,\n",
       "              max_features=None, max_leaf_nodes=None,\n",
       "              min_impurity_decrease=0.0, min_impurity_split=None,\n",
       "              min_samples_leaf=1, min_samples_split=2,\n",
       "              min_weight_fraction_leaf=0.0, n_estimators=50,\n",
       "              n_iter_no_change=None, presort='auto', random_state=None,\n",
       "              subsample=1.0, tol=0.0001, validation_fraction=0.1,\n",
       "              verbose=True, warm_start=False)"
      ]
     },
     "execution_count": 60,
     "metadata": {},
     "output_type": "execute_result"
    }
   ],
   "source": [
    "from sklearn.ensemble import GradientBoostingClassifier\n",
    "gb = GradientBoostingClassifier(n_estimators= 50, learning_rate= 0.8, verbose= True)\n",
    "gb.fit(Xtrain_oh[:, cols_to_keep], ytrain)"
   ]
  },
  {
   "cell_type": "code",
   "execution_count": 61,
   "metadata": {},
   "outputs": [],
   "source": [
    "soft = gb.predict_proba(Xtest_oh[:, cols_to_keep])\n",
    "hard = gb.predict(Xtest_oh[:, cols_to_keep])"
   ]
  },
  {
   "cell_type": "code",
   "execution_count": 62,
   "metadata": {},
   "outputs": [
    {
     "name": "stdout",
     "output_type": "stream",
     "text": [
      "The accuracy of the model is: 0.83344\n",
      "The log loss is equal to : 0.40916\n",
      "The Area Under the Curve ROC is equal to: 0.72524\n"
     ]
    }
   ],
   "source": [
    "print(f'The accuracy of the model is: {np.round(accuracy_score(ytest, hard), 5)}')\n",
    "print(f'The log loss is equal to : {np.round(log_loss(ytest, soft), 5)}')\n",
    "print(f'The Area Under the Curve ROC is equal to: {np.round(roc_auc_score(ytest, soft[:,1]), 5)}')"
   ]
  },
  {
   "cell_type": "code",
   "execution_count": 63,
   "metadata": {},
   "outputs": [],
   "source": [
    "df_compare['Accuracy']['GradientBoosting Xtrain_oh[:, cols_to_keep]'] = np.round(accuracy_score(ytest, hard), 5)\n",
    "df_compare['Log Loss']['GradientBoosting Xtrain_oh[:, cols_to_keep]'] = np.round(log_loss(ytest, soft), 5)\n",
    "df_compare['ROC AUC']['GradientBoosting Xtrain_oh[:, cols_to_keep]'] = np.round(roc_auc_score(ytest, soft[:,1]), 5)"
   ]
  },
  {
   "cell_type": "markdown",
   "metadata": {
    "colab_type": "raw",
    "id": "ulp75t_vXjFn"
   },
   "source": [
    "gb.estimators_ ouputs an array with the estimator fitted in each iteration -here there are 50 iterations. "
   ]
  },
  {
   "cell_type": "code",
   "execution_count": 64,
   "metadata": {
    "colab": {
     "base_uri": "https://localhost:8080/",
     "height": 5987
    },
    "colab_type": "code",
    "id": "ZmO4AvTgXjFo",
    "outputId": "72bca392-9c76-48ed-ff23-48fcc13220b4"
   },
   "outputs": [
    {
     "data": {
      "text/plain": [
       "array([[DecisionTreeRegressor(criterion='friedman_mse', max_depth=3,\n",
       "           max_features=None, max_leaf_nodes=None,\n",
       "           min_impurity_decrease=0.0, min_impurity_split=None,\n",
       "           min_samples_leaf=1, min_samples_split=2,\n",
       "           min_weight_fraction_leaf=0.0, presort='auto',\n",
       "           random_state=<mtrand.RandomState object at 0x7f10f40fbcf0>,\n",
       "           splitter='best')],\n",
       "       [DecisionTreeRegressor(criterion='friedman_mse', max_depth=3,\n",
       "           max_features=None, max_leaf_nodes=None,\n",
       "           min_impurity_decrease=0.0, min_impurity_split=None,\n",
       "           min_samples_leaf=1, min_samples_split=2,\n",
       "           min_weight_fraction_leaf=0.0, presort='auto',\n",
       "           random_state=<mtrand.RandomState object at 0x7f10f40fbcf0>,\n",
       "           splitter='best')],\n",
       "       [DecisionTreeRegressor(criterion='friedman_mse', max_depth=3,\n",
       "           max_features=None, max_leaf_nodes=None,\n",
       "           min_impurity_decrease=0.0, min_impurity_split=None,\n",
       "           min_samples_leaf=1, min_samples_split=2,\n",
       "           min_weight_fraction_leaf=0.0, presort='auto',\n",
       "           random_state=<mtrand.RandomState object at 0x7f10f40fbcf0>,\n",
       "           splitter='best')],\n",
       "       [DecisionTreeRegressor(criterion='friedman_mse', max_depth=3,\n",
       "           max_features=None, max_leaf_nodes=None,\n",
       "           min_impurity_decrease=0.0, min_impurity_split=None,\n",
       "           min_samples_leaf=1, min_samples_split=2,\n",
       "           min_weight_fraction_leaf=0.0, presort='auto',\n",
       "           random_state=<mtrand.RandomState object at 0x7f10f40fbcf0>,\n",
       "           splitter='best')],\n",
       "       [DecisionTreeRegressor(criterion='friedman_mse', max_depth=3,\n",
       "           max_features=None, max_leaf_nodes=None,\n",
       "           min_impurity_decrease=0.0, min_impurity_split=None,\n",
       "           min_samples_leaf=1, min_samples_split=2,\n",
       "           min_weight_fraction_leaf=0.0, presort='auto',\n",
       "           random_state=<mtrand.RandomState object at 0x7f10f40fbcf0>,\n",
       "           splitter='best')],\n",
       "       [DecisionTreeRegressor(criterion='friedman_mse', max_depth=3,\n",
       "           max_features=None, max_leaf_nodes=None,\n",
       "           min_impurity_decrease=0.0, min_impurity_split=None,\n",
       "           min_samples_leaf=1, min_samples_split=2,\n",
       "           min_weight_fraction_leaf=0.0, presort='auto',\n",
       "           random_state=<mtrand.RandomState object at 0x7f10f40fbcf0>,\n",
       "           splitter='best')],\n",
       "       [DecisionTreeRegressor(criterion='friedman_mse', max_depth=3,\n",
       "           max_features=None, max_leaf_nodes=None,\n",
       "           min_impurity_decrease=0.0, min_impurity_split=None,\n",
       "           min_samples_leaf=1, min_samples_split=2,\n",
       "           min_weight_fraction_leaf=0.0, presort='auto',\n",
       "           random_state=<mtrand.RandomState object at 0x7f10f40fbcf0>,\n",
       "           splitter='best')],\n",
       "       [DecisionTreeRegressor(criterion='friedman_mse', max_depth=3,\n",
       "           max_features=None, max_leaf_nodes=None,\n",
       "           min_impurity_decrease=0.0, min_impurity_split=None,\n",
       "           min_samples_leaf=1, min_samples_split=2,\n",
       "           min_weight_fraction_leaf=0.0, presort='auto',\n",
       "           random_state=<mtrand.RandomState object at 0x7f10f40fbcf0>,\n",
       "           splitter='best')],\n",
       "       [DecisionTreeRegressor(criterion='friedman_mse', max_depth=3,\n",
       "           max_features=None, max_leaf_nodes=None,\n",
       "           min_impurity_decrease=0.0, min_impurity_split=None,\n",
       "           min_samples_leaf=1, min_samples_split=2,\n",
       "           min_weight_fraction_leaf=0.0, presort='auto',\n",
       "           random_state=<mtrand.RandomState object at 0x7f10f40fbcf0>,\n",
       "           splitter='best')],\n",
       "       [DecisionTreeRegressor(criterion='friedman_mse', max_depth=3,\n",
       "           max_features=None, max_leaf_nodes=None,\n",
       "           min_impurity_decrease=0.0, min_impurity_split=None,\n",
       "           min_samples_leaf=1, min_samples_split=2,\n",
       "           min_weight_fraction_leaf=0.0, presort='auto',\n",
       "           random_state=<mtrand.RandomState object at 0x7f10f40fbcf0>,\n",
       "           splitter='best')],\n",
       "       [DecisionTreeRegressor(criterion='friedman_mse', max_depth=3,\n",
       "           max_features=None, max_leaf_nodes=None,\n",
       "           min_impurity_decrease=0.0, min_impurity_split=None,\n",
       "           min_samples_leaf=1, min_samples_split=2,\n",
       "           min_weight_fraction_leaf=0.0, presort='auto',\n",
       "           random_state=<mtrand.RandomState object at 0x7f10f40fbcf0>,\n",
       "           splitter='best')],\n",
       "       [DecisionTreeRegressor(criterion='friedman_mse', max_depth=3,\n",
       "           max_features=None, max_leaf_nodes=None,\n",
       "           min_impurity_decrease=0.0, min_impurity_split=None,\n",
       "           min_samples_leaf=1, min_samples_split=2,\n",
       "           min_weight_fraction_leaf=0.0, presort='auto',\n",
       "           random_state=<mtrand.RandomState object at 0x7f10f40fbcf0>,\n",
       "           splitter='best')],\n",
       "       [DecisionTreeRegressor(criterion='friedman_mse', max_depth=3,\n",
       "           max_features=None, max_leaf_nodes=None,\n",
       "           min_impurity_decrease=0.0, min_impurity_split=None,\n",
       "           min_samples_leaf=1, min_samples_split=2,\n",
       "           min_weight_fraction_leaf=0.0, presort='auto',\n",
       "           random_state=<mtrand.RandomState object at 0x7f10f40fbcf0>,\n",
       "           splitter='best')],\n",
       "       [DecisionTreeRegressor(criterion='friedman_mse', max_depth=3,\n",
       "           max_features=None, max_leaf_nodes=None,\n",
       "           min_impurity_decrease=0.0, min_impurity_split=None,\n",
       "           min_samples_leaf=1, min_samples_split=2,\n",
       "           min_weight_fraction_leaf=0.0, presort='auto',\n",
       "           random_state=<mtrand.RandomState object at 0x7f10f40fbcf0>,\n",
       "           splitter='best')],\n",
       "       [DecisionTreeRegressor(criterion='friedman_mse', max_depth=3,\n",
       "           max_features=None, max_leaf_nodes=None,\n",
       "           min_impurity_decrease=0.0, min_impurity_split=None,\n",
       "           min_samples_leaf=1, min_samples_split=2,\n",
       "           min_weight_fraction_leaf=0.0, presort='auto',\n",
       "           random_state=<mtrand.RandomState object at 0x7f10f40fbcf0>,\n",
       "           splitter='best')],\n",
       "       [DecisionTreeRegressor(criterion='friedman_mse', max_depth=3,\n",
       "           max_features=None, max_leaf_nodes=None,\n",
       "           min_impurity_decrease=0.0, min_impurity_split=None,\n",
       "           min_samples_leaf=1, min_samples_split=2,\n",
       "           min_weight_fraction_leaf=0.0, presort='auto',\n",
       "           random_state=<mtrand.RandomState object at 0x7f10f40fbcf0>,\n",
       "           splitter='best')],\n",
       "       [DecisionTreeRegressor(criterion='friedman_mse', max_depth=3,\n",
       "           max_features=None, max_leaf_nodes=None,\n",
       "           min_impurity_decrease=0.0, min_impurity_split=None,\n",
       "           min_samples_leaf=1, min_samples_split=2,\n",
       "           min_weight_fraction_leaf=0.0, presort='auto',\n",
       "           random_state=<mtrand.RandomState object at 0x7f10f40fbcf0>,\n",
       "           splitter='best')],\n",
       "       [DecisionTreeRegressor(criterion='friedman_mse', max_depth=3,\n",
       "           max_features=None, max_leaf_nodes=None,\n",
       "           min_impurity_decrease=0.0, min_impurity_split=None,\n",
       "           min_samples_leaf=1, min_samples_split=2,\n",
       "           min_weight_fraction_leaf=0.0, presort='auto',\n",
       "           random_state=<mtrand.RandomState object at 0x7f10f40fbcf0>,\n",
       "           splitter='best')],\n",
       "       [DecisionTreeRegressor(criterion='friedman_mse', max_depth=3,\n",
       "           max_features=None, max_leaf_nodes=None,\n",
       "           min_impurity_decrease=0.0, min_impurity_split=None,\n",
       "           min_samples_leaf=1, min_samples_split=2,\n",
       "           min_weight_fraction_leaf=0.0, presort='auto',\n",
       "           random_state=<mtrand.RandomState object at 0x7f10f40fbcf0>,\n",
       "           splitter='best')],\n",
       "       [DecisionTreeRegressor(criterion='friedman_mse', max_depth=3,\n",
       "           max_features=None, max_leaf_nodes=None,\n",
       "           min_impurity_decrease=0.0, min_impurity_split=None,\n",
       "           min_samples_leaf=1, min_samples_split=2,\n",
       "           min_weight_fraction_leaf=0.0, presort='auto',\n",
       "           random_state=<mtrand.RandomState object at 0x7f10f40fbcf0>,\n",
       "           splitter='best')],\n",
       "       [DecisionTreeRegressor(criterion='friedman_mse', max_depth=3,\n",
       "           max_features=None, max_leaf_nodes=None,\n",
       "           min_impurity_decrease=0.0, min_impurity_split=None,\n",
       "           min_samples_leaf=1, min_samples_split=2,\n",
       "           min_weight_fraction_leaf=0.0, presort='auto',\n",
       "           random_state=<mtrand.RandomState object at 0x7f10f40fbcf0>,\n",
       "           splitter='best')],\n",
       "       [DecisionTreeRegressor(criterion='friedman_mse', max_depth=3,\n",
       "           max_features=None, max_leaf_nodes=None,\n",
       "           min_impurity_decrease=0.0, min_impurity_split=None,\n",
       "           min_samples_leaf=1, min_samples_split=2,\n",
       "           min_weight_fraction_leaf=0.0, presort='auto',\n",
       "           random_state=<mtrand.RandomState object at 0x7f10f40fbcf0>,\n",
       "           splitter='best')],\n",
       "       [DecisionTreeRegressor(criterion='friedman_mse', max_depth=3,\n",
       "           max_features=None, max_leaf_nodes=None,\n",
       "           min_impurity_decrease=0.0, min_impurity_split=None,\n",
       "           min_samples_leaf=1, min_samples_split=2,\n",
       "           min_weight_fraction_leaf=0.0, presort='auto',\n",
       "           random_state=<mtrand.RandomState object at 0x7f10f40fbcf0>,\n",
       "           splitter='best')],\n",
       "       [DecisionTreeRegressor(criterion='friedman_mse', max_depth=3,\n",
       "           max_features=None, max_leaf_nodes=None,\n",
       "           min_impurity_decrease=0.0, min_impurity_split=None,\n",
       "           min_samples_leaf=1, min_samples_split=2,\n",
       "           min_weight_fraction_leaf=0.0, presort='auto',\n",
       "           random_state=<mtrand.RandomState object at 0x7f10f40fbcf0>,\n",
       "           splitter='best')],\n",
       "       [DecisionTreeRegressor(criterion='friedman_mse', max_depth=3,\n",
       "           max_features=None, max_leaf_nodes=None,\n",
       "           min_impurity_decrease=0.0, min_impurity_split=None,\n",
       "           min_samples_leaf=1, min_samples_split=2,\n",
       "           min_weight_fraction_leaf=0.0, presort='auto',\n",
       "           random_state=<mtrand.RandomState object at 0x7f10f40fbcf0>,\n",
       "           splitter='best')],\n",
       "       [DecisionTreeRegressor(criterion='friedman_mse', max_depth=3,\n",
       "           max_features=None, max_leaf_nodes=None,\n",
       "           min_impurity_decrease=0.0, min_impurity_split=None,\n",
       "           min_samples_leaf=1, min_samples_split=2,\n",
       "           min_weight_fraction_leaf=0.0, presort='auto',\n",
       "           random_state=<mtrand.RandomState object at 0x7f10f40fbcf0>,\n",
       "           splitter='best')],\n",
       "       [DecisionTreeRegressor(criterion='friedman_mse', max_depth=3,\n",
       "           max_features=None, max_leaf_nodes=None,\n",
       "           min_impurity_decrease=0.0, min_impurity_split=None,\n",
       "           min_samples_leaf=1, min_samples_split=2,\n",
       "           min_weight_fraction_leaf=0.0, presort='auto',\n",
       "           random_state=<mtrand.RandomState object at 0x7f10f40fbcf0>,\n",
       "           splitter='best')],\n",
       "       [DecisionTreeRegressor(criterion='friedman_mse', max_depth=3,\n",
       "           max_features=None, max_leaf_nodes=None,\n",
       "           min_impurity_decrease=0.0, min_impurity_split=None,\n",
       "           min_samples_leaf=1, min_samples_split=2,\n",
       "           min_weight_fraction_leaf=0.0, presort='auto',\n",
       "           random_state=<mtrand.RandomState object at 0x7f10f40fbcf0>,\n",
       "           splitter='best')],\n",
       "       [DecisionTreeRegressor(criterion='friedman_mse', max_depth=3,\n",
       "           max_features=None, max_leaf_nodes=None,\n",
       "           min_impurity_decrease=0.0, min_impurity_split=None,\n",
       "           min_samples_leaf=1, min_samples_split=2,\n",
       "           min_weight_fraction_leaf=0.0, presort='auto',\n",
       "           random_state=<mtrand.RandomState object at 0x7f10f40fbcf0>,\n",
       "           splitter='best')],\n",
       "       [DecisionTreeRegressor(criterion='friedman_mse', max_depth=3,\n",
       "           max_features=None, max_leaf_nodes=None,\n",
       "           min_impurity_decrease=0.0, min_impurity_split=None,\n",
       "           min_samples_leaf=1, min_samples_split=2,\n",
       "           min_weight_fraction_leaf=0.0, presort='auto',\n",
       "           random_state=<mtrand.RandomState object at 0x7f10f40fbcf0>,\n",
       "           splitter='best')],\n",
       "       [DecisionTreeRegressor(criterion='friedman_mse', max_depth=3,\n",
       "           max_features=None, max_leaf_nodes=None,\n",
       "           min_impurity_decrease=0.0, min_impurity_split=None,\n",
       "           min_samples_leaf=1, min_samples_split=2,\n",
       "           min_weight_fraction_leaf=0.0, presort='auto',\n",
       "           random_state=<mtrand.RandomState object at 0x7f10f40fbcf0>,\n",
       "           splitter='best')],\n",
       "       [DecisionTreeRegressor(criterion='friedman_mse', max_depth=3,\n",
       "           max_features=None, max_leaf_nodes=None,\n",
       "           min_impurity_decrease=0.0, min_impurity_split=None,\n",
       "           min_samples_leaf=1, min_samples_split=2,\n",
       "           min_weight_fraction_leaf=0.0, presort='auto',\n",
       "           random_state=<mtrand.RandomState object at 0x7f10f40fbcf0>,\n",
       "           splitter='best')],\n",
       "       [DecisionTreeRegressor(criterion='friedman_mse', max_depth=3,\n",
       "           max_features=None, max_leaf_nodes=None,\n",
       "           min_impurity_decrease=0.0, min_impurity_split=None,\n",
       "           min_samples_leaf=1, min_samples_split=2,\n",
       "           min_weight_fraction_leaf=0.0, presort='auto',\n",
       "           random_state=<mtrand.RandomState object at 0x7f10f40fbcf0>,\n",
       "           splitter='best')],\n",
       "       [DecisionTreeRegressor(criterion='friedman_mse', max_depth=3,\n",
       "           max_features=None, max_leaf_nodes=None,\n",
       "           min_impurity_decrease=0.0, min_impurity_split=None,\n",
       "           min_samples_leaf=1, min_samples_split=2,\n",
       "           min_weight_fraction_leaf=0.0, presort='auto',\n",
       "           random_state=<mtrand.RandomState object at 0x7f10f40fbcf0>,\n",
       "           splitter='best')],\n",
       "       [DecisionTreeRegressor(criterion='friedman_mse', max_depth=3,\n",
       "           max_features=None, max_leaf_nodes=None,\n",
       "           min_impurity_decrease=0.0, min_impurity_split=None,\n",
       "           min_samples_leaf=1, min_samples_split=2,\n",
       "           min_weight_fraction_leaf=0.0, presort='auto',\n",
       "           random_state=<mtrand.RandomState object at 0x7f10f40fbcf0>,\n",
       "           splitter='best')],\n",
       "       [DecisionTreeRegressor(criterion='friedman_mse', max_depth=3,\n",
       "           max_features=None, max_leaf_nodes=None,\n",
       "           min_impurity_decrease=0.0, min_impurity_split=None,\n",
       "           min_samples_leaf=1, min_samples_split=2,\n",
       "           min_weight_fraction_leaf=0.0, presort='auto',\n",
       "           random_state=<mtrand.RandomState object at 0x7f10f40fbcf0>,\n",
       "           splitter='best')],\n",
       "       [DecisionTreeRegressor(criterion='friedman_mse', max_depth=3,\n",
       "           max_features=None, max_leaf_nodes=None,\n",
       "           min_impurity_decrease=0.0, min_impurity_split=None,\n",
       "           min_samples_leaf=1, min_samples_split=2,\n",
       "           min_weight_fraction_leaf=0.0, presort='auto',\n",
       "           random_state=<mtrand.RandomState object at 0x7f10f40fbcf0>,\n",
       "           splitter='best')],\n",
       "       [DecisionTreeRegressor(criterion='friedman_mse', max_depth=3,\n",
       "           max_features=None, max_leaf_nodes=None,\n",
       "           min_impurity_decrease=0.0, min_impurity_split=None,\n",
       "           min_samples_leaf=1, min_samples_split=2,\n",
       "           min_weight_fraction_leaf=0.0, presort='auto',\n",
       "           random_state=<mtrand.RandomState object at 0x7f10f40fbcf0>,\n",
       "           splitter='best')],\n",
       "       [DecisionTreeRegressor(criterion='friedman_mse', max_depth=3,\n",
       "           max_features=None, max_leaf_nodes=None,\n",
       "           min_impurity_decrease=0.0, min_impurity_split=None,\n",
       "           min_samples_leaf=1, min_samples_split=2,\n",
       "           min_weight_fraction_leaf=0.0, presort='auto',\n",
       "           random_state=<mtrand.RandomState object at 0x7f10f40fbcf0>,\n",
       "           splitter='best')],\n",
       "       [DecisionTreeRegressor(criterion='friedman_mse', max_depth=3,\n",
       "           max_features=None, max_leaf_nodes=None,\n",
       "           min_impurity_decrease=0.0, min_impurity_split=None,\n",
       "           min_samples_leaf=1, min_samples_split=2,\n",
       "           min_weight_fraction_leaf=0.0, presort='auto',\n",
       "           random_state=<mtrand.RandomState object at 0x7f10f40fbcf0>,\n",
       "           splitter='best')],\n",
       "       [DecisionTreeRegressor(criterion='friedman_mse', max_depth=3,\n",
       "           max_features=None, max_leaf_nodes=None,\n",
       "           min_impurity_decrease=0.0, min_impurity_split=None,\n",
       "           min_samples_leaf=1, min_samples_split=2,\n",
       "           min_weight_fraction_leaf=0.0, presort='auto',\n",
       "           random_state=<mtrand.RandomState object at 0x7f10f40fbcf0>,\n",
       "           splitter='best')],\n",
       "       [DecisionTreeRegressor(criterion='friedman_mse', max_depth=3,\n",
       "           max_features=None, max_leaf_nodes=None,\n",
       "           min_impurity_decrease=0.0, min_impurity_split=None,\n",
       "           min_samples_leaf=1, min_samples_split=2,\n",
       "           min_weight_fraction_leaf=0.0, presort='auto',\n",
       "           random_state=<mtrand.RandomState object at 0x7f10f40fbcf0>,\n",
       "           splitter='best')],\n",
       "       [DecisionTreeRegressor(criterion='friedman_mse', max_depth=3,\n",
       "           max_features=None, max_leaf_nodes=None,\n",
       "           min_impurity_decrease=0.0, min_impurity_split=None,\n",
       "           min_samples_leaf=1, min_samples_split=2,\n",
       "           min_weight_fraction_leaf=0.0, presort='auto',\n",
       "           random_state=<mtrand.RandomState object at 0x7f10f40fbcf0>,\n",
       "           splitter='best')],\n",
       "       [DecisionTreeRegressor(criterion='friedman_mse', max_depth=3,\n",
       "           max_features=None, max_leaf_nodes=None,\n",
       "           min_impurity_decrease=0.0, min_impurity_split=None,\n",
       "           min_samples_leaf=1, min_samples_split=2,\n",
       "           min_weight_fraction_leaf=0.0, presort='auto',\n",
       "           random_state=<mtrand.RandomState object at 0x7f10f40fbcf0>,\n",
       "           splitter='best')],\n",
       "       [DecisionTreeRegressor(criterion='friedman_mse', max_depth=3,\n",
       "           max_features=None, max_leaf_nodes=None,\n",
       "           min_impurity_decrease=0.0, min_impurity_split=None,\n",
       "           min_samples_leaf=1, min_samples_split=2,\n",
       "           min_weight_fraction_leaf=0.0, presort='auto',\n",
       "           random_state=<mtrand.RandomState object at 0x7f10f40fbcf0>,\n",
       "           splitter='best')],\n",
       "       [DecisionTreeRegressor(criterion='friedman_mse', max_depth=3,\n",
       "           max_features=None, max_leaf_nodes=None,\n",
       "           min_impurity_decrease=0.0, min_impurity_split=None,\n",
       "           min_samples_leaf=1, min_samples_split=2,\n",
       "           min_weight_fraction_leaf=0.0, presort='auto',\n",
       "           random_state=<mtrand.RandomState object at 0x7f10f40fbcf0>,\n",
       "           splitter='best')],\n",
       "       [DecisionTreeRegressor(criterion='friedman_mse', max_depth=3,\n",
       "           max_features=None, max_leaf_nodes=None,\n",
       "           min_impurity_decrease=0.0, min_impurity_split=None,\n",
       "           min_samples_leaf=1, min_samples_split=2,\n",
       "           min_weight_fraction_leaf=0.0, presort='auto',\n",
       "           random_state=<mtrand.RandomState object at 0x7f10f40fbcf0>,\n",
       "           splitter='best')],\n",
       "       [DecisionTreeRegressor(criterion='friedman_mse', max_depth=3,\n",
       "           max_features=None, max_leaf_nodes=None,\n",
       "           min_impurity_decrease=0.0, min_impurity_split=None,\n",
       "           min_samples_leaf=1, min_samples_split=2,\n",
       "           min_weight_fraction_leaf=0.0, presort='auto',\n",
       "           random_state=<mtrand.RandomState object at 0x7f10f40fbcf0>,\n",
       "           splitter='best')],\n",
       "       [DecisionTreeRegressor(criterion='friedman_mse', max_depth=3,\n",
       "           max_features=None, max_leaf_nodes=None,\n",
       "           min_impurity_decrease=0.0, min_impurity_split=None,\n",
       "           min_samples_leaf=1, min_samples_split=2,\n",
       "           min_weight_fraction_leaf=0.0, presort='auto',\n",
       "           random_state=<mtrand.RandomState object at 0x7f10f40fbcf0>,\n",
       "           splitter='best')],\n",
       "       [DecisionTreeRegressor(criterion='friedman_mse', max_depth=3,\n",
       "           max_features=None, max_leaf_nodes=None,\n",
       "           min_impurity_decrease=0.0, min_impurity_split=None,\n",
       "           min_samples_leaf=1, min_samples_split=2,\n",
       "           min_weight_fraction_leaf=0.0, presort='auto',\n",
       "           random_state=<mtrand.RandomState object at 0x7f10f40fbcf0>,\n",
       "           splitter='best')]], dtype=object)"
      ]
     },
     "execution_count": 64,
     "metadata": {},
     "output_type": "execute_result"
    }
   ],
   "source": [
    "gb.estimators_"
   ]
  },
  {
   "cell_type": "markdown",
   "metadata": {
    "colab_type": "text",
    "id": "cZVqX5lFXjFq"
   },
   "source": [
    "We now try to use the 'gb' classifier to generate features that will be relevant inputs for the logistic regression.\n",
    "To do so, we generate a transformation 'leafs_train' of the training set 'Xtrain_oh[:, cols_to_keep]' for which the nth column corresponds to the number of the leaf returned by the estimator n."
   ]
  },
  {
   "cell_type": "code",
   "execution_count": 65,
   "metadata": {
    "colab": {
     "base_uri": "https://localhost:8080/",
     "height": 850
    },
    "colab_type": "code",
    "id": "IBialwxXXjFr",
    "outputId": "aeeb1934-2642-4674-fa20-2e678dc4bb65"
   },
   "outputs": [
    {
     "data": {
      "text/plain": [
       "array([[[ 3.],\n",
       "        [ 3.],\n",
       "        [ 3.],\n",
       "        ...,\n",
       "        [ 3.],\n",
       "        [ 3.],\n",
       "        [ 3.]],\n",
       "\n",
       "       [[ 3.],\n",
       "        [ 3.],\n",
       "        [ 3.],\n",
       "        ...,\n",
       "        [ 3.],\n",
       "        [ 3.],\n",
       "        [ 3.]],\n",
       "\n",
       "       [[ 3.],\n",
       "        [ 3.],\n",
       "        [ 3.],\n",
       "        ...,\n",
       "        [ 3.],\n",
       "        [ 3.],\n",
       "        [ 3.]],\n",
       "\n",
       "       ...,\n",
       "\n",
       "       [[ 3.],\n",
       "        [ 3.],\n",
       "        [ 3.],\n",
       "        ...,\n",
       "        [ 3.],\n",
       "        [ 3.],\n",
       "        [ 3.]],\n",
       "\n",
       "       [[ 3.],\n",
       "        [ 3.],\n",
       "        [ 3.],\n",
       "        ...,\n",
       "        [ 3.],\n",
       "        [ 3.],\n",
       "        [ 3.]],\n",
       "\n",
       "       [[ 3.],\n",
       "        [13.],\n",
       "        [ 3.],\n",
       "        ...,\n",
       "        [ 3.],\n",
       "        [ 3.],\n",
       "        [ 3.]]])"
      ]
     },
     "execution_count": 65,
     "metadata": {},
     "output_type": "execute_result"
    }
   ],
   "source": [
    "gb.apply(Xtrain_oh[:, cols_to_keep])\n",
    "# shape : (900000, 50, 1)\n",
    "# type : ndarray\n",
    "# Apply trees in the ensemble to X, return leaf indices."
   ]
  },
  {
   "cell_type": "code",
   "execution_count": 66,
   "metadata": {},
   "outputs": [
    {
     "name": "stdout",
     "output_type": "stream",
     "text": [
      "(900000, 50, 1)\n"
     ]
    }
   ],
   "source": [
    "leafs_train = gb.apply(Xtrain_oh[:, cols_to_keep])\n",
    "leafs_test = gb.apply(Xtest_oh[:, cols_to_keep])\n",
    "print(leafs_train.shape)"
   ]
  },
  {
   "cell_type": "code",
   "execution_count": 67,
   "metadata": {
    "colab": {
     "base_uri": "https://localhost:8080/",
     "height": 34
    },
    "colab_type": "code",
    "id": "kDaah33bXjFt",
    "outputId": "764a63b9-f447-4d49-fbed-40d5014bf474"
   },
   "outputs": [
    {
     "name": "stdout",
     "output_type": "stream",
     "text": [
      "(900000, 50) (100000, 50)\n"
     ]
    }
   ],
   "source": [
    "leafs_train = pd.DataFrame(np.reshape(leafs_train, (leafs_train.shape[0], leafs_train.shape[1]))) \n",
    "leafs_test = pd.DataFrame(np.reshape(leafs_test, (leafs_test.shape[0], leafs_test.shape[1])))\n",
    "print(leafs_train.shape, leafs_test.shape)"
   ]
  },
  {
   "cell_type": "markdown",
   "metadata": {
    "colab_type": "text",
    "id": "IgHnM8GTXjFz"
   },
   "source": [
    "We can then encode these new features into dummies.\n",
    "</font>"
   ]
  },
  {
   "cell_type": "code",
   "execution_count": 68,
   "metadata": {
    "colab": {},
    "colab_type": "code",
    "id": "RhKKqDsgXjF0"
   },
   "outputs": [],
   "source": [
    "ohe = OneHotEncoder(sparse= False, categories='auto')\n",
    "leafs_train_oh = ohe.fit_transform(leafs_train)\n",
    "leafs_test_oh =  ohe.transform(leafs_test)"
   ]
  },
  {
   "cell_type": "code",
   "execution_count": 69,
   "metadata": {
    "colab": {
     "base_uri": "https://localhost:8080/",
     "height": 34
    },
    "colab_type": "code",
    "id": "PS8_KY6nXjF0",
    "outputId": "673adfa4-b5a3-4bb0-9205-bad2ce3aa440"
   },
   "outputs": [
    {
     "name": "stdout",
     "output_type": "stream",
     "text": [
      "(900000, 396) (100000, 396)\n"
     ]
    }
   ],
   "source": [
    "print(leafs_train_oh.shape, leafs_test_oh.shape)"
   ]
  },
  {
   "cell_type": "markdown",
   "metadata": {
    "colab_type": "text",
    "id": "xQ0zbJ06XjF3"
   },
   "source": [
    "Then, with the \"hstack\" function, we create a new matrix of features by concatenating horizontally our new features \"leafs_train_oh\" and \"leafs_test_oh\", and previous features used for logistic regression (e.g. in \"Xtrain_oh[:, cols_to_keep]\")."
   ]
  },
  {
   "cell_type": "code",
   "execution_count": 70,
   "metadata": {
    "colab": {
     "base_uri": "https://localhost:8080/",
     "height": 34
    },
    "colab_type": "code",
    "id": "OQR_j_I5XjF4",
    "outputId": "6a242bd0-ea9f-43bf-acba-5d457ae32c6c"
   },
   "outputs": [
    {
     "name": "stdout",
     "output_type": "stream",
     "text": [
      "(900000, 2367) (100000, 2367)\n"
     ]
    }
   ],
   "source": [
    "from scipy.sparse import csr_matrix, hstack\n",
    "\n",
    "Xtrain_concat = hstack([leafs_train_oh, Xtrain_oh[:, cols_to_keep]]) # Fill here\n",
    "Xtest_concat =  hstack([leafs_test_oh, Xtest_oh[:, cols_to_keep]])\n",
    "print(Xtrain_concat.shape, Xtest_concat.shape)"
   ]
  },
  {
   "cell_type": "code",
   "execution_count": 71,
   "metadata": {},
   "outputs": [
    {
     "name": "stdout",
     "output_type": "stream",
     "text": [
      "<class 'scipy.sparse.coo.coo_matrix'>\n"
     ]
    }
   ],
   "source": [
    "print(type(Xtrain_concat))"
   ]
  },
  {
   "cell_type": "markdown",
   "metadata": {
    "colab_type": "text",
    "id": "vOWh8VSbXjF6"
   },
   "source": [
    "Then we run a logistic regression on the new features and evaluate its performance as before.\n",
    "</font>"
   ]
  },
  {
   "cell_type": "code",
   "execution_count": 72,
   "metadata": {
    "colab": {
     "base_uri": "https://localhost:8080/",
     "height": 464
    },
    "colab_type": "code",
    "id": "Df4sXR0YXjF6",
    "outputId": "3847f5b9-c9a4-4688-94d5-be18446c1cb9"
   },
   "outputs": [],
   "source": [
    "lgt = LogisticRegression()\n",
    "lgt.fit(Xtrain_concat, ytrain)\n",
    "soft = lgt.predict_proba(Xtest_concat)\n",
    "hard = lgt.predict(Xtest_concat)"
   ]
  },
  {
   "cell_type": "code",
   "execution_count": 73,
   "metadata": {},
   "outputs": [
    {
     "data": {
      "image/png": "[encoded data removed]",
      "text/plain": [
       "<Figure size 504x360 with 1 Axes>"
      ]
     },
     "metadata": {},
     "output_type": "display_data"
    }
   ],
   "source": [
    "preds = soft[:,1]\n",
    "fpr, tpr, threshold = roc_curve(ytest, preds)\n",
    "roc_auc = auc(fpr, tpr)\n",
    "\n",
    "plt.figure(1, figsize = (7, 5))\n",
    "plt.title('Roc Curve')\n",
    "plt.plot(fpr, tpr, label = 'AUC = %0.3f' % roc_auc)\n",
    "plt.plot([0, 1], [0, 1],'r--')\n",
    "plt.ylabel('True Positive Rate')\n",
    "plt.xlabel('False Positive Rate')\n",
    "plt.legend()\n",
    "plt.show()"
   ]
  },
  {
   "cell_type": "code",
   "execution_count": 74,
   "metadata": {},
   "outputs": [
    {
     "name": "stdout",
     "output_type": "stream",
     "text": [
      "The accuracy of the model is: 0.83409\n",
      "The log loss is equal to : 0.39993\n",
      "The Area Under the Curve ROC is equal to: 0.74177\n"
     ]
    }
   ],
   "source": [
    "print(f'The accuracy of the model is: {np.round(accuracy_score(ytest, hard), 5)}')\n",
    "print(f'The log loss is equal to : {np.round(log_loss(ytest, soft), 5)}')\n",
    "print(f'The Area Under the Curve ROC is equal to: {np.round(roc_auc_score(ytest, soft[:,1]), 5)}')"
   ]
  },
  {
   "cell_type": "code",
   "execution_count": 75,
   "metadata": {},
   "outputs": [],
   "source": [
    "df_compare['Accuracy']['Logit Xtrain with leafs'] = np.round(accuracy_score(ytest, hard), 5)\n",
    "df_compare['Log Loss']['Logit Xtrain with leafs'] = np.round(log_loss(ytest, soft), 5)\n",
    "df_compare['ROC AUC']['Logit Xtrain with leafs'] = np.round(roc_auc_score(ytest, soft[:,1]), 5)"
   ]
  },
  {
   "cell_type": "markdown",
   "metadata": {
    "colab_type": "text",
    "id": "hw2evM9pXjF9"
   },
   "source": [
    "Let us now try a more sophisticated classifier (XGBoost):"
   ]
  },
  {
   "cell_type": "code",
   "execution_count": 76,
   "metadata": {
    "colab": {
     "base_uri": "https://localhost:8080/",
     "height": 51
    },
    "colab_type": "code",
    "id": "cJdnT1cOXjF9",
    "outputId": "60a9fd6c-241f-40e4-faef-465af86a7f25"
   },
   "outputs": [
    {
     "name": "stdout",
     "output_type": "stream",
     "text": [
      "CPU times: user 2min 21s, sys: 6.47 s, total: 2min 28s\n",
      "Wall time: 35.6 s\n"
     ]
    }
   ],
   "source": [
    "from xgboost import XGBClassifier\n",
    "xgb = XGBClassifier(n_estimators= 50, learning_rate= 0.8, verbose= True, n_jobs= -1)\n",
    "%time xgb.fit(Xtrain_concat, ytrain)\n",
    "soft = xgb.predict_proba(Xtest_concat)\n",
    "hard = xgb.predict(Xtest_concat)\n",
    "# 6 / 28.5 wall time\n",
    "# 3, 5 / 28.3\n",
    "# 1 : 36"
   ]
  },
  {
   "cell_type": "code",
   "execution_count": 77,
   "metadata": {
    "colab": {
     "base_uri": "https://localhost:8080/",
     "height": 410
    },
    "colab_type": "code",
    "id": "ZmVtio0AGv9w",
    "outputId": "4ae2d523-2195-4312-f2d2-7fd7fc3b04fa"
   },
   "outputs": [
    {
     "data": {
      "image/png": "[encoded data removed]",
      "text/plain": [
       "<Figure size 504x360 with 1 Axes>"
      ]
     },
     "metadata": {},
     "output_type": "display_data"
    }
   ],
   "source": [
    "preds = soft[:,1]\n",
    "fpr, tpr, threshold = roc_curve(ytest, preds)\n",
    "roc_auc = auc(fpr, tpr)\n",
    "\n",
    "plt.figure(1, figsize = (7, 5))\n",
    "plt.title('Roc Curve')\n",
    "plt.plot(fpr, tpr, label = 'AUC = %0.3f' % roc_auc)\n",
    "plt.plot([0, 1], [0, 1],'r--')\n",
    "plt.ylabel('True Positive Rate')\n",
    "plt.xlabel('False Positive Rate')\n",
    "plt.legend()\n",
    "plt.show()"
   ]
  },
  {
   "cell_type": "code",
   "execution_count": 78,
   "metadata": {},
   "outputs": [
    {
     "name": "stdout",
     "output_type": "stream",
     "text": [
      "The accuracy of the model is: 0.83348\n",
      "The log loss is equal to : 0.40623\n",
      "The Area Under the Curve ROC is equal to: 0.72903\n"
     ]
    }
   ],
   "source": [
    "print(f'The accuracy of the model is: {np.round(accuracy_score(ytest, hard), 5)}')\n",
    "print(f'The log loss is equal to : {np.round(log_loss(ytest, soft), 5)}')\n",
    "print(f'The Area Under the Curve ROC is equal to: {np.round(roc_auc_score(ytest, soft[:,1]), 5)}')"
   ]
  },
  {
   "cell_type": "code",
   "execution_count": 79,
   "metadata": {},
   "outputs": [],
   "source": [
    "df_compare['Accuracy']['XGBoost Xtrain with leafs'] = np.round(accuracy_score(ytest, hard), 5)\n",
    "df_compare['Log Loss']['XGBoost Xtrain with leafs'] = np.round(log_loss(ytest, soft), 5)\n",
    "df_compare['ROC AUC']['XGBoost Xtrain with leafs'] = np.round(roc_auc_score(ytest, soft[:,1]), 5)"
   ]
  },
  {
   "cell_type": "markdown",
   "metadata": {
    "colab_type": "text",
    "id": "vsZJdxgDXjF_"
   },
   "source": [
    "Now let's try some fine tuning, by adapting the number of estimators and the learning rate:"
   ]
  },
  {
   "cell_type": "markdown",
   "metadata": {},
   "source": [
    "> With learning rate = 0.8\n",
    "- The accuracy of the model is: 0.833\n",
    "- The log loss is equal to : 0.406\n",
    "- The ROC AUC score: 0.73\n",
    "\n",
    "> With learning_rate = 0.01\n",
    "- The accuracy of the model is: 0.831\n",
    "- The log loss is equal to : 0.417\n",
    "- The ROC AUC score: 0.707\n",
    "\n",
    "> With learning_rate = 0.001\n",
    "- The accuracy of the model is: 0.83\n",
    "- The log loss is equal to : 0.477\n",
    "- The ROC AUC score: 0.668\n",
    "\n",
    "> With learning_rate = 0.06\n",
    "- The accuracy of the model is: 0.83404\n",
    "- The log loss is equal to : 0.39824\n",
    "- The Area Under the Curve ROC is equal to: 0.74495\n"
   ]
  },
  {
   "cell_type": "markdown",
   "metadata": {},
   "source": [
    "We notice that we have the best score with a learning rate of 0.6."
   ]
  },
  {
   "cell_type": "code",
   "execution_count": 80,
   "metadata": {
    "colab": {
     "base_uri": "https://localhost:8080/",
     "height": 51
    },
    "colab_type": "code",
    "id": "Ug3Vq1PmXjF_",
    "outputId": "4fb8621d-9710-4e58-c0c2-f1eac66574ad"
   },
   "outputs": [
    {
     "name": "stdout",
     "output_type": "stream",
     "text": [
      "CPU times: user 41min 11s, sys: 1min 43s, total: 42min 54s\n",
      "Wall time: 5min 39s\n"
     ]
    },
    {
     "data": {
      "text/plain": [
       "XGBClassifier(base_score=0.5, booster='gbtree', colsample_bylevel=1,\n",
       "       colsample_bytree=1, gamma=0, learning_rate=0.6, max_delta_step=0,\n",
       "       max_depth=3, min_child_weight=1, missing=None, n_estimators=1024,\n",
       "       n_jobs=-1, nthread=None, objective='binary:logistic',\n",
       "       random_state=0, reg_alpha=0, reg_lambda=1, scale_pos_weight=1,\n",
       "       seed=None, silent=True, subsample=1)"
      ]
     },
     "execution_count": 80,
     "metadata": {},
     "output_type": "execute_result"
    }
   ],
   "source": [
    "xgb = XGBClassifier(n_estimators= 1024, learning_rate= 0.6, n_jobs= -1)\n",
    "%time xgb.fit(Xtrain_concat, ytrain)"
   ]
  },
  {
   "cell_type": "code",
   "execution_count": 81,
   "metadata": {},
   "outputs": [],
   "source": [
    "soft = xgb.predict_proba(Xtest_concat)\n",
    "hard = xgb.predict(Xtest_concat)"
   ]
  },
  {
   "cell_type": "code",
   "execution_count": 82,
   "metadata": {},
   "outputs": [
    {
     "name": "stdout",
     "output_type": "stream",
     "text": [
      "The accuracy of the model is: 0.83406\n",
      "The log loss is equal to : 0.39857\n",
      "The Area Under the Curve ROC is equal to: 0.7444\n"
     ]
    }
   ],
   "source": [
    "print(f'The accuracy of the model is: {np.round(accuracy_score(ytest, hard), 5)}')\n",
    "print(f'The log loss is equal to : {np.round(log_loss(ytest, soft), 5)}')\n",
    "print(f'The Area Under the Curve ROC is equal to: {np.round(roc_auc_score(ytest, soft[:,1]), 5)}')"
   ]
  },
  {
   "cell_type": "code",
   "execution_count": 83,
   "metadata": {},
   "outputs": [],
   "source": [
    "df_compare['Accuracy']['XGBoost Xtrain with leafs 1024'] = np.round(accuracy_score(ytest, hard), 5)\n",
    "df_compare['Log Loss']['XGBoost Xtrain with leafs 1024'] = np.round(log_loss(ytest, soft), 5)\n",
    "df_compare['ROC AUC']['XGBoost Xtrain with leafs 1024'] = np.round(roc_auc_score(ytest, soft[:,1]), 5)"
   ]
  },
  {
   "cell_type": "markdown",
   "metadata": {
    "colab_type": "raw",
    "id": "37gXUBdjXjGA"
   },
   "source": [
    "Adding more estimators means that there are more trees added to the model. There is an inverse relationship between n_estimators and the learning_rate to avoid overfitting. "
   ]
  },
  {
   "cell_type": "markdown",
   "metadata": {
    "colab_type": "text",
    "id": "Yxlw77OpXjGB"
   },
   "source": [
    "# Features hashing and random forest"
   ]
  },
  {
   "cell_type": "markdown",
   "metadata": {
    "colab_type": "text",
    "id": "QidEIj4oXjGB"
   },
   "source": [
    "We restart with raw features before dummy encoding: Xtrain, Xtest."
   ]
  },
  {
   "cell_type": "code",
   "execution_count": 84,
   "metadata": {
    "colab": {
     "base_uri": "https://localhost:8080/",
     "height": 34
    },
    "colab_type": "code",
    "id": "oxhLBcqPXjGC",
    "outputId": "033d09bb-56aa-47aa-81eb-2e3f9fd5f33b"
   },
   "outputs": [
    {
     "name": "stdout",
     "output_type": "stream",
     "text": [
      "(900000, 21) (100000, 21)\n"
     ]
    }
   ],
   "source": [
    "print(Xtrain.shape, Xtest.shape)"
   ]
  },
  {
   "cell_type": "markdown",
   "metadata": {
    "colab_type": "text",
    "id": "qnRGWbGhXjGE"
   },
   "source": [
    "We want to define a transformation which regroups the least frequent modalities into a label 'isRare'. In order to do so, we decide to define our own Transformer."
   ]
  },
  {
   "cell_type": "code",
   "execution_count": 85,
   "metadata": {
    "colab": {},
    "colab_type": "code",
    "id": "nSvT65DJXjGE"
   },
   "outputs": [],
   "source": [
    "from sklearn.base import BaseEstimator, TransformerMixin\n",
    "\n",
    "class MergeRareTransformer(BaseEstimator, TransformerMixin):\n",
    "    \n",
    "    def __init__(self, col_names, threshold):\n",
    "        self.col_names = col_names\n",
    "        self.threshold = threshold\n",
    "\n",
    "    def fit(self, X, y=None):\n",
    "\n",
    "        X = pd.DataFrame(X)\n",
    "        counts_dict_list = []\n",
    "        ################## READ THIS #########################\n",
    "        for i in range(len(self.col_names)):\n",
    "            \n",
    "            serie = X[self.col_names[i]].value_counts()  # Série des counts de chaque modalité\n",
    "            rare_indexes = serie[serie<self.threshold[i]].index  # A quoi correspondent ces indices ?\n",
    "            frequent_indexes = serie[serie>=self.threshold[i]].index  # A quoi correspondent ces indices ?\n",
    "            dico = {x:'isRare' for x in rare_indexes}\n",
    "            dico.update({x: str(x) for x in frequent_indexes})\n",
    "            counts_dict_list.append(dico)   # Quel est le dictionnaire obtenu ?\n",
    "            \n",
    "        ######################################################\n",
    "            \n",
    "        self.counts_dict_list_ = counts_dict_list\n",
    "        return self\n",
    " \n",
    "    def transform(self, X):\n",
    "\n",
    "        Xt = pd.DataFrame()\n",
    "        ################## READ THIS #########################\n",
    "        for col, count_dict in zip(self.col_names, self.counts_dict_list_):\n",
    "            Xt[col] = X[col].apply(lambda x:count_dict[x] if x in count_dict else 'isRare')\n",
    "            # A quoi sert le \"else 'isRare'\" dans la transformation de la colonne ?\n",
    "        ######################################################\n",
    "\n",
    "        return Xt\n"
   ]
  },
  {
   "cell_type": "markdown",
   "metadata": {
    "colab_type": "raw",
    "id": "zErVXSgpXjGF"
   },
   "source": [
    "* `rare_indexes` returns the indexes for modalities which counts are lower than a given threshold. These observations are labeled as rare.\n",
    "\n",
    "* `frequent_indexes` returns the indexes for modalities which counts are higher or equal to a given threshold. Theses observations are labeled as frequent.\n",
    "\n",
    "* The dictionnary `counts_dict_list` is a dictionnary with indexes as keys and values are either \"isRare\"  if it is in `rare_indexes` or the value is the index if it is in `frequent_indexes`. \n",
    "\n",
    "* In the `transform`, it creates Xt, which is a pandas DataFrame. This function transforms the initial design matrix X such that for each row, if it's not in `zip(self.col_names, self.counts_dict_list_)` then it is labelled as `isRare`, else the initial row from X is copied. "
   ]
  },
  {
   "cell_type": "markdown",
   "metadata": {
    "colab_type": "text",
    "id": "KjGIjJx5XjGH"
   },
   "source": [
    "Now we can fit and transform the training set. To do so, we merge all modalities occuring at least 20 times in each column.Then we transform the test set.\n",
    "</font>"
   ]
  },
  {
   "cell_type": "code",
   "execution_count": 86,
   "metadata": {
    "colab": {
     "base_uri": "https://localhost:8080/",
     "height": 34
    },
    "colab_type": "code",
    "id": "GSadnYC8XjGH",
    "outputId": "f96e73ad-20a5-4d1d-e6f5-e9571908d4a7"
   },
   "outputs": [
    {
     "name": "stdout",
     "output_type": "stream",
     "text": [
      "(900000, 21) (100000, 21)\n"
     ]
    }
   ],
   "source": [
    "mg = MergeRareTransformer(col_names=Xtrain.columns, threshold=[20]*len(Xtrain.columns))\n",
    "Xtrain_mg = mg.fit_transform(Xtrain)\n",
    "Xtest_mg = mg.transform(Xtest)\n",
    "print(Xtrain_mg.shape, Xtest_mg.shape)"
   ]
  },
  {
   "cell_type": "markdown",
   "metadata": {
    "colab_type": "text",
    "id": "hsYrJSihXjGI"
   },
   "source": [
    "Let us see how many elements of the column Xtrain_mg['app_domain'] are now labeled as 'rare':"
   ]
  },
  {
   "cell_type": "code",
   "execution_count": 87,
   "metadata": {
    "colab": {
     "base_uri": "https://localhost:8080/",
     "height": 952
    },
    "colab_type": "code",
    "id": "pLsqR7CAtjbZ",
    "outputId": "1272dc3f-f919-4c5f-dfd1-f99af33c745d"
   },
   "outputs": [
    {
     "name": "stdout",
     "output_type": "stream",
     "text": [
      "app_domain  id    \n",
      "0654b444    isRare       514\n",
      "0d79ee56    isRare        53\n",
      "0e8616ad    isRare     14784\n",
      "15c23f8e    isRare        25\n",
      "15ec7f39    isRare       275\n",
      "18eb4e75    isRare        56\n",
      "1ea19ec4    isRare        72\n",
      "1ed56ded    isRare        27\n",
      "2347f47a    isRare    116467\n",
      "27ee373d    isRare        36\n",
      "2b627705    isRare        89\n",
      "33da2e74    isRare      5911\n",
      "3feeed1e    isRare        26\n",
      "43cf4f06    isRare       149\n",
      "448ca2e3    isRare       167\n",
      "45a51db4    isRare      1219\n",
      "47464e95    isRare        99\n",
      "5ac0b939    isRare        28\n",
      "5b9c592b    isRare      2448\n",
      "5c5a694b    isRare     25289\n",
      "5c620f04    isRare      1419\n",
      "63f57be0    isRare        25\n",
      "6a0a3a9d    isRare        59\n",
      "6f7ca2ba    isRare      4990\n",
      "7801e8d9    isRare    606390\n",
      "7a9371fa    isRare        21\n",
      "7eec2ab0    isRare        24\n",
      "813f3323    isRare       544\n",
      "828da833    isRare       185\n",
      "82e27996    isRare     16869\n",
      "885c7f3f    isRare      1468\n",
      "99b4c806    isRare       219\n",
      "9ec164d3    isRare        51\n",
      "a8b0bf20    isRare       266\n",
      "ad63ec9b    isRare       388\n",
      "ae637522    isRare     41928\n",
      "aefc06bd    isRare      6644\n",
      "afdf1f54    isRare        20\n",
      "b12ff13e    isRare        42\n",
      "b408d42a    isRare        30\n",
      "b5f3b24a    isRare      1093\n",
      "b8d325c3    isRare     11953\n",
      "b9528b13    isRare     14284\n",
      "bb6bcbae    isRare        27\n",
      "c6824def    isRare       306\n",
      "d6feb1a4    isRare        95\n",
      "d9b5648e    isRare     15709\n",
      "db829551    isRare        69\n",
      "dcdba109    isRare        20\n",
      "df32afa9    isRare      6412\n",
      "e5d5313f    isRare        46\n",
      "f2f777fb    isRare       157\n",
      "isRare      isRare       513\n",
      "Name: id, dtype: int64\n"
     ]
    }
   ],
   "source": [
    "print(Xtrain_mg.groupby(['app_domain'])['id'].value_counts())"
   ]
  },
  {
   "cell_type": "code",
   "execution_count": 88,
   "metadata": {},
   "outputs": [
    {
     "name": "stdout",
     "output_type": "stream",
     "text": [
      "The \"app_domain column\" has 513 labelled observations as \"isRare\".\n"
     ]
    }
   ],
   "source": [
    "isRare = Xtrain_mg.query(\"app_domain == 'isRare'\")['app_domain'].count()\n",
    "print(f'The \"app_domain column\" has {isRare} labelled observations as \"isRare\".')"
   ]
  },
  {
   "cell_type": "markdown",
   "metadata": {
    "colab_type": "text",
    "id": "zWOmhiZqXjGL"
   },
   "source": [
    "In the new train set, the number of modalities for each feature is as follows:"
   ]
  },
  {
   "cell_type": "code",
   "execution_count": 89,
   "metadata": {
    "colab": {
     "base_uri": "https://localhost:8080/",
     "height": 374
    },
    "colab_type": "code",
    "id": "CIAiJs6yXjGL",
    "outputId": "9d10bef9-1977-4cc0-c674-7cbb4176d028"
   },
   "outputs": [
    {
     "name": "stdout",
     "output_type": "stream",
     "text": [
      "id 1\n",
      "hour 24\n",
      "C1 7\n",
      "banner_pos 7\n",
      "site_category 18\n",
      "app_id 613\n",
      "app_domain 53\n",
      "app_category 19\n",
      "device_type 5\n",
      "device_conn_type 4\n",
      "C14 1339\n",
      "C15 8\n",
      "C16 9\n",
      "C17 381\n",
      "C18 4\n",
      "C19 63\n",
      "C20 148\n",
      "C21 60\n",
      "weekday 7\n",
      "user 901\n",
      "site 889\n"
     ]
    }
   ],
   "source": [
    "tmp = Xtrain_mg.columns.values\n",
    "tmp2 = []\n",
    "for var in tmp:\n",
    "    print(var, Xtrain_mg[var].nunique())\n",
    "    tmp2.append(Xtrain_mg[var].nunique())"
   ]
  },
  {
   "cell_type": "markdown",
   "metadata": {
    "colab_type": "text",
    "id": "i3MHExhOXjGM"
   },
   "source": [
    "Modalities are arbitrary object, such as '234', 'isRare', etc. We will now transorm them into integers with the hashing trick. To better understand how the 'hash' function is working, we apply it to some string."
   ]
  },
  {
   "cell_type": "code",
   "execution_count": 90,
   "metadata": {
    "colab": {
     "base_uri": "https://localhost:8080/",
     "height": 34
    },
    "colab_type": "code",
    "id": "-721ghiSXjGM",
    "outputId": "e6896f7b-2c40-4644-84ef-369ddc0eb49f"
   },
   "outputs": [
    {
     "data": {
      "text/plain": [
       "2719253290376222919"
      ]
     },
     "execution_count": 90,
     "metadata": {},
     "output_type": "execute_result"
    }
   ],
   "source": [
    "import hashlib\n",
    "hash('hashlib') # Fill here"
   ]
  },
  {
   "cell_type": "markdown",
   "metadata": {
    "colab_type": "text",
    "id": "WEEVvjTWjssd"
   },
   "source": [
    "The hashlib function has as an input a string and returns a fixed lenghth sequence of numbers. "
   ]
  },
  {
   "cell_type": "markdown",
   "metadata": {
    "colab_type": "text",
    "id": "JVTLSg4AXjGN"
   },
   "source": [
    "We can thus create two new datasets 'Xtrain_ha' and 'Xtest_ha' containing the output of the hashing process. We use the '.apply' method to transform iteratively the columns by mapping to each value its remainder in the euclidean division of the hash by 1000000. \n",
    "   Example:\n",
    "</font>\n",
    "</font>\n",
    "<p>\n",
    "<center>\n",
    "2060777048690<font color=\"red\">918393</font>  -->  918393\n",
    "</center>"
   ]
  },
  {
   "cell_type": "code",
   "execution_count": 91,
   "metadata": {
    "colab": {},
    "colab_type": "code",
    "id": "udJKcULUXjGO"
   },
   "outputs": [],
   "source": [
    "Xtrain_ha = pd.DataFrame()\n",
    "Xtest_ha = pd.DataFrame()\n",
    "for col in Xtrain_mg.columns:\n",
    "    Xtrain_ha[col] = Xtrain_mg[col].apply(lambda x: hash(x)%1000000)  \n",
    "    Xtest_ha[col] = Xtest_mg[col].apply(lambda x: hash(x)%1000000)"
   ]
  },
  {
   "cell_type": "code",
   "execution_count": 92,
   "metadata": {
    "colab": {
     "base_uri": "https://localhost:8080/",
     "height": 503
    },
    "colab_type": "code",
    "id": "6uyc6F2kXjGP",
    "outputId": "cea57cc1-accf-4721-98be-91a5e6f71090"
   },
   "outputs": [
    {
     "data": {
      "text/plain": [
       "'Xtrain_ha'"
      ]
     },
     "metadata": {},
     "output_type": "display_data"
    },
    {
     "data": {
      "text/html": [
       "<div>\n",
       "<style scoped>\n",
       "    .dataframe tbody tr th:only-of-type {\n",
       "        vertical-align: middle;\n",
       "    }\n",
       "\n",
       "    .dataframe tbody tr th {\n",
       "        vertical-align: top;\n",
       "    }\n",
       "\n",
       "    .dataframe thead th {\n",
       "        text-align: right;\n",
       "    }\n",
       "</style>\n",
       "<table border=\"1\" class=\"dataframe\">\n",
       "  <thead>\n",
       "    <tr style=\"text-align: right;\">\n",
       "      <th></th>\n",
       "      <th>id</th>\n",
       "      <th>hour</th>\n",
       "      <th>C1</th>\n",
       "      <th>banner_pos</th>\n",
       "      <th>site_category</th>\n",
       "      <th>app_id</th>\n",
       "      <th>app_domain</th>\n",
       "      <th>app_category</th>\n",
       "      <th>device_type</th>\n",
       "      <th>device_conn_type</th>\n",
       "      <th>C14</th>\n",
       "      <th>C15</th>\n",
       "      <th>C16</th>\n",
       "      <th>C17</th>\n",
       "      <th>C18</th>\n",
       "      <th>C19</th>\n",
       "      <th>C20</th>\n",
       "      <th>C21</th>\n",
       "      <th>weekday</th>\n",
       "      <th>user</th>\n",
       "      <th>site</th>\n",
       "    </tr>\n",
       "  </thead>\n",
       "  <tbody>\n",
       "    <tr>\n",
       "      <th>92438</th>\n",
       "      <td>651001</td>\n",
       "      <td>356800</td>\n",
       "      <td>722883</td>\n",
       "      <td>308882</td>\n",
       "      <td>67389</td>\n",
       "      <td>708206</td>\n",
       "      <td>152519</td>\n",
       "      <td>676104</td>\n",
       "      <td>728304</td>\n",
       "      <td>661989</td>\n",
       "      <td>496096</td>\n",
       "      <td>667711</td>\n",
       "      <td>597520</td>\n",
       "      <td>171462</td>\n",
       "      <td>772298</td>\n",
       "      <td>876307</td>\n",
       "      <td>133483</td>\n",
       "      <td>228935</td>\n",
       "      <td>772298</td>\n",
       "      <td>651001</td>\n",
       "      <td>991351</td>\n",
       "    </tr>\n",
       "    <tr>\n",
       "      <th>60898</th>\n",
       "      <td>651001</td>\n",
       "      <td>132498</td>\n",
       "      <td>758049</td>\n",
       "      <td>772298</td>\n",
       "      <td>67389</td>\n",
       "      <td>184509</td>\n",
       "      <td>222881</td>\n",
       "      <td>714039</td>\n",
       "      <td>308882</td>\n",
       "      <td>595783</td>\n",
       "      <td>496096</td>\n",
       "      <td>667711</td>\n",
       "      <td>597520</td>\n",
       "      <td>171462</td>\n",
       "      <td>772298</td>\n",
       "      <td>876307</td>\n",
       "      <td>133483</td>\n",
       "      <td>228935</td>\n",
       "      <td>308882</td>\n",
       "      <td>651001</td>\n",
       "      <td>991351</td>\n",
       "    </tr>\n",
       "    <tr>\n",
       "      <th>556199</th>\n",
       "      <td>651001</td>\n",
       "      <td>728304</td>\n",
       "      <td>758049</td>\n",
       "      <td>772298</td>\n",
       "      <td>693137</td>\n",
       "      <td>663626</td>\n",
       "      <td>152519</td>\n",
       "      <td>482402</td>\n",
       "      <td>308882</td>\n",
       "      <td>595783</td>\n",
       "      <td>932631</td>\n",
       "      <td>667711</td>\n",
       "      <td>597520</td>\n",
       "      <td>401646</td>\n",
       "      <td>772298</td>\n",
       "      <td>68222</td>\n",
       "      <td>133483</td>\n",
       "      <td>32359</td>\n",
       "      <td>772298</td>\n",
       "      <td>651001</td>\n",
       "      <td>443385</td>\n",
       "    </tr>\n",
       "    <tr>\n",
       "      <th>193129</th>\n",
       "      <td>651001</td>\n",
       "      <td>174384</td>\n",
       "      <td>758049</td>\n",
       "      <td>308882</td>\n",
       "      <td>693137</td>\n",
       "      <td>663626</td>\n",
       "      <td>152519</td>\n",
       "      <td>482402</td>\n",
       "      <td>308882</td>\n",
       "      <td>772298</td>\n",
       "      <td>60330</td>\n",
       "      <td>667711</td>\n",
       "      <td>597520</td>\n",
       "      <td>296341</td>\n",
       "      <td>772298</td>\n",
       "      <td>200130</td>\n",
       "      <td>58156</td>\n",
       "      <td>78702</td>\n",
       "      <td>308882</td>\n",
       "      <td>651001</td>\n",
       "      <td>206459</td>\n",
       "    </tr>\n",
       "    <tr>\n",
       "      <th>231985</th>\n",
       "      <td>651001</td>\n",
       "      <td>145351</td>\n",
       "      <td>758049</td>\n",
       "      <td>772298</td>\n",
       "      <td>284485</td>\n",
       "      <td>663626</td>\n",
       "      <td>152519</td>\n",
       "      <td>482402</td>\n",
       "      <td>308882</td>\n",
       "      <td>772298</td>\n",
       "      <td>343520</td>\n",
       "      <td>667711</td>\n",
       "      <td>597520</td>\n",
       "      <td>171462</td>\n",
       "      <td>772298</td>\n",
       "      <td>876307</td>\n",
       "      <td>835254</td>\n",
       "      <td>228935</td>\n",
       "      <td>207933</td>\n",
       "      <td>651001</td>\n",
       "      <td>117175</td>\n",
       "    </tr>\n",
       "  </tbody>\n",
       "</table>\n",
       "</div>"
      ],
      "text/plain": [
       "            id    hour      C1  banner_pos  site_category  app_id  app_domain  \\\n",
       "92438   651001  356800  722883      308882          67389  708206      152519   \n",
       "60898   651001  132498  758049      772298          67389  184509      222881   \n",
       "556199  651001  728304  758049      772298         693137  663626      152519   \n",
       "193129  651001  174384  758049      308882         693137  663626      152519   \n",
       "231985  651001  145351  758049      772298         284485  663626      152519   \n",
       "\n",
       "        app_category  device_type  device_conn_type     C14     C15     C16  \\\n",
       "92438         676104       728304            661989  496096  667711  597520   \n",
       "60898         714039       308882            595783  496096  667711  597520   \n",
       "556199        482402       308882            595783  932631  667711  597520   \n",
       "193129        482402       308882            772298   60330  667711  597520   \n",
       "231985        482402       308882            772298  343520  667711  597520   \n",
       "\n",
       "           C17     C18     C19     C20     C21  weekday    user    site  \n",
       "92438   171462  772298  876307  133483  228935   772298  651001  991351  \n",
       "60898   171462  772298  876307  133483  228935   308882  651001  991351  \n",
       "556199  401646  772298   68222  133483   32359   772298  651001  443385  \n",
       "193129  296341  772298  200130   58156   78702   308882  651001  206459  \n",
       "231985  171462  772298  876307  835254  228935   207933  651001  117175  "
      ]
     },
     "metadata": {},
     "output_type": "display_data"
    },
    {
     "data": {
      "text/plain": [
       "'Xtest_ha'"
      ]
     },
     "metadata": {},
     "output_type": "display_data"
    },
    {
     "data": {
      "text/html": [
       "<div>\n",
       "<style scoped>\n",
       "    .dataframe tbody tr th:only-of-type {\n",
       "        vertical-align: middle;\n",
       "    }\n",
       "\n",
       "    .dataframe tbody tr th {\n",
       "        vertical-align: top;\n",
       "    }\n",
       "\n",
       "    .dataframe thead th {\n",
       "        text-align: right;\n",
       "    }\n",
       "</style>\n",
       "<table border=\"1\" class=\"dataframe\">\n",
       "  <thead>\n",
       "    <tr style=\"text-align: right;\">\n",
       "      <th></th>\n",
       "      <th>id</th>\n",
       "      <th>hour</th>\n",
       "      <th>C1</th>\n",
       "      <th>banner_pos</th>\n",
       "      <th>site_category</th>\n",
       "      <th>app_id</th>\n",
       "      <th>app_domain</th>\n",
       "      <th>app_category</th>\n",
       "      <th>device_type</th>\n",
       "      <th>device_conn_type</th>\n",
       "      <th>C14</th>\n",
       "      <th>C15</th>\n",
       "      <th>C16</th>\n",
       "      <th>C17</th>\n",
       "      <th>C18</th>\n",
       "      <th>C19</th>\n",
       "      <th>C20</th>\n",
       "      <th>C21</th>\n",
       "      <th>weekday</th>\n",
       "      <th>user</th>\n",
       "      <th>site</th>\n",
       "    </tr>\n",
       "  </thead>\n",
       "  <tbody>\n",
       "    <tr>\n",
       "      <th>617759</th>\n",
       "      <td>651001</td>\n",
       "      <td>207933</td>\n",
       "      <td>758049</td>\n",
       "      <td>308882</td>\n",
       "      <td>693137</td>\n",
       "      <td>663626</td>\n",
       "      <td>152519</td>\n",
       "      <td>482402</td>\n",
       "      <td>308882</td>\n",
       "      <td>772298</td>\n",
       "      <td>240805</td>\n",
       "      <td>667711</td>\n",
       "      <td>597520</td>\n",
       "      <td>795573</td>\n",
       "      <td>595783</td>\n",
       "      <td>901675</td>\n",
       "      <td>133483</td>\n",
       "      <td>818821</td>\n",
       "      <td>661989</td>\n",
       "      <td>651001</td>\n",
       "      <td>727727</td>\n",
       "    </tr>\n",
       "    <tr>\n",
       "      <th>693227</th>\n",
       "      <td>651001</td>\n",
       "      <td>356800</td>\n",
       "      <td>758049</td>\n",
       "      <td>772298</td>\n",
       "      <td>284485</td>\n",
       "      <td>663626</td>\n",
       "      <td>152519</td>\n",
       "      <td>482402</td>\n",
       "      <td>308882</td>\n",
       "      <td>772298</td>\n",
       "      <td>132631</td>\n",
       "      <td>667711</td>\n",
       "      <td>597520</td>\n",
       "      <td>195965</td>\n",
       "      <td>595783</td>\n",
       "      <td>603214</td>\n",
       "      <td>246131</td>\n",
       "      <td>748127</td>\n",
       "      <td>595783</td>\n",
       "      <td>651001</td>\n",
       "      <td>353872</td>\n",
       "    </tr>\n",
       "    <tr>\n",
       "      <th>906065</th>\n",
       "      <td>651001</td>\n",
       "      <td>927192</td>\n",
       "      <td>758049</td>\n",
       "      <td>308882</td>\n",
       "      <td>693137</td>\n",
       "      <td>663626</td>\n",
       "      <td>152519</td>\n",
       "      <td>482402</td>\n",
       "      <td>308882</td>\n",
       "      <td>772298</td>\n",
       "      <td>337718</td>\n",
       "      <td>667711</td>\n",
       "      <td>597520</td>\n",
       "      <td>903537</td>\n",
       "      <td>661989</td>\n",
       "      <td>876307</td>\n",
       "      <td>915223</td>\n",
       "      <td>145351</td>\n",
       "      <td>252995</td>\n",
       "      <td>651001</td>\n",
       "      <td>206459</td>\n",
       "    </tr>\n",
       "    <tr>\n",
       "      <th>828507</th>\n",
       "      <td>651001</td>\n",
       "      <td>207933</td>\n",
       "      <td>758049</td>\n",
       "      <td>772298</td>\n",
       "      <td>67389</td>\n",
       "      <td>596908</td>\n",
       "      <td>222881</td>\n",
       "      <td>676104</td>\n",
       "      <td>308882</td>\n",
       "      <td>772298</td>\n",
       "      <td>425277</td>\n",
       "      <td>667711</td>\n",
       "      <td>597520</td>\n",
       "      <td>472774</td>\n",
       "      <td>661989</td>\n",
       "      <td>664581</td>\n",
       "      <td>663082</td>\n",
       "      <td>560186</td>\n",
       "      <td>661989</td>\n",
       "      <td>651001</td>\n",
       "      <td>991351</td>\n",
       "    </tr>\n",
       "    <tr>\n",
       "      <th>869730</th>\n",
       "      <td>651001</td>\n",
       "      <td>356800</td>\n",
       "      <td>765578</td>\n",
       "      <td>772298</td>\n",
       "      <td>67389</td>\n",
       "      <td>663626</td>\n",
       "      <td>152519</td>\n",
       "      <td>482402</td>\n",
       "      <td>772298</td>\n",
       "      <td>772298</td>\n",
       "      <td>580962</td>\n",
       "      <td>667711</td>\n",
       "      <td>597520</td>\n",
       "      <td>978859</td>\n",
       "      <td>595783</td>\n",
       "      <td>901675</td>\n",
       "      <td>133483</td>\n",
       "      <td>818821</td>\n",
       "      <td>595783</td>\n",
       "      <td>651001</td>\n",
       "      <td>51032</td>\n",
       "    </tr>\n",
       "  </tbody>\n",
       "</table>\n",
       "</div>"
      ],
      "text/plain": [
       "            id    hour      C1  banner_pos  site_category  app_id  app_domain  \\\n",
       "617759  651001  207933  758049      308882         693137  663626      152519   \n",
       "693227  651001  356800  758049      772298         284485  663626      152519   \n",
       "906065  651001  927192  758049      308882         693137  663626      152519   \n",
       "828507  651001  207933  758049      772298          67389  596908      222881   \n",
       "869730  651001  356800  765578      772298          67389  663626      152519   \n",
       "\n",
       "        app_category  device_type  device_conn_type     C14     C15     C16  \\\n",
       "617759        482402       308882            772298  240805  667711  597520   \n",
       "693227        482402       308882            772298  132631  667711  597520   \n",
       "906065        482402       308882            772298  337718  667711  597520   \n",
       "828507        676104       308882            772298  425277  667711  597520   \n",
       "869730        482402       772298            772298  580962  667711  597520   \n",
       "\n",
       "           C17     C18     C19     C20     C21  weekday    user    site  \n",
       "617759  795573  595783  901675  133483  818821   661989  651001  727727  \n",
       "693227  195965  595783  603214  246131  748127   595783  651001  353872  \n",
       "906065  903537  661989  876307  915223  145351   252995  651001  206459  \n",
       "828507  472774  661989  664581  663082  560186   661989  651001  991351  \n",
       "869730  978859  595783  901675  133483  818821   595783  651001   51032  "
      ]
     },
     "metadata": {},
     "output_type": "display_data"
    }
   ],
   "source": [
    "display(\"Xtrain_ha\", Xtrain_ha.head())\n",
    "display(\"Xtest_ha\", Xtest_ha.head())"
   ]
  },
  {
   "cell_type": "markdown",
   "metadata": {
    "colab_type": "text",
    "id": "vK7djfplXjGS"
   },
   "source": [
    "Now we can train a RandomForestClassifier on Xtrain_ha and evaluate its performance on Xtest_ha. We chose 1024 estimators, min_samples_leaf=20 and verbose=1 in order to monitor the fitting step.\n",
    "    <br>\n",
    "</font>"
   ]
  },
  {
   "cell_type": "code",
   "execution_count": 93,
   "metadata": {
    "colab": {
     "base_uri": "https://localhost:8080/",
     "height": 292
    },
    "colab_type": "code",
    "id": "Qx4UIs1VXjGT",
    "outputId": "63504411-025e-4a5e-a0ff-cd1f66528149"
   },
   "outputs": [
    {
     "name": "stderr",
     "output_type": "stream",
     "text": [
      "[Parallel(n_jobs=-1)]: Using backend ThreadingBackend with 8 concurrent workers.\n",
      "[Parallel(n_jobs=-1)]: Done  34 tasks      | elapsed:   17.2s\n",
      "[Parallel(n_jobs=-1)]: Done 184 tasks      | elapsed:  1.3min\n",
      "[Parallel(n_jobs=-1)]: Done 434 tasks      | elapsed:  3.1min\n",
      "[Parallel(n_jobs=-1)]: Done 784 tasks      | elapsed:  5.5min\n"
     ]
    },
    {
     "name": "stdout",
     "output_type": "stream",
     "text": [
      "CPU times: user 50min 8s, sys: 6min 55s, total: 57min 3s\n",
      "Wall time: 7min 9s\n"
     ]
    },
    {
     "name": "stderr",
     "output_type": "stream",
     "text": [
      "[Parallel(n_jobs=-1)]: Done 1024 out of 1024 | elapsed:  7.1min finished\n"
     ]
    },
    {
     "data": {
      "text/plain": [
       "RandomForestClassifier(bootstrap=True, class_weight=None, criterion='gini',\n",
       "            max_depth=None, max_features='auto', max_leaf_nodes=None,\n",
       "            min_impurity_decrease=0.0, min_impurity_split=None,\n",
       "            min_samples_leaf=20, min_samples_split=2,\n",
       "            min_weight_fraction_leaf=0.0, n_estimators=1024, n_jobs=-1,\n",
       "            oob_score=False, random_state=None, verbose=1,\n",
       "            warm_start=False)"
      ]
     },
     "execution_count": 93,
     "metadata": {},
     "output_type": "execute_result"
    }
   ],
   "source": [
    "from sklearn.ensemble import RandomForestClassifier \n",
    "rf = RandomForestClassifier(n_estimators= 1024, min_samples_leaf= 20, verbose= 1, n_jobs= -1)\n",
    "%time rf.fit(Xtrain_ha, ytrain)"
   ]
  },
  {
   "cell_type": "code",
   "execution_count": 94,
   "metadata": {},
   "outputs": [
    {
     "name": "stderr",
     "output_type": "stream",
     "text": [
      "[Parallel(n_jobs=8)]: Using backend ThreadingBackend with 8 concurrent workers.\n",
      "[Parallel(n_jobs=8)]: Done  34 tasks      | elapsed:    0.3s\n",
      "[Parallel(n_jobs=8)]: Done 184 tasks      | elapsed:    1.3s\n",
      "[Parallel(n_jobs=8)]: Done 434 tasks      | elapsed:    2.9s\n",
      "[Parallel(n_jobs=8)]: Done 784 tasks      | elapsed:    5.3s\n",
      "[Parallel(n_jobs=8)]: Done 1024 out of 1024 | elapsed:    6.9s finished\n",
      "[Parallel(n_jobs=8)]: Using backend ThreadingBackend with 8 concurrent workers.\n",
      "[Parallel(n_jobs=8)]: Done  34 tasks      | elapsed:    0.3s\n",
      "[Parallel(n_jobs=8)]: Done 184 tasks      | elapsed:    1.3s\n",
      "[Parallel(n_jobs=8)]: Done 434 tasks      | elapsed:    2.9s\n",
      "[Parallel(n_jobs=8)]: Done 784 tasks      | elapsed:    5.3s\n",
      "[Parallel(n_jobs=8)]: Done 1024 out of 1024 | elapsed:    6.9s finished\n"
     ]
    }
   ],
   "source": [
    "soft = rf.predict_proba(Xtest_ha)\n",
    "hard = rf.predict(Xtest_ha)"
   ]
  },
  {
   "cell_type": "code",
   "execution_count": 95,
   "metadata": {},
   "outputs": [
    {
     "name": "stdout",
     "output_type": "stream",
     "text": [
      "The accuracy of the model is: 0.83353\n",
      "The log loss is equal to : 0.40103\n",
      "The Area Under the Curve ROC is equal to: 0.74117\n"
     ]
    }
   ],
   "source": [
    "print(f'The accuracy of the model is: {np.round(accuracy_score(ytest, hard), 5)}')\n",
    "print(f'The log loss is equal to : {np.round(log_loss(ytest, soft), 5)}')\n",
    "print(f'The Area Under the Curve ROC is equal to: {np.round(roc_auc_score(ytest, soft[:,1]), 5)}')"
   ]
  },
  {
   "cell_type": "code",
   "execution_count": 96,
   "metadata": {},
   "outputs": [],
   "source": [
    "df_compare['Accuracy']['Random Forest Xtrain with Hash'] = np.round(accuracy_score(ytest, hard), 5)\n",
    "df_compare['Log Loss']['Random Forest Xtrain with Hash'] = np.round(log_loss(ytest, soft), 5)\n",
    "df_compare['ROC AUC']['Random Forest Xtrain with Hash'] = np.round(roc_auc_score(ytest, soft[:,1]), 5)"
   ]
  },
  {
   "cell_type": "markdown",
   "metadata": {
    "colab_type": "text",
    "id": "C6RoQz6DXjGX"
   },
   "source": [
    "Let us compare it with xgboost performance on the same hashed dataset.\n",
    "</font>"
   ]
  },
  {
   "cell_type": "code",
   "execution_count": 97,
   "metadata": {
    "colab": {
     "base_uri": "https://localhost:8080/",
     "height": 51
    },
    "colab_type": "code",
    "id": "YISGhVweXjGX",
    "outputId": "b607cf00-56bd-420c-e298-36b732dc3db2"
   },
   "outputs": [
    {
     "name": "stdout",
     "output_type": "stream",
     "text": [
      "CPU times: user 18min 14s, sys: 2min, total: 20min 14s\n",
      "Wall time: 2min 31s\n"
     ]
    },
    {
     "data": {
      "text/plain": [
       "XGBClassifier(base_score=0.5, booster='gbtree', colsample_bylevel=1,\n",
       "       colsample_bytree=1, gamma=0, learning_rate=0.6, max_delta_step=0,\n",
       "       max_depth=3, min_child_weight=1, min_samples_leaf=20, missing=None,\n",
       "       n_estimators=1024, n_jobs=-1, nthread=None,\n",
       "       objective='binary:logistic', random_state=0, reg_alpha=0,\n",
       "       reg_lambda=1, scale_pos_weight=1, seed=None, silent=True,\n",
       "       subsample=1, verbose=1)"
      ]
     },
     "execution_count": 97,
     "metadata": {},
     "output_type": "execute_result"
    }
   ],
   "source": [
    "xgb = XGBClassifier(n_estimators= 1024, min_samples_leaf= 20, learning_rate= 0.6, verbose= 1, n_jobs= -1) # Fill here\n",
    "%time xgb.fit(Xtrain_ha, ytrain) # the '%time' command will return the execution time of the fitting step"
   ]
  },
  {
   "cell_type": "code",
   "execution_count": 98,
   "metadata": {
    "colab": {
     "base_uri": "https://localhost:8080/",
     "height": 34
    },
    "colab_type": "code",
    "id": "yGRZKZ65mVqY",
    "outputId": "af375715-07f1-4299-8780-7f1175869c9b"
   },
   "outputs": [],
   "source": [
    "soft = xgb.predict_proba(Xtest_ha)\n",
    "hard = xgb.predict(Xtest_ha)"
   ]
  },
  {
   "cell_type": "code",
   "execution_count": 99,
   "metadata": {},
   "outputs": [
    {
     "name": "stdout",
     "output_type": "stream",
     "text": [
      "The accuracy of the model is: 0.8347\n",
      "The log loss is equal to : 0.39802\n",
      "The Area Under the Curve ROC is equal to: 0.74554\n"
     ]
    }
   ],
   "source": [
    "print(f'The accuracy of the model is: {np.round(accuracy_score(ytest, hard), 5)}')\n",
    "print(f'The log loss is equal to : {np.round(log_loss(ytest, soft), 5)}')\n",
    "print(f'The Area Under the Curve ROC is equal to: {np.round(roc_auc_score(ytest, soft[:,1]), 5)}')"
   ]
  },
  {
   "cell_type": "code",
   "execution_count": 100,
   "metadata": {},
   "outputs": [],
   "source": [
    "df_compare['Accuracy']['XGBoost Xtrain with Hash'] = np.round(accuracy_score(ytest, hard), 5)\n",
    "df_compare['Log Loss']['XGBoost Xtrain with Hash'] = np.round(log_loss(ytest, soft), 5)\n",
    "df_compare['ROC AUC']['XGBoost Xtrain with Hash'] = np.round(roc_auc_score(ytest, soft[:,1]), 5)"
   ]
  },
  {
   "cell_type": "markdown",
   "metadata": {
    "colab_type": "text",
    "id": "34b1LzdiXjGZ"
   },
   "source": [
    "And we plot the ROC and the lift curves for the obtained classifier (xgboost on hashed data).\n",
    "</font>"
   ]
  },
  {
   "cell_type": "code",
   "execution_count": 101,
   "metadata": {
    "colab": {
     "base_uri": "https://localhost:8080/",
     "height": 364
    },
    "colab_type": "code",
    "id": "YQSwH86gXjGZ",
    "outputId": "0c29e867-52cc-4d66-9f28-a9384049825f",
    "scrolled": true
   },
   "outputs": [
    {
     "data": {
      "image/png": "[encoded data removed]",
      "text/plain": [
       "<Figure size 504x360 with 1 Axes>"
      ]
     },
     "metadata": {},
     "output_type": "display_data"
    }
   ],
   "source": [
    "# Plot the lift curve\n",
    "plt.figure(1, figsize = (7, 5))\n",
    "plotlift(ytest, soft[:,1])\n",
    "plt.axhline(y= 1, linestyle='--', color='g', label= \"Lift if random model\")\n",
    "plt.title(\"Lift curve on XGBoost on hashed data\")\n",
    "plt.axvline(x = 0.2 , linestyle='--', color='r') \n",
    "plt.legend()\n",
    "plt.show()"
   ]
  },
  {
   "cell_type": "code",
   "execution_count": 102,
   "metadata": {
    "colab": {
     "base_uri": "https://localhost:8080/",
     "height": 376
    },
    "colab_type": "code",
    "id": "L5lyoAqcXjGa",
    "outputId": "36188902-1daa-4ffe-c7b1-5b057893b20e"
   },
   "outputs": [
    {
     "data": {
      "image/png": "[encoded data removed]",
      "text/plain": [
       "<Figure size 504x360 with 1 Axes>"
      ]
     },
     "metadata": {},
     "output_type": "display_data"
    }
   ],
   "source": [
    "preds = soft[:,1]\n",
    "fpr, tpr, threshold = roc_curve(ytest, preds)\n",
    "roc_auc = auc(fpr, tpr)\n",
    "\n",
    "plt.figure(1, figsize = (7, 5))\n",
    "plt.title('Roc Curve')\n",
    "plt.plot(fpr, tpr, label = 'AUC = %0.3f' % roc_auc)\n",
    "plt.plot([0, 1], [0, 1],'r--')\n",
    "plt.ylabel('True Positive Rate')\n",
    "plt.xlabel('False Positive Rate')\n",
    "plt.legend()\n",
    "plt.show()"
   ]
  },
  {
   "cell_type": "markdown",
   "metadata": {
    "colab_type": "text",
    "id": "siYi9hZUXjGc"
   },
   "source": [
    "Hashing produces columns of integers arbitrarily ordered. One can wonder if adding more columns hashed in a different fashion would lead to better performance. So we add hashed columns by recursively hashing the previous ones: complete the following code."
   ]
  },
  {
   "cell_type": "code",
   "execution_count": 103,
   "metadata": {
    "colab": {},
    "colab_type": "code",
    "id": "7anDsOcWXjGd"
   },
   "outputs": [],
   "source": [
    "Xtrain_haha = pd.DataFrame(Xtrain_ha).copy()\n",
    "Xtest_haha = pd.DataFrame(Xtest_ha).copy()\n",
    "\n",
    "n_hash = 1\n",
    "cols = Xtrain_ha.columns\n",
    "for l in range(n_hash):\n",
    "    for col in cols:\n",
    "        Xtrain_haha[col + '-hash'] = Xtrain_haha[col].apply(lambda x: hash(str(x))%1000000)\n",
    "        Xtest_haha[col + '-hash'] = Xtest_haha[col].apply(lambda x: hash(str(x))%1000000)\n",
    "    cols = [col + '-hash' for col in cols]"
   ]
  },
  {
   "cell_type": "markdown",
   "metadata": {
    "colab_type": "text",
    "id": "53EfKNRpXjGe"
   },
   "source": [
    "Now let us evaluate the performance of a random forest and/or an xgboost clasifier on these enlarged dataset.\n",
    "</font>"
   ]
  },
  {
   "cell_type": "markdown",
   "metadata": {},
   "source": [
    "### XGBoost  Classifier:"
   ]
  },
  {
   "cell_type": "code",
   "execution_count": 104,
   "metadata": {
    "colab": {
     "base_uri": "https://localhost:8080/",
     "height": 51
    },
    "colab_type": "code",
    "id": "foEmKONkXjGe",
    "outputId": "6a4bb514-728a-4eb7-9c47-00af5d505c56"
   },
   "outputs": [
    {
     "name": "stdout",
     "output_type": "stream",
     "text": [
      "CPU times: user 33min 10s, sys: 2min, total: 35min 11s\n",
      "Wall time: 4min 24s\n"
     ]
    },
    {
     "data": {
      "text/plain": [
       "XGBClassifier(base_score=0.5, booster='gbtree', colsample_bylevel=1,\n",
       "       colsample_bytree=1, gamma=0, learning_rate=0.6, max_delta_step=0,\n",
       "       max_depth=3, min_child_weight=1, min_samples_leaf=20, missing=None,\n",
       "       n_estimators=1024, n_jobs=-1, nthread=None,\n",
       "       objective='binary:logistic', random_state=0, reg_alpha=0,\n",
       "       reg_lambda=1, scale_pos_weight=1, seed=None, silent=True,\n",
       "       subsample=1)"
      ]
     },
     "execution_count": 104,
     "metadata": {},
     "output_type": "execute_result"
    }
   ],
   "source": [
    "xgb = XGBClassifier(n_estimators= 1024, min_samples_leaf= 20, learning_rate= 0.6, n_jobs= -1) # Fill here\n",
    "%time xgb.fit(Xtrain_haha, ytrain) # the '%time' command will return the execution time of the fitting step"
   ]
  },
  {
   "cell_type": "code",
   "execution_count": 105,
   "metadata": {
    "colab": {
     "base_uri": "https://localhost:8080/",
     "height": 34
    },
    "colab_type": "code",
    "id": "6eQavnqhnsW8",
    "outputId": "bf345563-7ef3-476f-fd42-4245529f9703"
   },
   "outputs": [],
   "source": [
    "soft = xgb.predict_proba(Xtest_haha)\n",
    "hard = xgb.predict(Xtest_haha)"
   ]
  },
  {
   "cell_type": "code",
   "execution_count": 106,
   "metadata": {},
   "outputs": [
    {
     "name": "stdout",
     "output_type": "stream",
     "text": [
      "The accuracy of the model is: 0.83467\n",
      "The log loss is equal to : 0.39818\n",
      "The Area Under the Curve ROC is equal to: 0.74509\n"
     ]
    }
   ],
   "source": [
    "print(f'The accuracy of the model is: {np.round(accuracy_score(ytest, hard), 5)}')\n",
    "print(f'The log loss is equal to : {np.round(log_loss(ytest, soft), 5)}')\n",
    "print(f'The Area Under the Curve ROC is equal to: {np.round(roc_auc_score(ytest, soft[:,1]), 5)}')"
   ]
  },
  {
   "cell_type": "code",
   "execution_count": 107,
   "metadata": {},
   "outputs": [],
   "source": [
    "df_compare['Accuracy']['XGBoost Xtrain with enlarge set'] = np.round(accuracy_score(ytest, hard), 5)\n",
    "df_compare['Log Loss']['XGBoost Xtrain with enlarge set'] = np.round(log_loss(ytest, soft), 5)\n",
    "df_compare['ROC AUC']['XGBoost Xtrain with enlarge set'] = np.round(roc_auc_score(ytest, soft[:,1]), 5)"
   ]
  },
  {
   "cell_type": "markdown",
   "metadata": {},
   "source": [
    "### Random Forest Classifier:"
   ]
  },
  {
   "cell_type": "code",
   "execution_count": 108,
   "metadata": {},
   "outputs": [
    {
     "name": "stderr",
     "output_type": "stream",
     "text": [
      "[Parallel(n_jobs=-1)]: Using backend ThreadingBackend with 8 concurrent workers.\n",
      "[Parallel(n_jobs=-1)]: Done  34 tasks      | elapsed:   22.1s\n",
      "[Parallel(n_jobs=-1)]: Done 184 tasks      | elapsed:  1.8min\n",
      "[Parallel(n_jobs=-1)]: Done 434 tasks      | elapsed:  4.1min\n",
      "[Parallel(n_jobs=-1)]: Done 784 tasks      | elapsed:  7.3min\n"
     ]
    },
    {
     "name": "stdout",
     "output_type": "stream",
     "text": [
      "CPU times: user 1h 9min 34s, sys: 6min 36s, total: 1h 16min 10s\n",
      "Wall time: 9min 33s\n"
     ]
    },
    {
     "name": "stderr",
     "output_type": "stream",
     "text": [
      "[Parallel(n_jobs=-1)]: Done 1024 out of 1024 | elapsed:  9.5min finished\n"
     ]
    },
    {
     "data": {
      "text/plain": [
       "RandomForestClassifier(bootstrap=True, class_weight=None, criterion='gini',\n",
       "            max_depth=None, max_features='auto', max_leaf_nodes=None,\n",
       "            min_impurity_decrease=0.0, min_impurity_split=None,\n",
       "            min_samples_leaf=20, min_samples_split=2,\n",
       "            min_weight_fraction_leaf=0.0, n_estimators=1024, n_jobs=-1,\n",
       "            oob_score=False, random_state=None, verbose=1,\n",
       "            warm_start=False)"
      ]
     },
     "execution_count": 108,
     "metadata": {},
     "output_type": "execute_result"
    }
   ],
   "source": [
    "rf = RandomForestClassifier(n_estimators= 1024, min_samples_leaf= 20, verbose= 1, n_jobs= -1)\n",
    "%time rf.fit(Xtrain_haha, ytrain)"
   ]
  },
  {
   "cell_type": "code",
   "execution_count": 109,
   "metadata": {},
   "outputs": [
    {
     "name": "stderr",
     "output_type": "stream",
     "text": [
      "[Parallel(n_jobs=8)]: Using backend ThreadingBackend with 8 concurrent workers.\n",
      "[Parallel(n_jobs=8)]: Done  34 tasks      | elapsed:    0.3s\n",
      "[Parallel(n_jobs=8)]: Done 184 tasks      | elapsed:    1.5s\n",
      "[Parallel(n_jobs=8)]: Done 434 tasks      | elapsed:    3.4s\n",
      "[Parallel(n_jobs=8)]: Done 784 tasks      | elapsed:    6.2s\n",
      "[Parallel(n_jobs=8)]: Done 1024 out of 1024 | elapsed:    8.0s finished\n",
      "[Parallel(n_jobs=8)]: Using backend ThreadingBackend with 8 concurrent workers.\n",
      "[Parallel(n_jobs=8)]: Done  34 tasks      | elapsed:    0.3s\n",
      "[Parallel(n_jobs=8)]: Done 184 tasks      | elapsed:    1.5s\n",
      "[Parallel(n_jobs=8)]: Done 434 tasks      | elapsed:    3.4s\n",
      "[Parallel(n_jobs=8)]: Done 784 tasks      | elapsed:    6.1s\n",
      "[Parallel(n_jobs=8)]: Done 1024 out of 1024 | elapsed:    8.0s finished\n"
     ]
    }
   ],
   "source": [
    "soft = rf.predict_proba(Xtest_haha)\n",
    "hard = rf.predict(Xtest_haha)"
   ]
  },
  {
   "cell_type": "code",
   "execution_count": 110,
   "metadata": {},
   "outputs": [
    {
     "name": "stdout",
     "output_type": "stream",
     "text": [
      "The accuracy of the model is: 0.83406\n",
      "The log loss is equal to : 0.3995\n",
      "The Area Under the Curve ROC is equal to: 0.74343\n"
     ]
    }
   ],
   "source": [
    "print(f'The accuracy of the model is: {np.round(accuracy_score(ytest, hard), 5)}')\n",
    "print(f'The log loss is equal to : {np.round(log_loss(ytest, soft), 5)}')\n",
    "print(f'The Area Under the Curve ROC is equal to: {np.round(roc_auc_score(ytest, soft[:,1]), 5)}')"
   ]
  },
  {
   "cell_type": "code",
   "execution_count": 111,
   "metadata": {},
   "outputs": [],
   "source": [
    "df_compare['Accuracy']['Random Forest Xtrain with enlarge set'] = np.round(accuracy_score(ytest, hard), 5)\n",
    "df_compare['Log Loss']['Random Forest Xtrain with enlarge set'] = np.round(log_loss(ytest, soft), 5)\n",
    "df_compare['ROC AUC']['Random Forest Xtrain with enlarge set'] = np.round(roc_auc_score(ytest, soft[:,1]), 5)"
   ]
  },
  {
   "cell_type": "markdown",
   "metadata": {
    "colab_type": "text",
    "id": "4i5EYnDXXjGf"
   },
   "source": [
    "# Conclusion"
   ]
  },
  {
   "cell_type": "markdown",
   "metadata": {},
   "source": [
    "Let us compare the various models we have used throughout this notebook:"
   ]
  },
  {
   "cell_type": "code",
   "execution_count": 117,
   "metadata": {},
   "outputs": [
    {
     "data": {
      "text/html": [
       "<div>\n",
       "<style scoped>\n",
       "    .dataframe tbody tr th:only-of-type {\n",
       "        vertical-align: middle;\n",
       "    }\n",
       "\n",
       "    .dataframe tbody tr th {\n",
       "        vertical-align: top;\n",
       "    }\n",
       "\n",
       "    .dataframe thead th {\n",
       "        text-align: right;\n",
       "    }\n",
       "</style>\n",
       "<table border=\"1\" class=\"dataframe\">\n",
       "  <thead>\n",
       "    <tr style=\"text-align: right;\">\n",
       "      <th></th>\n",
       "      <th>Accuracy</th>\n",
       "      <th>Log Loss</th>\n",
       "      <th>ROC AUC</th>\n",
       "    </tr>\n",
       "  </thead>\n",
       "  <tbody>\n",
       "    <tr>\n",
       "      <th>XGBoost Xtrain with Hash</th>\n",
       "      <td>0.8347</td>\n",
       "      <td>0.39802</td>\n",
       "      <td>0.74554</td>\n",
       "    </tr>\n",
       "    <tr>\n",
       "      <th>XGBoost Xtrain with enlarge set</th>\n",
       "      <td>0.83467</td>\n",
       "      <td>0.39818</td>\n",
       "      <td>0.74509</td>\n",
       "    </tr>\n",
       "    <tr>\n",
       "      <th>XGBoost Xtrain with leafs 1024</th>\n",
       "      <td>0.83406</td>\n",
       "      <td>0.39857</td>\n",
       "      <td>0.7444</td>\n",
       "    </tr>\n",
       "    <tr>\n",
       "      <th>Random Forest Xtrain with enlarge set</th>\n",
       "      <td>0.83406</td>\n",
       "      <td>0.3995</td>\n",
       "      <td>0.74343</td>\n",
       "    </tr>\n",
       "    <tr>\n",
       "      <th>Logit Xtrain with leafs</th>\n",
       "      <td>0.83409</td>\n",
       "      <td>0.39993</td>\n",
       "      <td>0.74177</td>\n",
       "    </tr>\n",
       "    <tr>\n",
       "      <th>Random Forest Xtrain with Hash</th>\n",
       "      <td>0.83353</td>\n",
       "      <td>0.40103</td>\n",
       "      <td>0.74117</td>\n",
       "    </tr>\n",
       "    <tr>\n",
       "      <th>Logit Xtrain_oh[:, cols_to_keep]</th>\n",
       "      <td>0.83375</td>\n",
       "      <td>0.40116</td>\n",
       "      <td>0.7386</td>\n",
       "    </tr>\n",
       "    <tr>\n",
       "      <th>XGBoost Xtrain with leafs</th>\n",
       "      <td>0.83348</td>\n",
       "      <td>0.40623</td>\n",
       "      <td>0.72903</td>\n",
       "    </tr>\n",
       "    <tr>\n",
       "      <th>GradientBoosting Xtrain_oh[:, cols_to_keep]</th>\n",
       "      <td>0.83344</td>\n",
       "      <td>0.40916</td>\n",
       "      <td>0.72524</td>\n",
       "    </tr>\n",
       "    <tr>\n",
       "      <th>Logit Xtrain_oh</th>\n",
       "      <td>0.83043</td>\n",
       "      <td>0.42512</td>\n",
       "      <td>0.67628</td>\n",
       "    </tr>\n",
       "  </tbody>\n",
       "</table>\n",
       "</div>"
      ],
      "text/plain": [
       "                                            Accuracy Log Loss  ROC AUC\n",
       "XGBoost Xtrain with Hash                      0.8347  0.39802  0.74554\n",
       "XGBoost Xtrain with enlarge set              0.83467  0.39818  0.74509\n",
       "XGBoost Xtrain with leafs 1024               0.83406  0.39857   0.7444\n",
       "Random Forest Xtrain with enlarge set        0.83406   0.3995  0.74343\n",
       "Logit Xtrain with leafs                      0.83409  0.39993  0.74177\n",
       "Random Forest Xtrain with Hash               0.83353  0.40103  0.74117\n",
       "Logit Xtrain_oh[:, cols_to_keep]             0.83375  0.40116   0.7386\n",
       "XGBoost Xtrain with leafs                    0.83348  0.40623  0.72903\n",
       "GradientBoosting Xtrain_oh[:, cols_to_keep]  0.83344  0.40916  0.72524\n",
       "Logit Xtrain_oh                              0.83043  0.42512  0.67628"
      ]
     },
     "execution_count": 117,
     "metadata": {},
     "output_type": "execute_result"
    }
   ],
   "source": [
    "df_compare.sort_values(by= 'Log Loss')"
   ]
  },
  {
   "cell_type": "markdown",
   "metadata": {
    "colab_type": "raw",
    "id": "0AfJT6gFXjGf"
   },
   "source": [
    "* The best models are : \n",
    "    * XGBClassifier(n_estimators= 1024, min_samples_leaf= 20, learning_rate= 0.6, verbose= 1, n_jobs= -1) on Xtrain_ha with the following metrics. It is also one of the most efficient in terms of computation time. \n",
    "        * Log_loss : 0.39802479836445326\n",
    "        * ROC AUC score: 0.7455362181822369\n",
    "        * Wall time: 2min 29s\n",
    "        \n",
    "* It means that only adding the first hashed columns improved the performance, but adding a second set of hashed columns in a different way did not result in better metrics. \n",
    "\n",
    "* The accuracy is indeed a bad metrics since it does not really show the real value of models on the data because of the imbalanced labels. "
   ]
  }
 ],
 "metadata": {
  "accelerator": "GPU",
  "colab": {
   "collapsed_sections": [],
   "name": "TP8_NGUYEN_Celine.ipynb",
   "provenance": [],
   "version": "0.3.2"
  },
  "kernelspec": {
   "display_name": "Python 3",
   "language": "python",
   "name": "python3"
  },
  "language_info": {
   "codemirror_mode": {
    "name": "ipython",
    "version": 3
   },
   "file_extension": ".py",
   "mimetype": "text/x-python",
   "name": "python",
   "nbconvert_exporter": "python",
   "pygments_lexer": "ipython3",
   "version": "3.7.1"
  }
 },
 "nbformat": 4,
 "nbformat_minor": 1
}
